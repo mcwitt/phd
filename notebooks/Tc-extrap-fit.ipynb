{
 "cells": [
  {
   "cell_type": "code",
   "execution_count": 1,
   "metadata": {
    "collapsed": false
   },
   "outputs": [
    {
     "name": "stdout",
     "output_type": "stream",
     "text": [
      "Populating the interactive namespace from numpy and matplotlib\n"
     ]
    }
   ],
   "source": [
    "%pylab inline"
   ]
  },
  {
   "cell_type": "code",
   "execution_count": 2,
   "metadata": {
    "collapsed": true
   },
   "outputs": [],
   "source": [
    "import pandas as pd\n",
    "import multiprocessing as mp\n",
    "import scipy.optimize as opt\n",
    "import scipy.stats as stats\n",
    "from scipy.interpolate import UnivariateSpline\n",
    "from scipy.optimize import curve_fit"
   ]
  },
  {
   "cell_type": "code",
   "execution_count": 3,
   "metadata": {
    "collapsed": false
   },
   "outputs": [],
   "source": [
    "kw = dict(columns=['q2','q4'])\n",
    "\n",
    "with pd.HDFStore('/home/matt/Dropbox/data/nonextensive/data.h5') as store:\n",
    "    \n",
    "    data = {'complete': store.select('complete', **kw), \n",
    "            'diluted': store.select('diluted', **kw).reset_index('z', drop=True)}\n",
    "    \n",
    "    data = pd.concat(data, names=['model'])"
   ]
  },
  {
   "cell_type": "code",
   "execution_count": 4,
   "metadata": {
    "collapsed": false
   },
   "outputs": [],
   "source": [
    "data['chi_s'] = data.eval('L**(2/3)*q2')"
   ]
  },
  {
   "cell_type": "code",
   "execution_count": 53,
   "metadata": {
    "collapsed": false
   },
   "outputs": [
    {
     "data": {
      "text/html": [
       "<div>\n",
       "<table border=\"1\" class=\"dataframe\">\n",
       "  <thead>\n",
       "    <tr style=\"text-align: right;\">\n",
       "      <th></th>\n",
       "      <th></th>\n",
       "      <th></th>\n",
       "      <th></th>\n",
       "      <th></th>\n",
       "      <th>q2</th>\n",
       "      <th>q4</th>\n",
       "      <th>chi_s</th>\n",
       "    </tr>\n",
       "    <tr>\n",
       "      <th>model</th>\n",
       "      <th>sigma</th>\n",
       "      <th>L</th>\n",
       "      <th>T</th>\n",
       "      <th>sample</th>\n",
       "      <th></th>\n",
       "      <th></th>\n",
       "      <th></th>\n",
       "    </tr>\n",
       "  </thead>\n",
       "  <tbody>\n",
       "    <tr>\n",
       "      <th rowspan=\"5\" valign=\"top\">complete</th>\n",
       "      <th rowspan=\"5\" valign=\"top\">0</th>\n",
       "      <th rowspan=\"5\" valign=\"top\">64</th>\n",
       "      <th rowspan=\"5\" valign=\"top\">0.5</th>\n",
       "      <th>0</th>\n",
       "      <td>0.345687</td>\n",
       "      <td>0.173157</td>\n",
       "      <td>5.530992</td>\n",
       "    </tr>\n",
       "    <tr>\n",
       "      <th>1</th>\n",
       "      <td>0.497809</td>\n",
       "      <td>0.294160</td>\n",
       "      <td>7.964939</td>\n",
       "    </tr>\n",
       "    <tr>\n",
       "      <th>2</th>\n",
       "      <td>0.294169</td>\n",
       "      <td>0.125569</td>\n",
       "      <td>4.706706</td>\n",
       "    </tr>\n",
       "    <tr>\n",
       "      <th>3</th>\n",
       "      <td>0.308260</td>\n",
       "      <td>0.142238</td>\n",
       "      <td>4.932166</td>\n",
       "    </tr>\n",
       "    <tr>\n",
       "      <th>4</th>\n",
       "      <td>0.185168</td>\n",
       "      <td>0.076925</td>\n",
       "      <td>2.962686</td>\n",
       "    </tr>\n",
       "  </tbody>\n",
       "</table>\n",
       "</div>"
      ],
      "text/plain": [
       "                                    q2        q4     chi_s\n",
       "model    sigma L  T   sample                              \n",
       "complete 0     64 0.5 0       0.345687  0.173157  5.530992\n",
       "                      1       0.497809  0.294160  7.964939\n",
       "                      2       0.294169  0.125569  4.706706\n",
       "                      3       0.308260  0.142238  4.932166\n",
       "                      4       0.185168  0.076925  2.962686"
      ]
     },
     "execution_count": 53,
     "metadata": {},
     "output_type": "execute_result"
    }
   ],
   "source": [
    "data.head()"
   ]
  },
  {
   "cell_type": "code",
   "execution_count": 54,
   "metadata": {
    "collapsed": true
   },
   "outputs": [],
   "source": [
    "groups = data.groupby(level=['model','sigma','L','T'])"
   ]
  },
  {
   "cell_type": "code",
   "execution_count": 55,
   "metadata": {
    "collapsed": true
   },
   "outputs": [],
   "source": [
    "def binderG(df):\n",
    "    n = len(df)\n",
    "    xj = (df.sum() - df) / (n - 1.)\n",
    "    gj = xj.eval('0.5*(3. - q4/q2**2)')\n",
    "    return pd.Series({'mean': gj.mean(), 'sem': sqrt(n-1) * gj.std()})"
   ]
  },
  {
   "cell_type": "code",
   "execution_count": 56,
   "metadata": {
    "collapsed": true
   },
   "outputs": [],
   "source": [
    "df = {'G': groups.apply(binderG),\n",
    "      'chi_s': groups['chi_s'].agg(['mean','sem'])}\n",
    "\n",
    "df = pd.concat(df, names=['meas'])"
   ]
  },
  {
   "cell_type": "code",
   "execution_count": 57,
   "metadata": {
    "collapsed": false
   },
   "outputs": [
    {
     "data": {
      "text/html": [
       "<div>\n",
       "<table border=\"1\" class=\"dataframe\">\n",
       "  <thead>\n",
       "    <tr style=\"text-align: right;\">\n",
       "      <th></th>\n",
       "      <th></th>\n",
       "      <th></th>\n",
       "      <th></th>\n",
       "      <th></th>\n",
       "      <th>mean</th>\n",
       "      <th>sem</th>\n",
       "    </tr>\n",
       "    <tr>\n",
       "      <th>meas</th>\n",
       "      <th>model</th>\n",
       "      <th>sigma</th>\n",
       "      <th>L</th>\n",
       "      <th>T</th>\n",
       "      <th></th>\n",
       "      <th></th>\n",
       "    </tr>\n",
       "  </thead>\n",
       "  <tbody>\n",
       "    <tr>\n",
       "      <th rowspan=\"5\" valign=\"top\">G</th>\n",
       "      <th rowspan=\"5\" valign=\"top\">complete</th>\n",
       "      <th rowspan=\"5\" valign=\"top\">0</th>\n",
       "      <th rowspan=\"5\" valign=\"top\">64</th>\n",
       "      <th>0.500</th>\n",
       "      <td>0.756574</td>\n",
       "      <td>0.001338</td>\n",
       "    </tr>\n",
       "    <tr>\n",
       "      <th>0.525</th>\n",
       "      <td>0.737986</td>\n",
       "      <td>0.001381</td>\n",
       "    </tr>\n",
       "    <tr>\n",
       "      <th>0.550</th>\n",
       "      <td>0.718358</td>\n",
       "      <td>0.001422</td>\n",
       "    </tr>\n",
       "    <tr>\n",
       "      <th>0.575</th>\n",
       "      <td>0.697232</td>\n",
       "      <td>0.001464</td>\n",
       "    </tr>\n",
       "    <tr>\n",
       "      <th>0.600</th>\n",
       "      <td>0.674997</td>\n",
       "      <td>0.001502</td>\n",
       "    </tr>\n",
       "  </tbody>\n",
       "</table>\n",
       "</div>"
      ],
      "text/plain": [
       "                                  mean       sem\n",
       "meas model    sigma L  T                        \n",
       "G    complete 0     64 0.500  0.756574  0.001338\n",
       "                       0.525  0.737986  0.001381\n",
       "                       0.550  0.718358  0.001422\n",
       "                       0.575  0.697232  0.001464\n",
       "                       0.600  0.674997  0.001502"
      ]
     },
     "execution_count": 57,
     "metadata": {},
     "output_type": "execute_result"
    }
   ],
   "source": [
    "df.head()"
   ]
  },
  {
   "cell_type": "code",
   "execution_count": 58,
   "metadata": {
    "collapsed": false
   },
   "outputs": [],
   "source": [
    "def find_crossing(y1, y2, a, b, **kw):\n",
    "    \n",
    "    T1, T2 = (y.index.get_level_values('T') for y in (y1, y2))\n",
    "    \n",
    "    f1, f2 = (UnivariateSpline(T, y['mean'], w=1/y['sem'], **kw)\n",
    "              for T, y in ((T1, y1), (T2, y2)))\n",
    "    \n",
    "    a = max(a, max(T1[0],  T2[0]))\n",
    "    b = min(b, min(T1[-1], T2[-1]))\n",
    "    \n",
    "    Tx = opt.bisect(lambda T: f1(T) - f2(T), a, b)\n",
    "    return Tx"
   ]
  },
  {
   "cell_type": "code",
   "execution_count": 59,
   "metadata": {
    "collapsed": false
   },
   "outputs": [
    {
     "data": {
      "text/plain": [
       "<matplotlib.lines.Line2D at 0x7fda7455f8d0>"
      ]
     },
     "execution_count": 59,
     "metadata": {},
     "output_type": "execute_result"
    },
    {
     "data": {
      "image/png": "[encoded data removed]",
      "text/plain": [
       "<matplotlib.figure.Figure at 0x7fda85830cc0>"
      ]
     },
     "metadata": {},
     "output_type": "display_data"
    }
   ],
   "source": [
    "y1 = df.loc['G','diluted',0,8192]\n",
    "y2 = df.loc['G','diluted',0,16384]\n",
    "errorbar(y1.index, y1['mean'], y1['sem'])\n",
    "errorbar(y2.index, y2['mean'], y2['sem'])\n",
    "Tx = find_crossing(y1, y2, 1.9, 2.2)\n",
    "axvline(Tx)"
   ]
  },
  {
   "cell_type": "code",
   "execution_count": 60,
   "metadata": {
    "collapsed": true
   },
   "outputs": [],
   "source": [
    "def find_crossings(y, a, b, **kw):\n",
    "    sizes = y.index.get_level_values('L').unique()\n",
    "    Tx = {}\n",
    "\n",
    "    for L1, L2 in zip(sizes[:-1], sizes[1:]):\n",
    "        try:\n",
    "            Tx[L1] = find_crossing(y.xs(L1, level='L'), \n",
    "                                   y.xs(L2, level='L'), \n",
    "                                   a, b, **kw)\n",
    "        except ValueError:\n",
    "            print('problem finding crossing for L={},{}'.format(L1, L2))\n",
    "            \n",
    "    Tx = pd.Series(Tx)\n",
    "    Tx.index.name = 'L'\n",
    "    return Tx"
   ]
  },
  {
   "cell_type": "code",
   "execution_count": 61,
   "metadata": {
    "collapsed": false
   },
   "outputs": [
    {
     "data": {
      "text/html": [
       "<div>\n",
       "<table border=\"1\" class=\"dataframe\">\n",
       "  <thead>\n",
       "    <tr style=\"text-align: right;\">\n",
       "      <th></th>\n",
       "      <th></th>\n",
       "      <th>mean</th>\n",
       "      <th>sem</th>\n",
       "    </tr>\n",
       "    <tr>\n",
       "      <th>L</th>\n",
       "      <th>T</th>\n",
       "      <th></th>\n",
       "      <th></th>\n",
       "    </tr>\n",
       "  </thead>\n",
       "  <tbody>\n",
       "    <tr>\n",
       "      <th rowspan=\"5\" valign=\"top\">64</th>\n",
       "      <th>0.500</th>\n",
       "      <td>0.756574</td>\n",
       "      <td>0.001338</td>\n",
       "    </tr>\n",
       "    <tr>\n",
       "      <th>0.525</th>\n",
       "      <td>0.737986</td>\n",
       "      <td>0.001381</td>\n",
       "    </tr>\n",
       "    <tr>\n",
       "      <th>0.550</th>\n",
       "      <td>0.718358</td>\n",
       "      <td>0.001422</td>\n",
       "    </tr>\n",
       "    <tr>\n",
       "      <th>0.575</th>\n",
       "      <td>0.697232</td>\n",
       "      <td>0.001464</td>\n",
       "    </tr>\n",
       "    <tr>\n",
       "      <th>0.600</th>\n",
       "      <td>0.674997</td>\n",
       "      <td>0.001502</td>\n",
       "    </tr>\n",
       "  </tbody>\n",
       "</table>\n",
       "</div>"
      ],
      "text/plain": [
       "              mean       sem\n",
       "L  T                        \n",
       "64 0.500  0.756574  0.001338\n",
       "   0.525  0.737986  0.001381\n",
       "   0.550  0.718358  0.001422\n",
       "   0.575  0.697232  0.001464\n",
       "   0.600  0.674997  0.001502"
      ]
     },
     "execution_count": 61,
     "metadata": {},
     "output_type": "execute_result"
    }
   ],
   "source": [
    "df.loc['G','complete',0].head()"
   ]
  },
  {
   "cell_type": "code",
   "execution_count": 62,
   "metadata": {
    "collapsed": false
   },
   "outputs": [
    {
     "data": {
      "text/plain": [
       "L\n",
       "64      0.877764\n",
       "128     0.946242\n",
       "256     0.954547\n",
       "512     0.987051\n",
       "1024    0.987071\n",
       "2048    0.985424\n",
       "dtype: float64"
      ]
     },
     "execution_count": 62,
     "metadata": {},
     "output_type": "execute_result"
    }
   ],
   "source": [
    "Tx = find_crossings(df.loc['G','complete',0], 0.8, 1.2)\n",
    "Tx"
   ]
  },
  {
   "cell_type": "code",
   "execution_count": 63,
   "metadata": {
    "collapsed": false
   },
   "outputs": [
    {
     "data": {
      "text/html": [
       "<div>\n",
       "<table border=\"1\" class=\"dataframe\">\n",
       "  <thead>\n",
       "    <tr style=\"text-align: right;\">\n",
       "      <th></th>\n",
       "      <th></th>\n",
       "      <th></th>\n",
       "      <th></th>\n",
       "      <th></th>\n",
       "      <th>mean</th>\n",
       "      <th>sem</th>\n",
       "    </tr>\n",
       "    <tr>\n",
       "      <th>meas</th>\n",
       "      <th>model</th>\n",
       "      <th>sigma</th>\n",
       "      <th>L</th>\n",
       "      <th>T</th>\n",
       "      <th></th>\n",
       "      <th></th>\n",
       "    </tr>\n",
       "  </thead>\n",
       "  <tbody>\n",
       "    <tr>\n",
       "      <th rowspan=\"5\" valign=\"top\">G</th>\n",
       "      <th rowspan=\"5\" valign=\"top\">complete</th>\n",
       "      <th rowspan=\"5\" valign=\"top\">0</th>\n",
       "      <th rowspan=\"5\" valign=\"top\">64</th>\n",
       "      <th>0.500</th>\n",
       "      <td>0.756574</td>\n",
       "      <td>0.001338</td>\n",
       "    </tr>\n",
       "    <tr>\n",
       "      <th>0.525</th>\n",
       "      <td>0.737986</td>\n",
       "      <td>0.001381</td>\n",
       "    </tr>\n",
       "    <tr>\n",
       "      <th>0.550</th>\n",
       "      <td>0.718358</td>\n",
       "      <td>0.001422</td>\n",
       "    </tr>\n",
       "    <tr>\n",
       "      <th>0.575</th>\n",
       "      <td>0.697232</td>\n",
       "      <td>0.001464</td>\n",
       "    </tr>\n",
       "    <tr>\n",
       "      <th>0.600</th>\n",
       "      <td>0.674997</td>\n",
       "      <td>0.001502</td>\n",
       "    </tr>\n",
       "  </tbody>\n",
       "</table>\n",
       "</div>"
      ],
      "text/plain": [
       "                                  mean       sem\n",
       "meas model    sigma L  T                        \n",
       "G    complete 0     64 0.500  0.756574  0.001338\n",
       "                       0.525  0.737986  0.001381\n",
       "                       0.550  0.718358  0.001422\n",
       "                       0.575  0.697232  0.001464\n",
       "                       0.600  0.674997  0.001502"
      ]
     },
     "execution_count": 63,
     "metadata": {},
     "output_type": "execute_result"
    }
   ],
   "source": [
    "df.head()"
   ]
  },
  {
   "cell_type": "code",
   "execution_count": 64,
   "metadata": {
    "collapsed": true
   },
   "outputs": [],
   "source": [
    "def find_crossings_auto(df, bounds={'complete': (0.8, 1.1), 'diluted': (1.8, 2.2)}, **kw):\n",
    "    '''Select appropriate temperature range for model.'''\n",
    "    return pd.concat({model: find_crossings(y, *bounds[model], **kw) \n",
    "                      for model, y in df.groupby(level='model')},\n",
    "                     names=['model'])"
   ]
  },
  {
   "cell_type": "code",
   "execution_count": 65,
   "metadata": {
    "collapsed": false
   },
   "outputs": [
    {
     "data": {
      "text/plain": [
       "meas  sigma  model     L   \n",
       "G     0      complete  64      0.877764\n",
       "                       128     0.946242\n",
       "                       256     0.954547\n",
       "                       512     0.987051\n",
       "                       1024    0.987071\n",
       "dtype: float64"
      ]
     },
     "execution_count": 65,
     "metadata": {},
     "output_type": "execute_result"
    }
   ],
   "source": [
    "Tx = df.groupby(level=['meas','sigma']).apply(find_crossings_auto)\n",
    "Tx.head()"
   ]
  },
  {
   "cell_type": "code",
   "execution_count": 66,
   "metadata": {
    "collapsed": false
   },
   "outputs": [
    {
     "data": {
      "text/html": [
       "<div>\n",
       "<table border=\"1\" class=\"dataframe\">\n",
       "  <thead>\n",
       "    <tr style=\"text-align: right;\">\n",
       "      <th></th>\n",
       "      <th></th>\n",
       "      <th></th>\n",
       "      <th></th>\n",
       "      <th></th>\n",
       "      <th>q2</th>\n",
       "      <th>q4</th>\n",
       "      <th>chi_s</th>\n",
       "    </tr>\n",
       "    <tr>\n",
       "      <th>model</th>\n",
       "      <th>sigma</th>\n",
       "      <th>L</th>\n",
       "      <th>T</th>\n",
       "      <th>sample</th>\n",
       "      <th></th>\n",
       "      <th></th>\n",
       "      <th></th>\n",
       "    </tr>\n",
       "  </thead>\n",
       "  <tbody>\n",
       "    <tr>\n",
       "      <th rowspan=\"5\" valign=\"top\">complete</th>\n",
       "      <th rowspan=\"5\" valign=\"top\">0</th>\n",
       "      <th rowspan=\"5\" valign=\"top\">64</th>\n",
       "      <th rowspan=\"5\" valign=\"top\">0.5</th>\n",
       "      <th>0</th>\n",
       "      <td>0.345687</td>\n",
       "      <td>0.173157</td>\n",
       "      <td>5.530992</td>\n",
       "    </tr>\n",
       "    <tr>\n",
       "      <th>1</th>\n",
       "      <td>0.497809</td>\n",
       "      <td>0.294160</td>\n",
       "      <td>7.964939</td>\n",
       "    </tr>\n",
       "    <tr>\n",
       "      <th>2</th>\n",
       "      <td>0.294169</td>\n",
       "      <td>0.125569</td>\n",
       "      <td>4.706706</td>\n",
       "    </tr>\n",
       "    <tr>\n",
       "      <th>3</th>\n",
       "      <td>0.308260</td>\n",
       "      <td>0.142238</td>\n",
       "      <td>4.932166</td>\n",
       "    </tr>\n",
       "    <tr>\n",
       "      <th>4</th>\n",
       "      <td>0.185168</td>\n",
       "      <td>0.076925</td>\n",
       "      <td>2.962686</td>\n",
       "    </tr>\n",
       "  </tbody>\n",
       "</table>\n",
       "</div>"
      ],
      "text/plain": [
       "                                    q2        q4     chi_s\n",
       "model    sigma L  T   sample                              \n",
       "complete 0     64 0.5 0       0.345687  0.173157  5.530992\n",
       "                      1       0.497809  0.294160  7.964939\n",
       "                      2       0.294169  0.125569  4.706706\n",
       "                      3       0.308260  0.142238  4.932166\n",
       "                      4       0.185168  0.076925  2.962686"
      ]
     },
     "execution_count": 66,
     "metadata": {},
     "output_type": "execute_result"
    }
   ],
   "source": [
    "data.head()"
   ]
  },
  {
   "cell_type": "code",
   "execution_count": 73,
   "metadata": {
    "collapsed": true
   },
   "outputs": [],
   "source": [
    "def compute_crossings(data):\n",
    "    \n",
    "    groups = data.groupby(level=['model','sigma','L','T'], group_keys=False)\n",
    "    \n",
    "    df = {'G': groups.apply(binderG),\n",
    "          'chi_s': groups['chi_s'].agg(['mean','sem'])}\n",
    "    \n",
    "    df = pd.concat(df, names=['meas'])\n",
    "    Tx = df.groupby(level=['meas','sigma']).apply(lambda df: find_crossings_auto(df, s=0)) # XXX no smoothing\n",
    "    Tx = Tx.unstack('meas')\n",
    "    Tx.columns = ['Tx_G', 'Tx_chi']\n",
    "    \n",
    "    return Tx"
   ]
  },
  {
   "cell_type": "code",
   "execution_count": 74,
   "metadata": {
    "collapsed": false
   },
   "outputs": [
    {
     "name": "stdout",
     "output_type": "stream",
     "text": [
      "CPU times: user 14.3 s, sys: 810 ms, total: 15.1 s\n",
      "Wall time: 14.3 s\n"
     ]
    },
    {
     "data": {
      "text/html": [
       "<div>\n",
       "<table border=\"1\" class=\"dataframe\">\n",
       "  <thead>\n",
       "    <tr style=\"text-align: right;\">\n",
       "      <th></th>\n",
       "      <th></th>\n",
       "      <th></th>\n",
       "      <th>Tx_G</th>\n",
       "      <th>Tx_chi</th>\n",
       "    </tr>\n",
       "    <tr>\n",
       "      <th>sigma</th>\n",
       "      <th>model</th>\n",
       "      <th>L</th>\n",
       "      <th></th>\n",
       "      <th></th>\n",
       "    </tr>\n",
       "  </thead>\n",
       "  <tbody>\n",
       "    <tr>\n",
       "      <th rowspan=\"5\" valign=\"top\">0</th>\n",
       "      <th rowspan=\"5\" valign=\"top\">complete</th>\n",
       "      <th>64</th>\n",
       "      <td>0.880627</td>\n",
       "      <td>0.985819</td>\n",
       "    </tr>\n",
       "    <tr>\n",
       "      <th>128</th>\n",
       "      <td>0.946485</td>\n",
       "      <td>0.994533</td>\n",
       "    </tr>\n",
       "    <tr>\n",
       "      <th>256</th>\n",
       "      <td>0.958188</td>\n",
       "      <td>0.994511</td>\n",
       "    </tr>\n",
       "    <tr>\n",
       "      <th>512</th>\n",
       "      <td>0.985595</td>\n",
       "      <td>0.998724</td>\n",
       "    </tr>\n",
       "    <tr>\n",
       "      <th>1024</th>\n",
       "      <td>0.986326</td>\n",
       "      <td>0.995093</td>\n",
       "    </tr>\n",
       "  </tbody>\n",
       "</table>\n",
       "</div>"
      ],
      "text/plain": [
       "                         Tx_G    Tx_chi\n",
       "sigma model    L                       \n",
       "0     complete 64    0.880627  0.985819\n",
       "               128   0.946485  0.994533\n",
       "               256   0.958188  0.994511\n",
       "               512   0.985595  0.998724\n",
       "               1024  0.986326  0.995093"
      ]
     },
     "execution_count": 74,
     "metadata": {},
     "output_type": "execute_result"
    }
   ],
   "source": [
    "time compute_crossings(data).head()"
   ]
  },
  {
   "cell_type": "code",
   "execution_count": 75,
   "metadata": {
    "collapsed": true
   },
   "outputs": [],
   "source": [
    "def bootstrap_sample(groups):\n",
    "    return groups.apply(lambda x: x.take(random_integers(0, len(x)-1, len(x))))\n",
    "\n",
    "\n",
    "class BootstrapSampler:\n",
    "    \n",
    "    def __init__(self, data, groupby, reducer):\n",
    "        self.data = data\n",
    "        self.groupby = groupby\n",
    "        self.reducer = reducer\n",
    "        \n",
    "    def __call__(self, seed):\n",
    "        random.seed(seed)\n",
    "        resamp = bootstrap_sample(self.data.groupby(level=self.groupby, group_keys=False))\n",
    "        return self.reducer(resamp)"
   ]
  },
  {
   "cell_type": "code",
   "execution_count": 76,
   "metadata": {
    "collapsed": false
   },
   "outputs": [],
   "source": [
    "seeds = random_integers(1e5, size=100)\n",
    "bs = BootstrapSampler(data, ['model','sigma','L','T'], compute_crossings)\n",
    "\n",
    "with mp.Pool(2) as p:\n",
    "    samples = p.map(bs, seeds)\n",
    "\n",
    "samples = pd.concat(samples, keys=seeds, names=['seed'])"
   ]
  },
  {
   "cell_type": "code",
   "execution_count": 77,
   "metadata": {
    "collapsed": false
   },
   "outputs": [
    {
     "data": {
      "text/html": [
       "<div>\n",
       "<table border=\"1\" class=\"dataframe\">\n",
       "  <thead>\n",
       "    <tr style=\"text-align: right;\">\n",
       "      <th></th>\n",
       "      <th></th>\n",
       "      <th></th>\n",
       "      <th></th>\n",
       "      <th>Tx_G</th>\n",
       "      <th>Tx_chi</th>\n",
       "    </tr>\n",
       "    <tr>\n",
       "      <th>seed</th>\n",
       "      <th>sigma</th>\n",
       "      <th>model</th>\n",
       "      <th>L</th>\n",
       "      <th></th>\n",
       "      <th></th>\n",
       "    </tr>\n",
       "  </thead>\n",
       "  <tbody>\n",
       "    <tr>\n",
       "      <th rowspan=\"5\" valign=\"top\">28933</th>\n",
       "      <th rowspan=\"5\" valign=\"top\">0</th>\n",
       "      <th rowspan=\"5\" valign=\"top\">complete</th>\n",
       "      <th>64</th>\n",
       "      <td>0.873538</td>\n",
       "      <td>0.982494</td>\n",
       "    </tr>\n",
       "    <tr>\n",
       "      <th>128</th>\n",
       "      <td>0.948951</td>\n",
       "      <td>0.996199</td>\n",
       "    </tr>\n",
       "    <tr>\n",
       "      <th>256</th>\n",
       "      <td>0.953803</td>\n",
       "      <td>0.993128</td>\n",
       "    </tr>\n",
       "    <tr>\n",
       "      <th>512</th>\n",
       "      <td>0.985526</td>\n",
       "      <td>0.997068</td>\n",
       "    </tr>\n",
       "    <tr>\n",
       "      <th>1024</th>\n",
       "      <td>0.986405</td>\n",
       "      <td>0.993146</td>\n",
       "    </tr>\n",
       "  </tbody>\n",
       "</table>\n",
       "</div>"
      ],
      "text/plain": [
       "                               Tx_G    Tx_chi\n",
       "seed  sigma model    L                       \n",
       "28933 0     complete 64    0.873538  0.982494\n",
       "                     128   0.948951  0.996199\n",
       "                     256   0.953803  0.993128\n",
       "                     512   0.985526  0.997068\n",
       "                     1024  0.986405  0.993146"
      ]
     },
     "execution_count": 77,
     "metadata": {},
     "output_type": "execute_result"
    }
   ],
   "source": [
    "samples.head()"
   ]
  },
  {
   "cell_type": "code",
   "execution_count": null,
   "metadata": {
    "collapsed": true
   },
   "outputs": [],
   "source": [
    "#samples.to_hdf('Tx-samples.h5', 'samples')"
   ]
  },
  {
   "cell_type": "code",
   "execution_count": null,
   "metadata": {
    "collapsed": true
   },
   "outputs": [],
   "source": [
    "#samples.to_hdf('Tx-samples-2.h5', 'samples')"
   ]
  },
  {
   "cell_type": "code",
   "execution_count": 26,
   "metadata": {
    "collapsed": true
   },
   "outputs": [],
   "source": [
    "#samples.to_hdf('Tx-samples-3.h5', 'samples')"
   ]
  },
  {
   "cell_type": "code",
   "execution_count": 78,
   "metadata": {
    "collapsed": true
   },
   "outputs": [],
   "source": [
    "samples.to_hdf('Tx-samples-nosmooth.h5', 'samples')"
   ]
  },
  {
   "cell_type": "markdown",
   "metadata": {},
   "source": [
    "# checkpoint"
   ]
  },
  {
   "cell_type": "code",
   "execution_count": 5,
   "metadata": {
    "collapsed": false
   },
   "outputs": [],
   "source": [
    "samples = pd.read_hdf('Tx-samples-nosmooth.h5', 'samples')"
   ]
  },
  {
   "cell_type": "code",
   "execution_count": 6,
   "metadata": {
    "collapsed": false
   },
   "outputs": [],
   "source": [
    "Tx = samples.groupby(level=['model','sigma','L']).agg(['mean','std'])"
   ]
  },
  {
   "cell_type": "code",
   "execution_count": 7,
   "metadata": {
    "collapsed": false
   },
   "outputs": [
    {
     "data": {
      "text/html": [
       "<div>\n",
       "<table border=\"1\" class=\"dataframe\">\n",
       "  <thead>\n",
       "    <tr>\n",
       "      <th></th>\n",
       "      <th></th>\n",
       "      <th></th>\n",
       "      <th colspan=\"2\" halign=\"left\">Tx_G</th>\n",
       "      <th colspan=\"2\" halign=\"left\">Tx_chi</th>\n",
       "    </tr>\n",
       "    <tr>\n",
       "      <th></th>\n",
       "      <th></th>\n",
       "      <th></th>\n",
       "      <th>mean</th>\n",
       "      <th>std</th>\n",
       "      <th>mean</th>\n",
       "      <th>std</th>\n",
       "    </tr>\n",
       "    <tr>\n",
       "      <th>model</th>\n",
       "      <th>sigma</th>\n",
       "      <th>L</th>\n",
       "      <th></th>\n",
       "      <th></th>\n",
       "      <th></th>\n",
       "      <th></th>\n",
       "    </tr>\n",
       "  </thead>\n",
       "  <tbody>\n",
       "    <tr>\n",
       "      <th rowspan=\"5\" valign=\"top\">complete</th>\n",
       "      <th rowspan=\"5\" valign=\"top\">0</th>\n",
       "      <th>64</th>\n",
       "      <td>0.879893</td>\n",
       "      <td>0.005873</td>\n",
       "      <td>0.986185</td>\n",
       "      <td>0.003413</td>\n",
       "    </tr>\n",
       "    <tr>\n",
       "      <th>128</th>\n",
       "      <td>0.946831</td>\n",
       "      <td>0.005038</td>\n",
       "      <td>0.994559</td>\n",
       "      <td>0.003048</td>\n",
       "    </tr>\n",
       "    <tr>\n",
       "      <th>256</th>\n",
       "      <td>0.958142</td>\n",
       "      <td>0.003627</td>\n",
       "      <td>0.994716</td>\n",
       "      <td>0.002196</td>\n",
       "    </tr>\n",
       "    <tr>\n",
       "      <th>512</th>\n",
       "      <td>0.985108</td>\n",
       "      <td>0.003531</td>\n",
       "      <td>0.998816</td>\n",
       "      <td>0.002224</td>\n",
       "    </tr>\n",
       "    <tr>\n",
       "      <th>1024</th>\n",
       "      <td>0.985846</td>\n",
       "      <td>0.004472</td>\n",
       "      <td>0.994625</td>\n",
       "      <td>0.002401</td>\n",
       "    </tr>\n",
       "  </tbody>\n",
       "</table>\n",
       "</div>"
      ],
      "text/plain": [
       "                         Tx_G              Tx_chi          \n",
       "                         mean       std      mean       std\n",
       "model    sigma L                                           \n",
       "complete 0     64    0.879893  0.005873  0.986185  0.003413\n",
       "               128   0.946831  0.005038  0.994559  0.003048\n",
       "               256   0.958142  0.003627  0.994716  0.002196\n",
       "               512   0.985108  0.003531  0.998816  0.002224\n",
       "               1024  0.985846  0.004472  0.994625  0.002401"
      ]
     },
     "execution_count": 7,
     "metadata": {},
     "output_type": "execute_result"
    }
   ],
   "source": [
    "Tx.head()"
   ]
  },
  {
   "cell_type": "code",
   "execution_count": 8,
   "metadata": {
    "collapsed": true
   },
   "outputs": [],
   "source": [
    "Tx_flatcols = Tx.copy()\n",
    "Tx_flatcols.columns = ['_'.join(t) for t in Tx.columns.values]"
   ]
  },
  {
   "cell_type": "code",
   "execution_count": 9,
   "metadata": {
    "collapsed": false
   },
   "outputs": [
    {
     "data": {
      "text/html": [
       "<div>\n",
       "<table border=\"1\" class=\"dataframe\">\n",
       "  <thead>\n",
       "    <tr style=\"text-align: right;\">\n",
       "      <th></th>\n",
       "      <th></th>\n",
       "      <th></th>\n",
       "      <th>Tx_G_mean</th>\n",
       "      <th>Tx_G_std</th>\n",
       "      <th>Tx_chi_mean</th>\n",
       "      <th>Tx_chi_std</th>\n",
       "    </tr>\n",
       "    <tr>\n",
       "      <th>model</th>\n",
       "      <th>sigma</th>\n",
       "      <th>L</th>\n",
       "      <th></th>\n",
       "      <th></th>\n",
       "      <th></th>\n",
       "      <th></th>\n",
       "    </tr>\n",
       "  </thead>\n",
       "  <tbody>\n",
       "    <tr>\n",
       "      <th rowspan=\"5\" valign=\"top\">complete</th>\n",
       "      <th rowspan=\"5\" valign=\"top\">0</th>\n",
       "      <th>64</th>\n",
       "      <td>0.879893</td>\n",
       "      <td>0.005873</td>\n",
       "      <td>0.986185</td>\n",
       "      <td>0.003413</td>\n",
       "    </tr>\n",
       "    <tr>\n",
       "      <th>128</th>\n",
       "      <td>0.946831</td>\n",
       "      <td>0.005038</td>\n",
       "      <td>0.994559</td>\n",
       "      <td>0.003048</td>\n",
       "    </tr>\n",
       "    <tr>\n",
       "      <th>256</th>\n",
       "      <td>0.958142</td>\n",
       "      <td>0.003627</td>\n",
       "      <td>0.994716</td>\n",
       "      <td>0.002196</td>\n",
       "    </tr>\n",
       "    <tr>\n",
       "      <th>512</th>\n",
       "      <td>0.985108</td>\n",
       "      <td>0.003531</td>\n",
       "      <td>0.998816</td>\n",
       "      <td>0.002224</td>\n",
       "    </tr>\n",
       "    <tr>\n",
       "      <th>1024</th>\n",
       "      <td>0.985846</td>\n",
       "      <td>0.004472</td>\n",
       "      <td>0.994625</td>\n",
       "      <td>0.002401</td>\n",
       "    </tr>\n",
       "  </tbody>\n",
       "</table>\n",
       "</div>"
      ],
      "text/plain": [
       "                     Tx_G_mean  Tx_G_std  Tx_chi_mean  Tx_chi_std\n",
       "model    sigma L                                                 \n",
       "complete 0     64     0.879893  0.005873     0.986185    0.003413\n",
       "               128    0.946831  0.005038     0.994559    0.003048\n",
       "               256    0.958142  0.003627     0.994716    0.002196\n",
       "               512    0.985108  0.003531     0.998816    0.002224\n",
       "               1024   0.985846  0.004472     0.994625    0.002401"
      ]
     },
     "execution_count": 9,
     "metadata": {},
     "output_type": "execute_result"
    }
   ],
   "source": [
    "Tx_flatcols.head()"
   ]
  },
  {
   "cell_type": "code",
   "execution_count": 10,
   "metadata": {
    "collapsed": false
   },
   "outputs": [],
   "source": [
    "for (sigma, model), df in Tx_flatcols.groupby(level=['sigma','model']):\n",
    "    fmt = dict(mod=('c' if model == 'complete' else 'd'),\n",
    "               sig='{:.1f}'.format(10*sigma).replace('.',''))\n",
    "    df.to_csv('../data/Tx-{mod}-s{sig}.csv'.format(**fmt))"
   ]
  },
  {
   "cell_type": "markdown",
   "metadata": {},
   "source": [
    "$$T^*(L,2L) = T_c - A/L^{2/3}$$"
   ]
  },
  {
   "cell_type": "code",
   "execution_count": 11,
   "metadata": {
    "collapsed": false
   },
   "outputs": [],
   "source": [
    "def fit_Tc(df, s=0, makeplot=True, color='b'):\n",
    "    \n",
    "    L = df.index.values\n",
    "    x = L**(-2/3.)\n",
    "    y = df['mean']\n",
    "    yerr = df['std']\n",
    "    \n",
    "    xf, yf, yerrf = (a[s:] for a in (x, y, yerr))\n",
    "    #p, cov = polyfit(xf, yf, w=1./yerrf, deg=1, cov=True)\n",
    "    f = lambda x, a, b: a*x + b\n",
    "    p, cov = curve_fit(f, xf, yf, [2, 1], sigma=yerrf)\n",
    "    \n",
    "    perr = sqrt(diag(cov))\n",
    "    resids = (polyval(p, xf) - yf)/yerrf\n",
    "    chi2 = sum(resids**2)\n",
    "    ndf = len(xf) - len(p)\n",
    "    Q = 1. - stats.chi2.cdf(chi2, ndf)\n",
    "    \n",
    "    if makeplot:\n",
    "        errorbar(x, y, yerr, color=color, marker='.', ls='')\n",
    "        plot(xlim(), polyval(p, xlim()), color=color)\n",
    "        \n",
    "    return pd.Series({'A':  p[0], 'A_err':  perr[0],\n",
    "                      'Tc': p[1], 'Tc_err': perr[1],\n",
    "                      'Q': Q}) "
   ]
  },
  {
   "cell_type": "code",
   "execution_count": 12,
   "metadata": {
    "collapsed": false
   },
   "outputs": [
    {
     "data": {
      "image/png": "[encoded data removed]",
      "text/plain": [
       "<matplotlib.figure.Figure at 0x7f6d7398d4e0>"
      ]
     },
     "metadata": {},
     "output_type": "display_data"
    }
   ],
   "source": [
    "fits = pd.concat({'G':   fit_Tc(Tx.Tx_G.loc['complete',0], s=1),\n",
    "                  'chi': fit_Tc(Tx.Tx_chi.loc['complete',0], color='g')})"
   ]
  },
  {
   "cell_type": "code",
   "execution_count": 13,
   "metadata": {
    "collapsed": false
   },
   "outputs": [
    {
     "data": {
      "text/plain": [
       "G    A        -1.352330\n",
       "     A_err     0.296350\n",
       "     Q         0.020701\n",
       "     Tc        0.998060\n",
       "     Tc_err    0.005994\n",
       "chi  A        -0.170231\n",
       "     A_err     0.058388\n",
       "     Q         0.481516\n",
       "     Tc        0.999023\n",
       "     Tc_err    0.001578\n",
       "dtype: float64"
      ]
     },
     "execution_count": 13,
     "metadata": {},
     "output_type": "execute_result"
    }
   ],
   "source": [
    "fits"
   ]
  },
  {
   "cell_type": "code",
   "execution_count": 14,
   "metadata": {
    "collapsed": false
   },
   "outputs": [],
   "source": [
    "fits.index.names = ['quantity','fit_param']\n",
    "df = fits.unstack()[['Tc','Tc_err','A','A_err','Q']]"
   ]
  },
  {
   "cell_type": "code",
   "execution_count": 15,
   "metadata": {
    "collapsed": false
   },
   "outputs": [
    {
     "data": {
      "text/html": [
       "<div>\n",
       "<table border=\"1\" class=\"dataframe\">\n",
       "  <thead>\n",
       "    <tr style=\"text-align: right;\">\n",
       "      <th>fit_param</th>\n",
       "      <th>Tc</th>\n",
       "      <th>Tc_err</th>\n",
       "      <th>A</th>\n",
       "      <th>A_err</th>\n",
       "      <th>Q</th>\n",
       "    </tr>\n",
       "    <tr>\n",
       "      <th>quantity</th>\n",
       "      <th></th>\n",
       "      <th></th>\n",
       "      <th></th>\n",
       "      <th></th>\n",
       "      <th></th>\n",
       "    </tr>\n",
       "  </thead>\n",
       "  <tbody>\n",
       "    <tr>\n",
       "      <th>G</th>\n",
       "      <td>0.998060</td>\n",
       "      <td>0.005994</td>\n",
       "      <td>-1.352330</td>\n",
       "      <td>0.296350</td>\n",
       "      <td>0.020701</td>\n",
       "    </tr>\n",
       "    <tr>\n",
       "      <th>chi</th>\n",
       "      <td>0.999023</td>\n",
       "      <td>0.001578</td>\n",
       "      <td>-0.170231</td>\n",
       "      <td>0.058388</td>\n",
       "      <td>0.481516</td>\n",
       "    </tr>\n",
       "  </tbody>\n",
       "</table>\n",
       "</div>"
      ],
      "text/plain": [
       "fit_param        Tc    Tc_err         A     A_err         Q\n",
       "quantity                                                   \n",
       "G          0.998060  0.005994 -1.352330  0.296350  0.020701\n",
       "chi        0.999023  0.001578 -0.170231  0.058388  0.481516"
      ]
     },
     "execution_count": 15,
     "metadata": {},
     "output_type": "execute_result"
    }
   ],
   "source": [
    "df"
   ]
  },
  {
   "cell_type": "code",
   "execution_count": 16,
   "metadata": {
    "collapsed": true
   },
   "outputs": [],
   "source": [
    "df.to_csv('Tx-extrap-c-s00.fit.csv')"
   ]
  },
  {
   "cell_type": "code",
   "execution_count": 17,
   "metadata": {
    "collapsed": false
   },
   "outputs": [
    {
     "name": "stdout",
     "output_type": "stream",
     "text": [
      "quantity,Tc,Tc_err,A,A_err,Q\r\n",
      "G,0.9980602037045974,0.005993777223386575,-1.3523295868194607,0.2963500596827892,0.020701225716146965\r\n",
      "chi,0.9990228023406562,0.0015784065255863855,-0.17023139493317963,0.05838816055992074,0.4815163054689263\r\n"
     ]
    }
   ],
   "source": [
    "!head Tx-extrap-c-s00.fit.csv"
   ]
  },
  {
   "cell_type": "code",
   "execution_count": 21,
   "metadata": {
    "collapsed": false
   },
   "outputs": [],
   "source": [
    "def write_fit_file(sigma=0, model='complete'):\n",
    "\n",
    "    sigma_label = round(100*sigma)\n",
    "    \n",
    "    df = Tx.xs([model, sigma], level=['model','sigma'])\n",
    "\n",
    "    fits = pd.concat({'G':   fit_Tc(df.Tx_G, s=1, makeplot=False),\n",
    "                      'chi': fit_Tc(df.Tx_chi, makeplot=False)})\n",
    "    \n",
    "    print(fits.loc[:,'Q'])\n",
    "\n",
    "    fits.index.names = ['quantity','fit_param']\n",
    "    df = fits.unstack()[['Tc','Tc_err','A','A_err','Q']]\n",
    "    df.to_csv('../fits/Tx-{}-s{:02d}.fit.csv'.format(model[0], sigma_label))"
   ]
  },
  {
   "cell_type": "code",
   "execution_count": 22,
   "metadata": {
    "collapsed": false
   },
   "outputs": [
    {
     "name": "stdout",
     "output_type": "stream",
     "text": [
      "G      0.020701\n",
      "chi    0.481516\n",
      "dtype: float64\n",
      "G      0.294852\n",
      "chi    0.730031\n",
      "dtype: float64\n",
      "G      0.222495\n",
      "chi    0.153509\n",
      "dtype: float64\n",
      "G      0.264838\n",
      "chi    0.273664\n",
      "dtype: float64\n",
      "G      0.584967\n",
      "chi    0.578442\n",
      "dtype: float64\n"
     ]
    }
   ],
   "source": [
    "for t in [(0,'complete'),(0.25,'complete'),(0,'diluted'),(0.25,'diluted'),(0.375,'diluted')]:\n",
    "    write_fit_file(*t)"
   ]
  },
  {
   "cell_type": "code",
   "execution_count": null,
   "metadata": {
    "collapsed": true
   },
   "outputs": [],
   "source": []
  }
 ],
 "metadata": {
  "kernelspec": {
   "display_name": "Python 3",
   "language": "python",
   "name": "python3"
  },
  "language_info": {
   "codemirror_mode": {
    "name": "ipython",
    "version": 3
   },
   "file_extension": ".py",
   "mimetype": "text/x-python",
   "name": "python",
   "nbconvert_exporter": "python",
   "pygments_lexer": "ipython3",
   "version": "3.4.3"
  }
 },
 "nbformat": 4,
 "nbformat_minor": 0
}
