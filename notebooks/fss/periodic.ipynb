{
 "cells": [
  {
   "cell_type": "code",
   "execution_count": 1,
   "metadata": {
    "collapsed": false
   },
   "outputs": [
    {
     "name": "stdout",
     "output_type": "stream",
     "text": [
      "Populating the interactive namespace from numpy and matplotlib\n"
     ]
    }
   ],
   "source": [
    "%pylab inline"
   ]
  },
  {
   "cell_type": "code",
   "execution_count": 2,
   "metadata": {
    "collapsed": true
   },
   "outputs": [],
   "source": [
    "import pandas as pd\n",
    "import multiprocessing as mp\n",
    "import scipy.stats as stats\n",
    "from scipy.interpolate import UnivariateSpline"
   ]
  },
  {
   "cell_type": "code",
   "execution_count": 4,
   "metadata": {
    "collapsed": false
   },
   "outputs": [],
   "source": [
    "with pd.get_store('/home/matt/Dropbox/data/fss/data.h5') as store:\n",
    "    data = store.select('old/periodic', columns=['M2','M4'])\n",
    "    \n",
    "data.index.names = [s if s != 'Stage' else 'LogSweeps' for s in data.index.names]"
   ]
  },
  {
   "cell_type": "code",
   "execution_count": null,
   "metadata": {
    "collapsed": false
   },
   "outputs": [],
   "source": [
    "data.head()"
   ]
  },
  {
   "cell_type": "code",
   "execution_count": null,
   "metadata": {
    "collapsed": true
   },
   "outputs": [],
   "source": [
    "def binderG(df):\n",
    "    n = len(df)\n",
    "    xj = (df.sum() - df) / (n - 1.)\n",
    "    gj = xj.eval('0.5*(3. - M4/M2**2)')\n",
    "    return pd.Series({'mean': gj.mean(), 'sem': sqrt(n) * gj.std()})"
   ]
  },
  {
   "cell_type": "code",
   "execution_count": 6,
   "metadata": {
    "collapsed": false
   },
   "outputs": [],
   "source": [
    "G = data.groupby(level=['L','Temp','k','LogSweeps']).apply(binderG)"
   ]
  },
  {
   "cell_type": "code",
   "execution_count": 7,
   "metadata": {
    "collapsed": true
   },
   "outputs": [],
   "source": [
    "#G.to_hdf('binderG-periodic.h5','data')"
   ]
  },
  {
   "cell_type": "code",
   "execution_count": 5,
   "metadata": {
    "collapsed": true
   },
   "outputs": [],
   "source": [
    "G = pd.read_hdf('binderG-periodic.h5','data')"
   ]
  },
  {
   "cell_type": "code",
   "execution_count": 6,
   "metadata": {
    "collapsed": false
   },
   "outputs": [
    {
     "data": {
      "text/html": [
       "<div>\n",
       "<table border=\"1\" class=\"dataframe\">\n",
       "  <thead>\n",
       "    <tr style=\"text-align: right;\">\n",
       "      <th></th>\n",
       "      <th></th>\n",
       "      <th></th>\n",
       "      <th></th>\n",
       "      <th>mean</th>\n",
       "      <th>sem</th>\n",
       "    </tr>\n",
       "    <tr>\n",
       "      <th>L</th>\n",
       "      <th>Temp</th>\n",
       "      <th>k</th>\n",
       "      <th>LogSweeps</th>\n",
       "      <th></th>\n",
       "      <th></th>\n",
       "    </tr>\n",
       "  </thead>\n",
       "  <tbody>\n",
       "    <tr>\n",
       "      <th rowspan=\"5\" valign=\"top\">8</th>\n",
       "      <th rowspan=\"5\" valign=\"top\">8.668015</th>\n",
       "      <th rowspan=\"5\" valign=\"top\">0</th>\n",
       "      <th>4</th>\n",
       "      <td>0.952813</td>\n",
       "      <td>0.001514</td>\n",
       "    </tr>\n",
       "    <tr>\n",
       "      <th>5</th>\n",
       "      <td>0.949005</td>\n",
       "      <td>0.001226</td>\n",
       "    </tr>\n",
       "    <tr>\n",
       "      <th>6</th>\n",
       "      <td>0.947281</td>\n",
       "      <td>0.000899</td>\n",
       "    </tr>\n",
       "    <tr>\n",
       "      <th>7</th>\n",
       "      <td>0.948004</td>\n",
       "      <td>0.000661</td>\n",
       "    </tr>\n",
       "    <tr>\n",
       "      <th>8</th>\n",
       "      <td>0.946243</td>\n",
       "      <td>0.000472</td>\n",
       "    </tr>\n",
       "  </tbody>\n",
       "</table>\n",
       "</div>"
      ],
      "text/plain": [
       "                            mean       sem\n",
       "L Temp     k LogSweeps                    \n",
       "8 8.668015 0 4          0.952813  0.001514\n",
       "             5          0.949005  0.001226\n",
       "             6          0.947281  0.000899\n",
       "             7          0.948004  0.000661\n",
       "             8          0.946243  0.000472"
      ]
     },
     "execution_count": 6,
     "metadata": {},
     "output_type": "execute_result"
    }
   ],
   "source": [
    "G.head()"
   ]
  },
  {
   "cell_type": "markdown",
   "metadata": {},
   "source": [
    "# $k=0$"
   ]
  },
  {
   "cell_type": "code",
   "execution_count": 9,
   "metadata": {
    "collapsed": false
   },
   "outputs": [],
   "source": [
    "Gk0 = G.xs(0,level='k')"
   ]
  },
  {
   "cell_type": "code",
   "execution_count": null,
   "metadata": {
    "collapsed": false
   },
   "outputs": [],
   "source": [
    "for L, df in Gk0.groupby(level='L'):\n",
    "    df.reset_index(inplace=True)\n",
    "    df = df[(df.Temp >= 8.75) & (df.Temp <= 8.81)]\n",
    "    df = df[df.LogSweeps == df.LogSweeps.max()]\n",
    "    errorbar(df.Temp, df['mean'], df['sem'])\n",
    "    \n",
    "    df.to_csv('../data/binder-p-L{:02d}.csv'.format(L), index=False)"
   ]
  },
  {
   "cell_type": "code",
   "execution_count": null,
   "metadata": {
    "collapsed": false
   },
   "outputs": [],
   "source": [
    "Gk0.head()"
   ]
  },
  {
   "cell_type": "code",
   "execution_count": 11,
   "metadata": {
    "collapsed": true
   },
   "outputs": [],
   "source": [
    "def interpolate(y, T=8.77846):\n",
    "    \n",
    "    Temp = y.index.get_level_values('Temp')\n",
    "    \n",
    "    try:\n",
    "        f = UnivariateSpline(Temp, y['mean'], w=1/y['sem'])\n",
    "        return f(T).item()\n",
    "    except:\n",
    "        return nan"
   ]
  },
  {
   "cell_type": "code",
   "execution_count": null,
   "metadata": {
    "collapsed": false
   },
   "outputs": [],
   "source": [
    "Gk0.groupby(level=['L','LogSweeps']).apply(interpolate).head()"
   ]
  },
  {
   "cell_type": "code",
   "execution_count": 14,
   "metadata": {
    "collapsed": true
   },
   "outputs": [],
   "source": [
    "datak0 = data.xs(0, level='k')"
   ]
  },
  {
   "cell_type": "code",
   "execution_count": 15,
   "metadata": {
    "collapsed": false
   },
   "outputs": [
    {
     "data": {
      "text/html": [
       "<div>\n",
       "<table border=\"1\" class=\"dataframe\">\n",
       "  <thead>\n",
       "    <tr style=\"text-align: right;\">\n",
       "      <th></th>\n",
       "      <th></th>\n",
       "      <th></th>\n",
       "      <th></th>\n",
       "      <th>M2</th>\n",
       "      <th>M4</th>\n",
       "    </tr>\n",
       "    <tr>\n",
       "      <th>L</th>\n",
       "      <th>Temp</th>\n",
       "      <th>LogSweeps</th>\n",
       "      <th>Run</th>\n",
       "      <th></th>\n",
       "      <th></th>\n",
       "    </tr>\n",
       "  </thead>\n",
       "  <tbody>\n",
       "    <tr>\n",
       "      <th rowspan=\"5\" valign=\"top\">8</th>\n",
       "      <th rowspan=\"5\" valign=\"top\">8.668015</th>\n",
       "      <th rowspan=\"5\" valign=\"top\">4</th>\n",
       "      <th>0</th>\n",
       "      <td>0.053850</td>\n",
       "      <td>0.003073</td>\n",
       "    </tr>\n",
       "    <tr>\n",
       "      <th>1</th>\n",
       "      <td>0.045166</td>\n",
       "      <td>0.002139</td>\n",
       "    </tr>\n",
       "    <tr>\n",
       "      <th>2</th>\n",
       "      <td>0.055251</td>\n",
       "      <td>0.003502</td>\n",
       "    </tr>\n",
       "    <tr>\n",
       "      <th>3</th>\n",
       "      <td>0.053550</td>\n",
       "      <td>0.003027</td>\n",
       "    </tr>\n",
       "    <tr>\n",
       "      <th>4</th>\n",
       "      <td>0.057807</td>\n",
       "      <td>0.003711</td>\n",
       "    </tr>\n",
       "  </tbody>\n",
       "</table>\n",
       "</div>"
      ],
      "text/plain": [
       "                                M2        M4\n",
       "L Temp     LogSweeps Run                    \n",
       "8 8.668015 4         0    0.053850  0.003073\n",
       "                     1    0.045166  0.002139\n",
       "                     2    0.055251  0.003502\n",
       "                     3    0.053550  0.003027\n",
       "                     4    0.057807  0.003711"
      ]
     },
     "execution_count": 15,
     "metadata": {},
     "output_type": "execute_result"
    }
   ],
   "source": [
    "datak0.head()"
   ]
  },
  {
   "cell_type": "code",
   "execution_count": 16,
   "metadata": {
    "collapsed": true
   },
   "outputs": [],
   "source": [
    "def compute_g_Tc(data):\n",
    "    groupby = ['L','Temp','LogSweeps']    \n",
    "    G = data.groupby(level=groupby, group_keys=False).apply(binderG)\n",
    "    return G.groupby(level=['L','LogSweeps']).apply(interpolate)"
   ]
  },
  {
   "cell_type": "code",
   "execution_count": 25,
   "metadata": {
    "collapsed": false
   },
   "outputs": [
    {
     "data": {
      "text/plain": [
       "L  LogSweeps\n",
       "8  4            0.480537\n",
       "   5            0.475443\n",
       "   6            0.471205\n",
       "   7            0.471102\n",
       "   8            0.468442\n",
       "dtype: float64"
      ]
     },
     "execution_count": 25,
     "metadata": {},
     "output_type": "execute_result"
    }
   ],
   "source": [
    "compute_g_Tc(datak0).head()"
   ]
  },
  {
   "cell_type": "code",
   "execution_count": 28,
   "metadata": {
    "collapsed": true
   },
   "outputs": [],
   "source": [
    "def bootstrap_sample(groups):\n",
    "    return groups.apply(lambda x: x.take(random_integers(0, len(x)-1, len(x))))\n",
    "\n",
    "class BootstrapSampler:\n",
    "    \n",
    "    def __init__(self, data, groupby, reducer):\n",
    "        self.data = data\n",
    "        self.groupby = groupby\n",
    "        self.reducer = reducer\n",
    "        \n",
    "    def __call__(self, seed):\n",
    "        random.seed(seed)\n",
    "        resamp = bootstrap_sample(self.data.groupby(level=self.groupby, group_keys=False))\n",
    "        return self.reducer(resamp)"
   ]
  },
  {
   "cell_type": "code",
   "execution_count": 31,
   "metadata": {
    "collapsed": false
   },
   "outputs": [],
   "source": [
    "seeds = random_integers(1e5, size=100)\n",
    "bs = BootstrapSampler(datak0, ['L','Temp','LogSweeps'], compute_g_Tc)\n",
    "\n",
    "with mp.Pool(4) as p:\n",
    "    samples = p.map(bs, seeds)\n",
    "\n",
    "samples = pd.concat(samples, keys=seeds, names=['seed'])"
   ]
  },
  {
   "cell_type": "code",
   "execution_count": 32,
   "metadata": {
    "collapsed": false
   },
   "outputs": [],
   "source": [
    "#samples.to_hdf('gx-samples.h5', 'samples')"
   ]
  },
  {
   "cell_type": "code",
   "execution_count": 33,
   "metadata": {
    "collapsed": false
   },
   "outputs": [],
   "source": [
    "samples = pd.read_hdf('gx-samples.h5', 'samples')"
   ]
  },
  {
   "cell_type": "code",
   "execution_count": 34,
   "metadata": {
    "collapsed": false
   },
   "outputs": [],
   "source": [
    "gx = samples.groupby(level=['L','LogSweeps']).agg(['mean','std'])"
   ]
  },
  {
   "cell_type": "code",
   "execution_count": 35,
   "metadata": {
    "collapsed": false
   },
   "outputs": [
    {
     "data": {
      "text/html": [
       "<div>\n",
       "<table border=\"1\" class=\"dataframe\">\n",
       "  <thead>\n",
       "    <tr style=\"text-align: right;\">\n",
       "      <th></th>\n",
       "      <th></th>\n",
       "      <th>mean</th>\n",
       "      <th>std</th>\n",
       "    </tr>\n",
       "    <tr>\n",
       "      <th>L</th>\n",
       "      <th>LogSweeps</th>\n",
       "      <th></th>\n",
       "      <th></th>\n",
       "    </tr>\n",
       "  </thead>\n",
       "  <tbody>\n",
       "    <tr>\n",
       "      <th rowspan=\"5\" valign=\"top\">8</th>\n",
       "      <th>4</th>\n",
       "      <td>0.485960</td>\n",
       "      <td>0.007792</td>\n",
       "    </tr>\n",
       "    <tr>\n",
       "      <th>5</th>\n",
       "      <td>0.471480</td>\n",
       "      <td>0.010102</td>\n",
       "    </tr>\n",
       "    <tr>\n",
       "      <th>6</th>\n",
       "      <td>0.470267</td>\n",
       "      <td>0.002965</td>\n",
       "    </tr>\n",
       "    <tr>\n",
       "      <th>7</th>\n",
       "      <td>0.469745</td>\n",
       "      <td>0.002177</td>\n",
       "    </tr>\n",
       "    <tr>\n",
       "      <th>8</th>\n",
       "      <td>0.465732</td>\n",
       "      <td>0.001730</td>\n",
       "    </tr>\n",
       "  </tbody>\n",
       "</table>\n",
       "</div>"
      ],
      "text/plain": [
       "                 mean       std\n",
       "L LogSweeps                    \n",
       "8 4          0.485960  0.007792\n",
       "  5          0.471480  0.010102\n",
       "  6          0.470267  0.002965\n",
       "  7          0.469745  0.002177\n",
       "  8          0.465732  0.001730"
      ]
     },
     "execution_count": 35,
     "metadata": {},
     "output_type": "execute_result"
    }
   ],
   "source": [
    "gx.head()"
   ]
  },
  {
   "cell_type": "code",
   "execution_count": 48,
   "metadata": {
    "collapsed": false
   },
   "outputs": [
    {
     "data": {
      "text/plain": [
       "(0.4, 0.48)"
      ]
     },
     "execution_count": 48,
     "metadata": {},
     "output_type": "execute_result"
    },
    {
     "data": {
      "image/png": "[encoded data removed]",
      "text/plain": [
       "<matplotlib.figure.Figure at 0x10cda72b0>"
      ]
     },
     "metadata": {},
     "output_type": "display_data"
    }
   ],
   "source": [
    "logt = gx.index.get_level_values('LogSweeps')\n",
    "df = gx[logt == logt.max()]\n",
    "df = df.reset_index()[['L','mean','std']]\n",
    "errorbar(df['L']**-0.5, df['mean'], df['std'], ls='')\n",
    "\n",
    "# save data\n",
    "df.to_csv('../../data/gx-p.csv', index=False)\n",
    "\n",
    "# fit\n",
    "x = df['L']**-0.5\n",
    "p, cov = polyfit(x, df['mean'], 1, w=1/df['std'], cov=True)\n",
    "perr = sqrt(diag(cov))\n",
    "chi2 = sum(((polyval(p, x) - df['mean'])/df['std'])**2)\n",
    "ndf = len(x) - len(p)\n",
    "Q = 1 - stats.chi2.cdf(chi2, ndf)\n",
    "\n",
    "x = [0, xlim()[1]]\n",
    "plot(x, polyval(p, x))\n",
    "\n",
    "# save fit params\n",
    "params = pd.DataFrame(\n",
    "    [p[0], perr[0], p[1], perr[1]], \n",
    "    index=['slope','slope_err','gx','gx_err']).T\n",
    "params.to_csv('../../fits/gx.fit.csv', index=False)\n",
    "\n",
    "xlim(0,0.4)\n",
    "ylim(0.4,0.48)"
   ]
  },
  {
   "cell_type": "code",
   "execution_count": 49,
   "metadata": {
    "collapsed": false
   },
   "outputs": [
    {
     "data": {
      "text/html": [
       "<div>\n",
       "<table border=\"1\" class=\"dataframe\">\n",
       "  <thead>\n",
       "    <tr style=\"text-align: right;\">\n",
       "      <th></th>\n",
       "      <th>slope</th>\n",
       "      <th>slope_err</th>\n",
       "      <th>gx</th>\n",
       "      <th>gx_err</th>\n",
       "    </tr>\n",
       "  </thead>\n",
       "  <tbody>\n",
       "    <tr>\n",
       "      <th>0</th>\n",
       "      <td>0.168074</td>\n",
       "      <td>0.009</td>\n",
       "      <td>0.40722</td>\n",
       "      <td>0.00242</td>\n",
       "    </tr>\n",
       "  </tbody>\n",
       "</table>\n",
       "</div>"
      ],
      "text/plain": [
       "      slope  slope_err       gx   gx_err\n",
       "0  0.168074      0.009  0.40722  0.00242"
      ]
     },
     "execution_count": 49,
     "metadata": {},
     "output_type": "execute_result"
    }
   ],
   "source": [
    "params"
   ]
  },
  {
   "cell_type": "code",
   "execution_count": 50,
   "metadata": {
    "collapsed": false
   },
   "outputs": [
    {
     "data": {
      "text/plain": [
       "array([ 0.16807401,  0.40721981])"
      ]
     },
     "execution_count": 50,
     "metadata": {},
     "output_type": "execute_result"
    }
   ],
   "source": [
    "p"
   ]
  },
  {
   "cell_type": "code",
   "execution_count": 43,
   "metadata": {
    "collapsed": false
   },
   "outputs": [
    {
     "data": {
      "text/plain": [
       "0.22436309331647841"
      ]
     },
     "execution_count": 43,
     "metadata": {},
     "output_type": "execute_result"
    }
   ],
   "source": [
    "Q"
   ]
  },
  {
   "cell_type": "markdown",
   "metadata": {
    "collapsed": true
   },
   "source": [
    "# $k\\neq 0$"
   ]
  },
  {
   "cell_type": "code",
   "execution_count": 9,
   "metadata": {
    "collapsed": false
   },
   "outputs": [],
   "source": [
    "chi = data.eval('L**5 * M2').groupby(level=['L','Temp','k','LogSweeps']).agg(['mean','sem'])"
   ]
  },
  {
   "cell_type": "code",
   "execution_count": 10,
   "metadata": {
    "collapsed": false
   },
   "outputs": [
    {
     "data": {
      "text/html": [
       "<div>\n",
       "<table border=\"1\" class=\"dataframe\">\n",
       "  <thead>\n",
       "    <tr style=\"text-align: right;\">\n",
       "      <th></th>\n",
       "      <th></th>\n",
       "      <th></th>\n",
       "      <th></th>\n",
       "      <th>mean</th>\n",
       "      <th>sem</th>\n",
       "    </tr>\n",
       "    <tr>\n",
       "      <th>L</th>\n",
       "      <th>Temp</th>\n",
       "      <th>k</th>\n",
       "      <th>LogSweeps</th>\n",
       "      <th></th>\n",
       "      <th></th>\n",
       "    </tr>\n",
       "  </thead>\n",
       "  <tbody>\n",
       "    <tr>\n",
       "      <th rowspan=\"5\" valign=\"top\">8</th>\n",
       "      <th rowspan=\"5\" valign=\"top\">8.668015</th>\n",
       "      <th rowspan=\"5\" valign=\"top\">0</th>\n",
       "      <th>4</th>\n",
       "      <td>1866.599456</td>\n",
       "      <td>12.040163</td>\n",
       "    </tr>\n",
       "    <tr>\n",
       "      <th>5</th>\n",
       "      <td>1841.101791</td>\n",
       "      <td>8.863888</td>\n",
       "    </tr>\n",
       "    <tr>\n",
       "      <th>6</th>\n",
       "      <td>1823.318662</td>\n",
       "      <td>6.003573</td>\n",
       "    </tr>\n",
       "    <tr>\n",
       "      <th>7</th>\n",
       "      <td>1826.540994</td>\n",
       "      <td>4.409372</td>\n",
       "    </tr>\n",
       "    <tr>\n",
       "      <th>8</th>\n",
       "      <td>1816.579015</td>\n",
       "      <td>3.134778</td>\n",
       "    </tr>\n",
       "  </tbody>\n",
       "</table>\n",
       "</div>"
      ],
      "text/plain": [
       "                               mean        sem\n",
       "L Temp     k LogSweeps                        \n",
       "8 8.668015 0 4          1866.599456  12.040163\n",
       "             5          1841.101791   8.863888\n",
       "             6          1823.318662   6.003573\n",
       "             7          1826.540994   4.409372\n",
       "             8          1816.579015   3.134778"
      ]
     },
     "execution_count": 10,
     "metadata": {},
     "output_type": "execute_result"
    }
   ],
   "source": [
    "chi.head()"
   ]
  },
  {
   "cell_type": "markdown",
   "metadata": {},
   "source": [
    "Read in old data with big temperature range"
   ]
  },
  {
   "cell_type": "code",
   "execution_count": 11,
   "metadata": {
    "collapsed": false
   },
   "outputs": [],
   "source": [
    "from glob import glob\n",
    "\n",
    "opts = dict(delim_whitespace=True, comment='#',\n",
    "            names=['bc','d','L','Temp','k','chi','chi_err','nrun'],\n",
    "            index_col=['L','Temp','k'])\n",
    "\n",
    "wide = pd.concat([pd.read_csv(f, **opts) for f in glob('modes-wide/*.txt')])\n",
    "chi_wide = wide[['chi','chi_err']]\n",
    "chi_wide.columns = ['mean','sem']"
   ]
  },
  {
   "cell_type": "code",
   "execution_count": 12,
   "metadata": {
    "collapsed": false
   },
   "outputs": [
    {
     "data": {
      "text/html": [
       "<div>\n",
       "<table border=\"1\" class=\"dataframe\">\n",
       "  <thead>\n",
       "    <tr style=\"text-align: right;\">\n",
       "      <th></th>\n",
       "      <th></th>\n",
       "      <th></th>\n",
       "      <th>mean</th>\n",
       "      <th>sem</th>\n",
       "    </tr>\n",
       "    <tr>\n",
       "      <th>L</th>\n",
       "      <th>Temp</th>\n",
       "      <th>k</th>\n",
       "      <th></th>\n",
       "      <th></th>\n",
       "    </tr>\n",
       "  </thead>\n",
       "  <tbody>\n",
       "    <tr>\n",
       "      <th rowspan=\"5\" valign=\"top\">28</th>\n",
       "      <th rowspan=\"2\" valign=\"top\">8.34</th>\n",
       "      <th>10000</th>\n",
       "      <td>8.557061</td>\n",
       "      <td>0.024949</td>\n",
       "    </tr>\n",
       "    <tr>\n",
       "      <th>11000</th>\n",
       "      <td>8.106414</td>\n",
       "      <td>0.019263</td>\n",
       "    </tr>\n",
       "    <tr>\n",
       "      <th rowspan=\"2\" valign=\"top\">8.37</th>\n",
       "      <th>10000</th>\n",
       "      <td>9.328395</td>\n",
       "      <td>0.023970</td>\n",
       "    </tr>\n",
       "    <tr>\n",
       "      <th>11000</th>\n",
       "      <td>8.711473</td>\n",
       "      <td>0.024004</td>\n",
       "    </tr>\n",
       "    <tr>\n",
       "      <th>8.40</th>\n",
       "      <th>10000</th>\n",
       "      <td>10.161195</td>\n",
       "      <td>0.024569</td>\n",
       "    </tr>\n",
       "  </tbody>\n",
       "</table>\n",
       "</div>"
      ],
      "text/plain": [
       "                    mean       sem\n",
       "L  Temp k                         \n",
       "28 8.34 10000   8.557061  0.024949\n",
       "        11000   8.106414  0.019263\n",
       "   8.37 10000   9.328395  0.023970\n",
       "        11000   8.711473  0.024004\n",
       "   8.40 10000  10.161195  0.024569"
      ]
     },
     "execution_count": 12,
     "metadata": {},
     "output_type": "execute_result"
    }
   ],
   "source": [
    "chi_wide.head()"
   ]
  },
  {
   "cell_type": "markdown",
   "metadata": {},
   "source": [
    "Get data for longest time from new data, combine with old"
   ]
  },
  {
   "cell_type": "code",
   "execution_count": 13,
   "metadata": {
    "collapsed": false
   },
   "outputs": [],
   "source": [
    "chi_final = chi.groupby(level=['L','Temp','k']).apply(\n",
    "    lambda x: x.iloc[argmax(x.index.get_level_values('LogSweeps'))])\n",
    "\n",
    "chi_final_all = pd.concat((chi_final, chi_wide)).sortlevel()"
   ]
  },
  {
   "cell_type": "code",
   "execution_count": 14,
   "metadata": {
    "collapsed": false
   },
   "outputs": [
    {
     "data": {
      "text/html": [
       "<div>\n",
       "<table border=\"1\" class=\"dataframe\">\n",
       "  <thead>\n",
       "    <tr style=\"text-align: right;\">\n",
       "      <th></th>\n",
       "      <th></th>\n",
       "      <th></th>\n",
       "      <th>mean</th>\n",
       "      <th>sem</th>\n",
       "    </tr>\n",
       "    <tr>\n",
       "      <th>L</th>\n",
       "      <th>Temp</th>\n",
       "      <th>k</th>\n",
       "      <th></th>\n",
       "      <th></th>\n",
       "    </tr>\n",
       "  </thead>\n",
       "  <tbody>\n",
       "    <tr>\n",
       "      <th rowspan=\"5\" valign=\"top\">8</th>\n",
       "      <th rowspan=\"5\" valign=\"top\">7.9</th>\n",
       "      <th>10000</th>\n",
       "      <td>2.730904</td>\n",
       "      <td>0.006064</td>\n",
       "    </tr>\n",
       "    <tr>\n",
       "      <th>10000</th>\n",
       "      <td>2.730904</td>\n",
       "      <td>0.006064</td>\n",
       "    </tr>\n",
       "    <tr>\n",
       "      <th>11000</th>\n",
       "      <td>2.217209</td>\n",
       "      <td>0.005233</td>\n",
       "    </tr>\n",
       "    <tr>\n",
       "      <th>11100</th>\n",
       "      <td>1.876677</td>\n",
       "      <td>0.003402</td>\n",
       "    </tr>\n",
       "    <tr>\n",
       "      <th>11110</th>\n",
       "      <td>1.625085</td>\n",
       "      <td>0.002926</td>\n",
       "    </tr>\n",
       "  </tbody>\n",
       "</table>\n",
       "</div>"
      ],
      "text/plain": [
       "                  mean       sem\n",
       "L Temp k                        \n",
       "8 7.9  10000  2.730904  0.006064\n",
       "       10000  2.730904  0.006064\n",
       "       11000  2.217209  0.005233\n",
       "       11100  1.876677  0.003402\n",
       "       11110  1.625085  0.002926"
      ]
     },
     "execution_count": 14,
     "metadata": {},
     "output_type": "execute_result"
    }
   ],
   "source": [
    "chi_final_all.head()"
   ]
  },
  {
   "cell_type": "code",
   "execution_count": 15,
   "metadata": {
    "collapsed": false
   },
   "outputs": [
    {
     "data": {
      "text/plain": [
       "(5, 400)"
      ]
     },
     "execution_count": 15,
     "metadata": {},
     "output_type": "execute_result"
    },
    {
     "data": {
      "image/png": "[encoded data removed]",
      "text/plain": [
       "<matplotlib.figure.Figure at 0x7f0c98439470>"
      ]
     },
     "metadata": {},
     "output_type": "display_data"
    }
   ],
   "source": [
    "for L, df in chi_final_all.xs(10000,level='k').groupby(level='L'):\n",
    "    \n",
    "    if L not in chi_wide.index.get_level_values('L'):\n",
    "        # skip sizes that don't have wide-range data\n",
    "        continue\n",
    "        \n",
    "    df.reset_index(inplace=True)\n",
    "    errorbar(df.Temp, df['mean'], df['sem'], label='{}'.format(L))\n",
    "    \n",
    "    # save data\n",
    "    df.to_csv('../data/chi-p-k10-wide-L{:02d}.csv'.format(L), index=False)\n",
    "    \n",
    "yscale('log')\n",
    "xlim(8.4, 9.2)\n",
    "ylim(5, 400)"
   ]
  },
  {
   "cell_type": "code",
   "execution_count": 16,
   "metadata": {
    "collapsed": false
   },
   "outputs": [
    {
     "data": {
      "image/png": "[encoded data removed]",
      "text/plain": [
       "<matplotlib.figure.Figure at 0x7f0c93b2d668>"
      ]
     },
     "metadata": {},
     "output_type": "display_data"
    }
   ],
   "source": [
    "for L, df in chi_final_all.xs(11000,level='k').groupby(level='L'):\n",
    "    \n",
    "    if L not in chi_wide.index.get_level_values('L') or L==36:\n",
    "        # skip sizes that don't have wide-range data\n",
    "        continue\n",
    "        \n",
    "    df.reset_index(inplace=True)\n",
    "    errorbar(df.Temp, df['mean'], df['sem'], label='{}'.format(L))\n",
    "    \n",
    "    # save data\n",
    "    df.to_csv('../data/chi-p-k110-wide-L{:02d}.csv'.format(L), index=False)\n",
    "    \n",
    "yscale('log')\n",
    "xlim(8.4, 9.2)\n",
    "ylim(5, 400)\n",
    "legend();"
   ]
  },
  {
   "cell_type": "code",
   "execution_count": 88,
   "metadata": {
    "collapsed": false
   },
   "outputs": [
    {
     "data": {
      "text/plain": [
       "L  k    \n",
       "8  0        335.245654\n",
       "   10000     13.823719\n",
       "   11000      7.116341\n",
       "   11110      3.618510\n",
       "   20000      4.224683\n",
       "Name: chi_Tc, dtype: float64"
      ]
     },
     "execution_count": 88,
     "metadata": {},
     "output_type": "execute_result"
    }
   ],
   "source": [
    "chi_Tc = chi_final.groupby(level=['L','k']).apply(interpolate)\n",
    "chi_Tc.name = 'chi_Tc'\n",
    "chi_Tc.head()"
   ]
  },
  {
   "cell_type": "code",
   "execution_count": 89,
   "metadata": {
    "collapsed": false
   },
   "outputs": [
    {
     "data": {
      "text/plain": [
       "array([    0, 10000, 11000, 11110, 20000])"
      ]
     },
     "execution_count": 89,
     "metadata": {},
     "output_type": "execute_result"
    }
   ],
   "source": [
    "chi_Tc.index.get_level_values('k').unique()"
   ]
  },
  {
   "cell_type": "code",
   "execution_count": 90,
   "metadata": {
    "collapsed": false
   },
   "outputs": [],
   "source": [
    "knorm = {0: 0, \n",
    "         10000: 1, \n",
    "         11000: sqrt(2), \n",
    "         11110: 2, \n",
    "         20000: 2}\n",
    "\n",
    "knorm = pd.Series(knorm, name='knorm')\n",
    "knorm.index.name = 'k'\n",
    "chi_Tc = pd.DataFrame(chi_Tc).join(knorm)"
   ]
  },
  {
   "cell_type": "code",
   "execution_count": 91,
   "metadata": {
    "collapsed": false
   },
   "outputs": [
    {
     "data": {
      "text/html": [
       "<div>\n",
       "<table border=\"1\" class=\"dataframe\">\n",
       "  <thead>\n",
       "    <tr style=\"text-align: right;\">\n",
       "      <th></th>\n",
       "      <th></th>\n",
       "      <th>chi_Tc</th>\n",
       "      <th>knorm</th>\n",
       "    </tr>\n",
       "    <tr>\n",
       "      <th>L</th>\n",
       "      <th>k</th>\n",
       "      <th></th>\n",
       "      <th></th>\n",
       "    </tr>\n",
       "  </thead>\n",
       "  <tbody>\n",
       "    <tr>\n",
       "      <th rowspan=\"5\" valign=\"top\">8</th>\n",
       "      <th>0</th>\n",
       "      <td>335.245654</td>\n",
       "      <td>0.000000</td>\n",
       "    </tr>\n",
       "    <tr>\n",
       "      <th>10000</th>\n",
       "      <td>13.823719</td>\n",
       "      <td>1.000000</td>\n",
       "    </tr>\n",
       "    <tr>\n",
       "      <th>11000</th>\n",
       "      <td>7.116341</td>\n",
       "      <td>1.414214</td>\n",
       "    </tr>\n",
       "    <tr>\n",
       "      <th>11110</th>\n",
       "      <td>3.618510</td>\n",
       "      <td>2.000000</td>\n",
       "    </tr>\n",
       "    <tr>\n",
       "      <th>20000</th>\n",
       "      <td>4.224683</td>\n",
       "      <td>2.000000</td>\n",
       "    </tr>\n",
       "  </tbody>\n",
       "</table>\n",
       "</div>"
      ],
      "text/plain": [
       "             chi_Tc     knorm\n",
       "L k                          \n",
       "8 0      335.245654  0.000000\n",
       "  10000   13.823719  1.000000\n",
       "  11000    7.116341  1.414214\n",
       "  11110    3.618510  2.000000\n",
       "  20000    4.224683  2.000000"
      ]
     },
     "execution_count": 91,
     "metadata": {},
     "output_type": "execute_result"
    }
   ],
   "source": [
    "chi_Tc.head()"
   ]
  },
  {
   "cell_type": "code",
   "execution_count": 28,
   "metadata": {
    "collapsed": false
   },
   "outputs": [],
   "source": [
    "def bootstrap_sample(data):\n",
    "    \n",
    "    groupby = ['L','Temp','k','LogSweeps']\n",
    "    \n",
    "    resamp = data.groupby(level=groupby, group_keys=False).apply(\n",
    "        lambda x: x.take(random_integers(0, len(x)-1, len(x))))\n",
    "    \n",
    "    chi = resamp.eval('L**5 * M2').groupby(level=groupby).agg(['mean','sem'])\n",
    "    \n",
    "    return chi.groupby(level=['L','k','LogSweeps']).apply(interpolate)"
   ]
  },
  {
   "cell_type": "code",
   "execution_count": 508,
   "metadata": {
    "collapsed": false
   },
   "outputs": [
    {
     "name": "stdout",
     "output_type": "stream",
     "text": [
      "CPU times: user 32.9 s, sys: 837 ms, total: 33.8 s\n",
      "Wall time: 33.3 s\n"
     ]
    },
    {
     "data": {
      "text/plain": [
       "L  k  LogSweeps\n",
       "8  0  4            339.631679\n",
       "      5            336.024951\n",
       "      6            332.875997\n",
       "      7            334.825623\n",
       "      8            335.049674\n",
       "dtype: float64"
      ]
     },
     "execution_count": 508,
     "metadata": {},
     "output_type": "execute_result"
    }
   ],
   "source": [
    "time bootstrap_sample(data[['M2']]).head()"
   ]
  },
  {
   "cell_type": "code",
   "execution_count": 29,
   "metadata": {
    "collapsed": false
   },
   "outputs": [
    {
     "name": "stdout",
     "output_type": "stream",
     "text": [
      "<class 'pandas.core.frame.DataFrame'>\n",
      "MultiIndex: 5751114 entries, (8, 8.668015, 0, 4, 0) to (36, 8.781072, 11000, 10, 87)\n",
      "Data columns (total 1 columns):\n",
      "M2    float64\n",
      "dtypes: float64(1)\n",
      "memory usage: 82.3+ MB\n"
     ]
    }
   ],
   "source": [
    "data[['M2']].info()"
   ]
  },
  {
   "cell_type": "code",
   "execution_count": 33,
   "metadata": {
    "collapsed": false
   },
   "outputs": [],
   "source": [
    "class Sampler:\n",
    "    \n",
    "    def __init__(self, data, sample):\n",
    "        self.data = data\n",
    "        self.sample = sample\n",
    "        \n",
    "    def __call__(self, seed):\n",
    "        random.seed(seed)\n",
    "        return self.sample(self.data)"
   ]
  },
  {
   "cell_type": "code",
   "execution_count": 34,
   "metadata": {
    "collapsed": false
   },
   "outputs": [],
   "source": [
    "seeds = random_integers(1e5, size=100)\n",
    "\n",
    "with mp.Pool(4) as p:\n",
    "    samples = p.map(Sampler(data[['M2']], bootstrap_sample), seeds)\n",
    "\n",
    "samples = pd.concat(samples, keys=seeds, names=['seed'])"
   ]
  },
  {
   "cell_type": "code",
   "execution_count": 37,
   "metadata": {
    "collapsed": false
   },
   "outputs": [
    {
     "data": {
      "text/html": [
       "<div>\n",
       "<table border=\"1\" class=\"dataframe\">\n",
       "  <thead>\n",
       "    <tr style=\"text-align: right;\">\n",
       "      <th></th>\n",
       "      <th></th>\n",
       "      <th></th>\n",
       "      <th>mean</th>\n",
       "      <th>sem</th>\n",
       "    </tr>\n",
       "    <tr>\n",
       "      <th>L</th>\n",
       "      <th>k</th>\n",
       "      <th>LogSweeps</th>\n",
       "      <th></th>\n",
       "      <th></th>\n",
       "    </tr>\n",
       "  </thead>\n",
       "  <tbody>\n",
       "    <tr>\n",
       "      <th rowspan=\"5\" valign=\"top\">8</th>\n",
       "      <th rowspan=\"5\" valign=\"top\">0</th>\n",
       "      <th>4</th>\n",
       "      <td>340.886659</td>\n",
       "      <td>0.435835</td>\n",
       "    </tr>\n",
       "    <tr>\n",
       "      <th>5</th>\n",
       "      <td>336.126570</td>\n",
       "      <td>0.254391</td>\n",
       "    </tr>\n",
       "    <tr>\n",
       "      <th>6</th>\n",
       "      <td>334.254079</td>\n",
       "      <td>0.205914</td>\n",
       "    </tr>\n",
       "    <tr>\n",
       "      <th>7</th>\n",
       "      <td>334.697373</td>\n",
       "      <td>0.107876</td>\n",
       "    </tr>\n",
       "    <tr>\n",
       "      <th>8</th>\n",
       "      <td>334.767796</td>\n",
       "      <td>0.100607</td>\n",
       "    </tr>\n",
       "  </tbody>\n",
       "</table>\n",
       "</div>"
      ],
      "text/plain": [
       "                     mean       sem\n",
       "L k LogSweeps                      \n",
       "8 0 4          340.886659  0.435835\n",
       "    5          336.126570  0.254391\n",
       "    6          334.254079  0.205914\n",
       "    7          334.697373  0.107876\n",
       "    8          334.767796  0.100607"
      ]
     },
     "execution_count": 37,
     "metadata": {},
     "output_type": "execute_result"
    }
   ],
   "source": [
    "chi_Tc = samples.groupby(level=['L','k','LogSweeps']).agg(['mean','sem'])\n",
    "chi_Tc.head()"
   ]
  },
  {
   "cell_type": "code",
   "execution_count": 36,
   "metadata": {
    "collapsed": true
   },
   "outputs": [],
   "source": [
    "#chi_Tc.to_hdf('chi-Tc-samples.h5', 'samples')"
   ]
  },
  {
   "cell_type": "code",
   "execution_count": 73,
   "metadata": {
    "collapsed": true
   },
   "outputs": [],
   "source": [
    "chi_Tc = pd.read_hdf('chi-Tc-samples.h5', 'samples')"
   ]
  },
  {
   "cell_type": "code",
   "execution_count": 74,
   "metadata": {
    "collapsed": true
   },
   "outputs": [],
   "source": [
    "chi_Tc = chi_Tc.join(knorm)"
   ]
  },
  {
   "cell_type": "code",
   "execution_count": 75,
   "metadata": {
    "collapsed": false
   },
   "outputs": [
    {
     "data": {
      "text/html": [
       "<div>\n",
       "<table border=\"1\" class=\"dataframe\">\n",
       "  <thead>\n",
       "    <tr style=\"text-align: right;\">\n",
       "      <th></th>\n",
       "      <th></th>\n",
       "      <th></th>\n",
       "      <th>mean</th>\n",
       "      <th>sem</th>\n",
       "      <th>knorm</th>\n",
       "    </tr>\n",
       "    <tr>\n",
       "      <th>L</th>\n",
       "      <th>k</th>\n",
       "      <th>LogSweeps</th>\n",
       "      <th></th>\n",
       "      <th></th>\n",
       "      <th></th>\n",
       "    </tr>\n",
       "  </thead>\n",
       "  <tbody>\n",
       "    <tr>\n",
       "      <th rowspan=\"5\" valign=\"top\">8</th>\n",
       "      <th rowspan=\"5\" valign=\"top\">0</th>\n",
       "      <th>4</th>\n",
       "      <td>340.886659</td>\n",
       "      <td>0.435835</td>\n",
       "      <td>0</td>\n",
       "    </tr>\n",
       "    <tr>\n",
       "      <th>5</th>\n",
       "      <td>336.126570</td>\n",
       "      <td>0.254391</td>\n",
       "      <td>0</td>\n",
       "    </tr>\n",
       "    <tr>\n",
       "      <th>6</th>\n",
       "      <td>334.254079</td>\n",
       "      <td>0.205914</td>\n",
       "      <td>0</td>\n",
       "    </tr>\n",
       "    <tr>\n",
       "      <th>7</th>\n",
       "      <td>334.697373</td>\n",
       "      <td>0.107876</td>\n",
       "      <td>0</td>\n",
       "    </tr>\n",
       "    <tr>\n",
       "      <th>8</th>\n",
       "      <td>334.767796</td>\n",
       "      <td>0.100607</td>\n",
       "      <td>0</td>\n",
       "    </tr>\n",
       "  </tbody>\n",
       "</table>\n",
       "</div>"
      ],
      "text/plain": [
       "                     mean       sem  knorm\n",
       "L k LogSweeps                             \n",
       "8 0 4          340.886659  0.435835      0\n",
       "    5          336.126570  0.254391      0\n",
       "    6          334.254079  0.205914      0\n",
       "    7          334.697373  0.107876      0\n",
       "    8          334.767796  0.100607      0"
      ]
     },
     "execution_count": 75,
     "metadata": {},
     "output_type": "execute_result"
    }
   ],
   "source": [
    "chi_Tc.head()"
   ]
  },
  {
   "cell_type": "code",
   "execution_count": 77,
   "metadata": {
    "collapsed": false
   },
   "outputs": [
    {
     "data": {
      "text/plain": [
       "<matplotlib.legend.Legend at 0x7f0c927bb8d0>"
      ]
     },
     "execution_count": 77,
     "metadata": {},
     "output_type": "execute_result"
    },
    {
     "data": {
      "image/png": "[encoded data removed]",
      "text/plain": [
       "<matplotlib.figure.Figure at 0x7f0c927b39b0>"
      ]
     },
     "metadata": {},
     "output_type": "display_data"
    }
   ],
   "source": [
    "for L, df in chi_Tc.query('knorm > 0').groupby(level='L'):\n",
    "    df.reset_index(inplace=True)\n",
    "    df = df[df.LogSweeps == df.LogSweeps.max()]\n",
    "    errorbar(df.knorm, df['mean'].values/L**2, df['sem'].values/L**2, label='{}'.format(L))\n",
    "    \n",
    "    df.to_csv('../data/chi-modes-p-Tc-L{:02d}.csv'.format(L), index=False)\n",
    "\n",
    "xscale('log')\n",
    "yscale('log')\n",
    "xlim(0.9, 2.2)\n",
    "ylim(0.04, 0.4)\n",
    "legend()"
   ]
  }
 ],
 "metadata": {
  "kernelspec": {
   "display_name": "Python 3",
   "language": "python",
   "name": "python3"
  },
  "language_info": {
   "codemirror_mode": {
    "name": "ipython",
    "version": 3
   },
   "file_extension": ".py",
   "mimetype": "text/x-python",
   "name": "python",
   "nbconvert_exporter": "python",
   "pygments_lexer": "ipython3",
   "version": "3.4.3"
  }
 },
 "nbformat": 4,
 "nbformat_minor": 0
}
