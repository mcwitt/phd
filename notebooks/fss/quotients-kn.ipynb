{
 "cells": [
  {
   "cell_type": "code",
   "execution_count": 1,
   "metadata": {
    "collapsed": false
   },
   "outputs": [
    {
     "name": "stdout",
     "output_type": "stream",
     "text": [
      "Populating the interactive namespace from numpy and matplotlib\n"
     ]
    }
   ],
   "source": [
    "%pylab inline"
   ]
  },
  {
   "cell_type": "code",
   "execution_count": 2,
   "metadata": {
    "collapsed": false
   },
   "outputs": [],
   "source": [
    "import pandas as pd\n",
    "import multiprocessing as mp\n",
    "import scipy.stats as stats\n",
    "from scipy.interpolate import UnivariateSpline\n",
    "from scipy.optimize import bisect, leastsq"
   ]
  },
  {
   "cell_type": "code",
   "execution_count": 3,
   "metadata": {
    "collapsed": false
   },
   "outputs": [],
   "source": [
    "kw = dict(where='Temp < 8.77845 & k != 0 & k != 11111', columns=['M2'])\n",
    "\n",
    "with pd.get_store('/Users/matt/Dropbox/data/fss/data.h5') as store:\n",
    "    data = pd.concat([store.select('old/free', **kw)])\n",
    "                      #store.select('old/free_extra', **kw)])\n",
    "\n",
    "data.index.names = [s if s != 'Stage' else 'LogSweeps' for s in data.index.names]\n",
    "#data.sortlevel(inplace=True)"
   ]
  },
  {
   "cell_type": "code",
   "execution_count": 4,
   "metadata": {
    "collapsed": false
   },
   "outputs": [
    {
     "data": {
      "text/html": [
       "<div>\n",
       "<table border=\"1\" class=\"dataframe\">\n",
       "  <thead>\n",
       "    <tr style=\"text-align: right;\">\n",
       "      <th></th>\n",
       "      <th></th>\n",
       "      <th></th>\n",
       "      <th></th>\n",
       "      <th></th>\n",
       "      <th>M2</th>\n",
       "    </tr>\n",
       "    <tr>\n",
       "      <th>L</th>\n",
       "      <th>Temp</th>\n",
       "      <th>k</th>\n",
       "      <th>LogSweeps</th>\n",
       "      <th>Run</th>\n",
       "      <th></th>\n",
       "    </tr>\n",
       "  </thead>\n",
       "  <tbody>\n",
       "    <tr>\n",
       "      <th rowspan=\"5\" valign=\"top\">8</th>\n",
       "      <th rowspan=\"5\" valign=\"top\">7.750308</th>\n",
       "      <th rowspan=\"5\" valign=\"top\">21111</th>\n",
       "      <th rowspan=\"5\" valign=\"top\">4</th>\n",
       "      <th>0</th>\n",
       "      <td>0.000023</td>\n",
       "    </tr>\n",
       "    <tr>\n",
       "      <th>1</th>\n",
       "      <td>0.000011</td>\n",
       "    </tr>\n",
       "    <tr>\n",
       "      <th>2</th>\n",
       "      <td>0.000019</td>\n",
       "    </tr>\n",
       "    <tr>\n",
       "      <th>3</th>\n",
       "      <td>0.000026</td>\n",
       "    </tr>\n",
       "    <tr>\n",
       "      <th>4</th>\n",
       "      <td>0.000026</td>\n",
       "    </tr>\n",
       "  </tbody>\n",
       "</table>\n",
       "</div>"
      ],
      "text/plain": [
       "                                      M2\n",
       "L Temp     k     LogSweeps Run          \n",
       "8 7.750308 21111 4         0    0.000023\n",
       "                           1    0.000011\n",
       "                           2    0.000019\n",
       "                           3    0.000026\n",
       "                           4    0.000026"
      ]
     },
     "execution_count": 4,
     "metadata": {},
     "output_type": "execute_result"
    }
   ],
   "source": [
    "data.head()"
   ]
  },
  {
   "cell_type": "code",
   "execution_count": 5,
   "metadata": {
    "collapsed": true
   },
   "outputs": [],
   "source": [
    "chi = data.eval('L**5 * M2')"
   ]
  },
  {
   "cell_type": "code",
   "execution_count": 6,
   "metadata": {
    "collapsed": false
   },
   "outputs": [],
   "source": [
    "chi_mean = (chi.groupby(level=['L','Temp','k','LogSweeps'])\n",
    "               .agg(['mean','sem']))"
   ]
  },
  {
   "cell_type": "code",
   "execution_count": 7,
   "metadata": {
    "collapsed": false
   },
   "outputs": [
    {
     "data": {
      "text/html": [
       "<div>\n",
       "<table border=\"1\" class=\"dataframe\">\n",
       "  <thead>\n",
       "    <tr style=\"text-align: right;\">\n",
       "      <th></th>\n",
       "      <th></th>\n",
       "      <th></th>\n",
       "      <th></th>\n",
       "      <th>mean</th>\n",
       "      <th>sem</th>\n",
       "    </tr>\n",
       "    <tr>\n",
       "      <th>L</th>\n",
       "      <th>Temp</th>\n",
       "      <th>k</th>\n",
       "      <th>LogSweeps</th>\n",
       "      <th></th>\n",
       "      <th></th>\n",
       "    </tr>\n",
       "  </thead>\n",
       "  <tbody>\n",
       "    <tr>\n",
       "      <th rowspan=\"5\" valign=\"top\">8</th>\n",
       "      <th rowspan=\"5\" valign=\"top\">7.750308</th>\n",
       "      <th rowspan=\"5\" valign=\"top\">21111</th>\n",
       "      <th>4</th>\n",
       "      <td>0.617912</td>\n",
       "      <td>0.011528</td>\n",
       "    </tr>\n",
       "    <tr>\n",
       "      <th>5</th>\n",
       "      <td>0.610175</td>\n",
       "      <td>0.007316</td>\n",
       "    </tr>\n",
       "    <tr>\n",
       "      <th>6</th>\n",
       "      <td>0.618266</td>\n",
       "      <td>0.004772</td>\n",
       "    </tr>\n",
       "    <tr>\n",
       "      <th>7</th>\n",
       "      <td>0.625839</td>\n",
       "      <td>0.004104</td>\n",
       "    </tr>\n",
       "    <tr>\n",
       "      <th>8</th>\n",
       "      <td>0.619240</td>\n",
       "      <td>0.002518</td>\n",
       "    </tr>\n",
       "  </tbody>\n",
       "</table>\n",
       "</div>"
      ],
      "text/plain": [
       "                                mean       sem\n",
       "L Temp     k     LogSweeps                    \n",
       "8 7.750308 21111 4          0.617912  0.011528\n",
       "                 5          0.610175  0.007316\n",
       "                 6          0.618266  0.004772\n",
       "                 7          0.625839  0.004104\n",
       "                 8          0.619240  0.002518"
      ]
     },
     "execution_count": 7,
     "metadata": {},
     "output_type": "execute_result"
    }
   ],
   "source": [
    "chi_mean.head()"
   ]
  },
  {
   "cell_type": "code",
   "execution_count": 8,
   "metadata": {
    "collapsed": false
   },
   "outputs": [],
   "source": [
    "chi_final = (chi_mean.groupby(level=['L','Temp','k'])\n",
    "                     .apply(lambda df: df.sortlevel('LogSweeps').iloc[-1]))"
   ]
  },
  {
   "cell_type": "code",
   "execution_count": 9,
   "metadata": {
    "collapsed": false
   },
   "outputs": [
    {
     "data": {
      "text/html": [
       "<div>\n",
       "<table border=\"1\" class=\"dataframe\">\n",
       "  <thead>\n",
       "    <tr style=\"text-align: right;\">\n",
       "      <th></th>\n",
       "      <th></th>\n",
       "      <th></th>\n",
       "      <th>mean</th>\n",
       "      <th>sem</th>\n",
       "    </tr>\n",
       "    <tr>\n",
       "      <th>L</th>\n",
       "      <th>Temp</th>\n",
       "      <th>k</th>\n",
       "      <th></th>\n",
       "      <th></th>\n",
       "    </tr>\n",
       "  </thead>\n",
       "  <tbody>\n",
       "    <tr>\n",
       "      <th rowspan=\"5\" valign=\"top\">8</th>\n",
       "      <th rowspan=\"3\" valign=\"top\">7.750308</th>\n",
       "      <th>21111</th>\n",
       "      <td>0.622098</td>\n",
       "      <td>0.001437</td>\n",
       "    </tr>\n",
       "    <tr>\n",
       "      <th>22111</th>\n",
       "      <td>0.483464</td>\n",
       "      <td>0.001013</td>\n",
       "    </tr>\n",
       "    <tr>\n",
       "      <th>22211</th>\n",
       "      <td>0.386329</td>\n",
       "      <td>0.000772</td>\n",
       "    </tr>\n",
       "    <tr>\n",
       "      <th rowspan=\"2\" valign=\"top\">7.775425</th>\n",
       "      <th>21111</th>\n",
       "      <td>0.661134</td>\n",
       "      <td>0.001390</td>\n",
       "    </tr>\n",
       "    <tr>\n",
       "      <th>22111</th>\n",
       "      <td>0.500405</td>\n",
       "      <td>0.001010</td>\n",
       "    </tr>\n",
       "  </tbody>\n",
       "</table>\n",
       "</div>"
      ],
      "text/plain": [
       "                      mean       sem\n",
       "L Temp     k                        \n",
       "8 7.750308 21111  0.622098  0.001437\n",
       "           22111  0.483464  0.001013\n",
       "           22211  0.386329  0.000772\n",
       "  7.775425 21111  0.661134  0.001390\n",
       "           22111  0.500405  0.001010"
      ]
     },
     "execution_count": 9,
     "metadata": {},
     "output_type": "execute_result"
    }
   ],
   "source": [
    "chi_final.head()"
   ]
  },
  {
   "cell_type": "code",
   "execution_count": 10,
   "metadata": {
    "collapsed": false
   },
   "outputs": [
    {
     "data": {
      "text/plain": [
       "(0.1, 20)"
      ]
     },
     "execution_count": 10,
     "metadata": {},
     "output_type": "execute_result"
    },
    {
     "data": {
      "image/png": "[encoded data removed]",
      "text/plain": [
       "<matplotlib.figure.Figure at 0x107b076d8>"
      ]
     },
     "metadata": {},
     "output_type": "display_data"
    }
   ],
   "source": [
    "for L, df in chi_final.xs(21111, level='k').groupby(level='L'):\n",
    "    df.reset_index(inplace=True)\n",
    "    errorbar(df.Temp, df['mean'], df['sem'])\n",
    "    \n",
    "yscale('log')\n",
    "xlim(7.8, 9.05)\n",
    "ylim(0.1, 20)"
   ]
  },
  {
   "cell_type": "markdown",
   "metadata": {},
   "source": [
    "# Wide-range data"
   ]
  },
  {
   "cell_type": "code",
   "execution_count": 11,
   "metadata": {
    "collapsed": true
   },
   "outputs": [],
   "source": [
    "from glob import glob"
   ]
  },
  {
   "cell_type": "code",
   "execution_count": 12,
   "metadata": {
    "collapsed": false
   },
   "outputs": [
    {
     "ename": "ValueError",
     "evalue": "All objects passed were None",
     "output_type": "error",
     "traceback": [
      "\u001b[0;31m---------------------------------------------------------------------------\u001b[0m",
      "\u001b[0;31mValueError\u001b[0m                                Traceback (most recent call last)",
      "\u001b[0;32m<ipython-input-12-fb70df5f7265>\u001b[0m in \u001b[0;36m<module>\u001b[0;34m()\u001b[0m\n\u001b[1;32m      1\u001b[0m \u001b[0mkw\u001b[0m \u001b[0;34m=\u001b[0m \u001b[0mdict\u001b[0m\u001b[0;34m(\u001b[0m\u001b[0mindex_col\u001b[0m\u001b[0;34m=\u001b[0m\u001b[0;34m[\u001b[0m\u001b[0;34m'bc'\u001b[0m\u001b[0;34m,\u001b[0m\u001b[0;34m'd'\u001b[0m\u001b[0;34m,\u001b[0m\u001b[0;34m'L'\u001b[0m\u001b[0;34m,\u001b[0m\u001b[0;34m'T'\u001b[0m\u001b[0;34m,\u001b[0m\u001b[0;34m'k'\u001b[0m\u001b[0;34m]\u001b[0m\u001b[0;34m)\u001b[0m\u001b[0;34m\u001b[0m\u001b[0m\n\u001b[0;32m----> 2\u001b[0;31m \u001b[0mdata\u001b[0m \u001b[0;34m=\u001b[0m \u001b[0mpd\u001b[0m\u001b[0;34m.\u001b[0m\u001b[0mconcat\u001b[0m\u001b[0;34m(\u001b[0m\u001b[0;34m[\u001b[0m\u001b[0mpd\u001b[0m\u001b[0;34m.\u001b[0m\u001b[0mread_csv\u001b[0m\u001b[0;34m(\u001b[0m\u001b[0mf\u001b[0m\u001b[0;34m,\u001b[0m \u001b[0;34m**\u001b[0m\u001b[0mkw\u001b[0m\u001b[0;34m)\u001b[0m \u001b[0;32mfor\u001b[0m \u001b[0mf\u001b[0m \u001b[0;32min\u001b[0m \u001b[0mglob\u001b[0m\u001b[0;34m(\u001b[0m\u001b[0;34m'f-kn-wide/*.csv'\u001b[0m\u001b[0;34m)\u001b[0m\u001b[0;34m]\u001b[0m\u001b[0;34m)\u001b[0m\u001b[0;34m\u001b[0m\u001b[0m\n\u001b[0m\u001b[1;32m      3\u001b[0m \u001b[0mdata\u001b[0m \u001b[0;34m=\u001b[0m \u001b[0mdata\u001b[0m\u001b[0;34m.\u001b[0m\u001b[0mreset_index\u001b[0m\u001b[0;34m(\u001b[0m\u001b[0;34m[\u001b[0m\u001b[0;34m'bc'\u001b[0m\u001b[0;34m,\u001b[0m\u001b[0;34m'd'\u001b[0m\u001b[0;34m]\u001b[0m\u001b[0;34m,\u001b[0m \u001b[0mdrop\u001b[0m\u001b[0;34m=\u001b[0m\u001b[0;32mTrue\u001b[0m\u001b[0;34m)\u001b[0m\u001b[0;34m[\u001b[0m\u001b[0;34m[\u001b[0m\u001b[0;34m'chi'\u001b[0m\u001b[0;34m,\u001b[0m\u001b[0;34m'chi_err'\u001b[0m\u001b[0;34m]\u001b[0m\u001b[0;34m]\u001b[0m\u001b[0;34m\u001b[0m\u001b[0m\n",
      "\u001b[0;32m/Users/matt/.virtualenvs/py3/lib/python3.4/site-packages/pandas/tools/merge.py\u001b[0m in \u001b[0;36mconcat\u001b[0;34m(objs, axis, join, join_axes, ignore_index, keys, levels, names, verify_integrity, copy)\u001b[0m\n\u001b[1;32m    752\u001b[0m                        \u001b[0mkeys\u001b[0m\u001b[0;34m=\u001b[0m\u001b[0mkeys\u001b[0m\u001b[0;34m,\u001b[0m \u001b[0mlevels\u001b[0m\u001b[0;34m=\u001b[0m\u001b[0mlevels\u001b[0m\u001b[0;34m,\u001b[0m \u001b[0mnames\u001b[0m\u001b[0;34m=\u001b[0m\u001b[0mnames\u001b[0m\u001b[0;34m,\u001b[0m\u001b[0;34m\u001b[0m\u001b[0m\n\u001b[1;32m    753\u001b[0m                        \u001b[0mverify_integrity\u001b[0m\u001b[0;34m=\u001b[0m\u001b[0mverify_integrity\u001b[0m\u001b[0;34m,\u001b[0m\u001b[0;34m\u001b[0m\u001b[0m\n\u001b[0;32m--> 754\u001b[0;31m                        copy=copy)\n\u001b[0m\u001b[1;32m    755\u001b[0m     \u001b[0;32mreturn\u001b[0m \u001b[0mop\u001b[0m\u001b[0;34m.\u001b[0m\u001b[0mget_result\u001b[0m\u001b[0;34m(\u001b[0m\u001b[0;34m)\u001b[0m\u001b[0;34m\u001b[0m\u001b[0m\n\u001b[1;32m    756\u001b[0m \u001b[0;34m\u001b[0m\u001b[0m\n",
      "\u001b[0;32m/Users/matt/.virtualenvs/py3/lib/python3.4/site-packages/pandas/tools/merge.py\u001b[0m in \u001b[0;36m__init__\u001b[0;34m(self, objs, axis, join, join_axes, keys, levels, names, ignore_index, verify_integrity, copy)\u001b[0m\n\u001b[1;32m    797\u001b[0m \u001b[0;34m\u001b[0m\u001b[0m\n\u001b[1;32m    798\u001b[0m         \u001b[0;32mif\u001b[0m \u001b[0mlen\u001b[0m\u001b[0;34m(\u001b[0m\u001b[0mobjs\u001b[0m\u001b[0;34m)\u001b[0m \u001b[0;34m==\u001b[0m \u001b[0;36m0\u001b[0m\u001b[0;34m:\u001b[0m\u001b[0;34m\u001b[0m\u001b[0m\n\u001b[0;32m--> 799\u001b[0;31m             \u001b[0;32mraise\u001b[0m \u001b[0mValueError\u001b[0m\u001b[0;34m(\u001b[0m\u001b[0;34m'All objects passed were None'\u001b[0m\u001b[0;34m)\u001b[0m\u001b[0;34m\u001b[0m\u001b[0m\n\u001b[0m\u001b[1;32m    800\u001b[0m \u001b[0;34m\u001b[0m\u001b[0m\n\u001b[1;32m    801\u001b[0m         \u001b[0;31m# consolidate data & figure out what our result ndim is going to be\u001b[0m\u001b[0;34m\u001b[0m\u001b[0;34m\u001b[0m\u001b[0m\n",
      "\u001b[0;31mValueError\u001b[0m: All objects passed were None"
     ]
    }
   ],
   "source": [
    "kw = dict(index_col=['bc','d','L','T','k'])\n",
    "data = pd.concat([pd.read_csv(f, **kw) for f in glob('f-kn-wide/*.csv')])\n",
    "data = data.reset_index(['bc','d'], drop=True)[['chi','chi_err']]"
   ]
  },
  {
   "cell_type": "code",
   "execution_count": null,
   "metadata": {
    "collapsed": false
   },
   "outputs": [],
   "source": [
    "data.head()"
   ]
  },
  {
   "cell_type": "code",
   "execution_count": null,
   "metadata": {
    "collapsed": false
   },
   "outputs": [],
   "source": [
    "for L, df in data.xs(21111, level='k').groupby(level='L'):\n",
    "    df.reset_index(inplace=True)\n",
    "    errorbar(df['T'], df['chi'], df['chi_err'])\n",
    "    df.to_csv('../../data/chi-f-k21-L{:02d}.csv'.format(L), index=False)\n",
    "    \n",
    "yscale('log')\n",
    "xlim(7.8, 9.05)\n",
    "ylim(0.1, 20)"
   ]
  },
  {
   "cell_type": "markdown",
   "metadata": {},
   "source": [
    "# Quotients for $\\chi_{21}(T_L)$"
   ]
  },
  {
   "cell_type": "code",
   "execution_count": 13,
   "metadata": {
    "collapsed": false
   },
   "outputs": [
    {
     "data": {
      "text/html": [
       "<div>\n",
       "<table border=\"1\" class=\"dataframe\">\n",
       "  <thead>\n",
       "    <tr style=\"text-align: right;\">\n",
       "      <th></th>\n",
       "      <th></th>\n",
       "      <th></th>\n",
       "      <th>mean</th>\n",
       "      <th>sem</th>\n",
       "    </tr>\n",
       "    <tr>\n",
       "      <th>L</th>\n",
       "      <th>Temp</th>\n",
       "      <th>k</th>\n",
       "      <th></th>\n",
       "      <th></th>\n",
       "    </tr>\n",
       "  </thead>\n",
       "  <tbody>\n",
       "    <tr>\n",
       "      <th rowspan=\"5\" valign=\"top\">8</th>\n",
       "      <th rowspan=\"3\" valign=\"top\">7.750308</th>\n",
       "      <th>21111</th>\n",
       "      <td>0.622098</td>\n",
       "      <td>0.001437</td>\n",
       "    </tr>\n",
       "    <tr>\n",
       "      <th>22111</th>\n",
       "      <td>0.483464</td>\n",
       "      <td>0.001013</td>\n",
       "    </tr>\n",
       "    <tr>\n",
       "      <th>22211</th>\n",
       "      <td>0.386329</td>\n",
       "      <td>0.000772</td>\n",
       "    </tr>\n",
       "    <tr>\n",
       "      <th rowspan=\"2\" valign=\"top\">7.775425</th>\n",
       "      <th>21111</th>\n",
       "      <td>0.661134</td>\n",
       "      <td>0.001390</td>\n",
       "    </tr>\n",
       "    <tr>\n",
       "      <th>22111</th>\n",
       "      <td>0.500405</td>\n",
       "      <td>0.001010</td>\n",
       "    </tr>\n",
       "  </tbody>\n",
       "</table>\n",
       "</div>"
      ],
      "text/plain": [
       "                      mean       sem\n",
       "L Temp     k                        \n",
       "8 7.750308 21111  0.622098  0.001437\n",
       "           22111  0.483464  0.001013\n",
       "           22211  0.386329  0.000772\n",
       "  7.775425 21111  0.661134  0.001390\n",
       "           22111  0.500405  0.001010"
      ]
     },
     "execution_count": 13,
     "metadata": {},
     "output_type": "execute_result"
    }
   ],
   "source": [
    "chi_final.head()"
   ]
  },
  {
   "cell_type": "code",
   "execution_count": 14,
   "metadata": {
    "collapsed": false
   },
   "outputs": [
    {
     "data": {
      "text/plain": [
       "<matplotlib.lines.Line2D at 0x10e1be6d8>"
      ]
     },
     "execution_count": 14,
     "metadata": {},
     "output_type": "execute_result"
    },
    {
     "data": {
      "image/png": "[encoded data removed]",
      "text/plain": [
       "<matplotlib.figure.Figure at 0x107b9d080>"
      ]
     },
     "metadata": {},
     "output_type": "display_data"
    }
   ],
   "source": [
    "df = chi_mean.xs([32, 21111, 10], level=['L','k','LogSweeps'])\n",
    "df.plot(y='mean', yerr='sem', ls='')\n",
    "\n",
    "F = UnivariateSpline(df.index, df['mean'], 1/df['sem'])\n",
    "x = linspace(*xlim())\n",
    "plot(x, F(x))\n",
    "\n",
    "f = F.derivative()\n",
    "x0 = bisect(f, df.index[0], df.index[-1])\n",
    "axvline(x0)\n",
    "axhline(F(x0))"
   ]
  },
  {
   "cell_type": "code",
   "execution_count": 15,
   "metadata": {
    "collapsed": true
   },
   "outputs": [],
   "source": [
    "def findTL(y):\n",
    "    \n",
    "    try:\n",
    "        F = UnivariateSpline(y.index, y['mean'], w=1./y['sem'])\n",
    "        f = F.derivative()\n",
    "        x0 = bisect(f, y.index[0], y.index[-1])\n",
    "        y0 = F(x0).item()\n",
    "        \n",
    "    except ValueError as e:\n",
    "        x0 = nan\n",
    "        y0 = nan\n",
    "        \n",
    "    return pd.Series({'TL': x0, 'chiTL': y0})"
   ]
  },
  {
   "cell_type": "code",
   "execution_count": 16,
   "metadata": {
    "collapsed": false
   },
   "outputs": [],
   "source": [
    "chiTL = (chi_mean.groupby(level=['L','k','LogSweeps'])\n",
    "                 .apply(lambda df: findTL(df.reset_index(['L','k','LogSweeps']))))"
   ]
  },
  {
   "cell_type": "code",
   "execution_count": 17,
   "metadata": {
    "collapsed": false
   },
   "outputs": [
    {
     "data": {
      "text/html": [
       "<div>\n",
       "<table border=\"1\" class=\"dataframe\">\n",
       "  <thead>\n",
       "    <tr style=\"text-align: right;\">\n",
       "      <th></th>\n",
       "      <th></th>\n",
       "      <th>TL</th>\n",
       "      <th>chiTL</th>\n",
       "    </tr>\n",
       "    <tr>\n",
       "      <th>L</th>\n",
       "      <th>LogSweeps</th>\n",
       "      <th></th>\n",
       "      <th></th>\n",
       "    </tr>\n",
       "  </thead>\n",
       "  <tbody>\n",
       "    <tr>\n",
       "      <th rowspan=\"5\" valign=\"top\">8</th>\n",
       "      <th>4</th>\n",
       "      <td>8.035640</td>\n",
       "      <td>1.214787</td>\n",
       "    </tr>\n",
       "    <tr>\n",
       "      <th>5</th>\n",
       "      <td>8.041626</td>\n",
       "      <td>1.262076</td>\n",
       "    </tr>\n",
       "    <tr>\n",
       "      <th>6</th>\n",
       "      <td>8.038678</td>\n",
       "      <td>1.246237</td>\n",
       "    </tr>\n",
       "    <tr>\n",
       "      <th>7</th>\n",
       "      <td>8.036738</td>\n",
       "      <td>1.251897</td>\n",
       "    </tr>\n",
       "    <tr>\n",
       "      <th>8</th>\n",
       "      <td>8.029409</td>\n",
       "      <td>1.242032</td>\n",
       "    </tr>\n",
       "  </tbody>\n",
       "</table>\n",
       "</div>"
      ],
      "text/plain": [
       "                   TL     chiTL\n",
       "L LogSweeps                    \n",
       "8 4          8.035640  1.214787\n",
       "  5          8.041626  1.262076\n",
       "  6          8.038678  1.246237\n",
       "  7          8.036738  1.251897\n",
       "  8          8.029409  1.242032"
      ]
     },
     "execution_count": 17,
     "metadata": {},
     "output_type": "execute_result"
    }
   ],
   "source": [
    "chiTL.xs(21111, level='k').head()"
   ]
  },
  {
   "cell_type": "markdown",
   "metadata": {},
   "source": [
    "# Bootstrap"
   ]
  },
  {
   "cell_type": "code",
   "execution_count": 18,
   "metadata": {
    "collapsed": true
   },
   "outputs": [],
   "source": [
    "def compute_TL_chi(data):\n",
    "    \n",
    "    groupby = ['L','Temp','k','LogSweeps']\n",
    "    chi_mean = data.groupby(level=groupby).agg(['mean','sem'])\n",
    "    \n",
    "    result = (chi_mean.groupby(level=['L','k','LogSweeps'])\n",
    "                      .apply(lambda df: findTL(df.reset_index(['L','k','LogSweeps']))))\n",
    "    \n",
    "    return result"
   ]
  },
  {
   "cell_type": "code",
   "execution_count": 19,
   "metadata": {
    "collapsed": false
   },
   "outputs": [
    {
     "data": {
      "text/html": [
       "<div>\n",
       "<table border=\"1\" class=\"dataframe\">\n",
       "  <thead>\n",
       "    <tr style=\"text-align: right;\">\n",
       "      <th></th>\n",
       "      <th></th>\n",
       "      <th></th>\n",
       "      <th>TL</th>\n",
       "      <th>chiTL</th>\n",
       "    </tr>\n",
       "    <tr>\n",
       "      <th>L</th>\n",
       "      <th>k</th>\n",
       "      <th>LogSweeps</th>\n",
       "      <th></th>\n",
       "      <th></th>\n",
       "    </tr>\n",
       "  </thead>\n",
       "  <tbody>\n",
       "    <tr>\n",
       "      <th rowspan=\"5\" valign=\"top\">8</th>\n",
       "      <th rowspan=\"5\" valign=\"top\">21111</th>\n",
       "      <th>4</th>\n",
       "      <td>8.035640</td>\n",
       "      <td>1.214787</td>\n",
       "    </tr>\n",
       "    <tr>\n",
       "      <th>5</th>\n",
       "      <td>8.041626</td>\n",
       "      <td>1.262076</td>\n",
       "    </tr>\n",
       "    <tr>\n",
       "      <th>6</th>\n",
       "      <td>8.038678</td>\n",
       "      <td>1.246237</td>\n",
       "    </tr>\n",
       "    <tr>\n",
       "      <th>7</th>\n",
       "      <td>8.036738</td>\n",
       "      <td>1.251897</td>\n",
       "    </tr>\n",
       "    <tr>\n",
       "      <th>8</th>\n",
       "      <td>8.029409</td>\n",
       "      <td>1.242032</td>\n",
       "    </tr>\n",
       "  </tbody>\n",
       "</table>\n",
       "</div>"
      ],
      "text/plain": [
       "                         TL     chiTL\n",
       "L k     LogSweeps                    \n",
       "8 21111 4          8.035640  1.214787\n",
       "        5          8.041626  1.262076\n",
       "        6          8.038678  1.246237\n",
       "        7          8.036738  1.251897\n",
       "        8          8.029409  1.242032"
      ]
     },
     "execution_count": 19,
     "metadata": {},
     "output_type": "execute_result"
    }
   ],
   "source": [
    "compute_TL_chi(chi).head()"
   ]
  },
  {
   "cell_type": "code",
   "execution_count": 20,
   "metadata": {
    "collapsed": true
   },
   "outputs": [],
   "source": [
    "def bootstrap_sample(groups):\n",
    "    return groups.apply(lambda x: x.take(random_integers(0, len(x)-1, len(x))))\n",
    "\n",
    "\n",
    "class BootstrapSampler:\n",
    "    \n",
    "    def __init__(self, data, groupby, reducer):\n",
    "        self.data = data\n",
    "        self.groupby = groupby\n",
    "        self.reducer = reducer\n",
    "        \n",
    "    def __call__(self, seed):\n",
    "        random.seed(seed)\n",
    "        resamp = bootstrap_sample(self.data.groupby(level=self.groupby, group_keys=False))\n",
    "        return self.reducer(resamp)"
   ]
  },
  {
   "cell_type": "code",
   "execution_count": 21,
   "metadata": {
    "collapsed": false
   },
   "outputs": [],
   "source": [
    "seeds = random_integers(1e5, size=100)\n",
    "bs = BootstrapSampler(chi, ['L','k','Temp','LogSweeps'], compute_TL_chi)\n",
    "\n",
    "with mp.Pool(4) as p:\n",
    "    samples = p.map(bs, seeds)\n",
    "\n",
    "samples = pd.concat(samples, keys=seeds, names=['seed'])"
   ]
  },
  {
   "cell_type": "code",
   "execution_count": 22,
   "metadata": {
    "collapsed": false
   },
   "outputs": [
    {
     "data": {
      "text/html": [
       "<div>\n",
       "<table border=\"1\" class=\"dataframe\">\n",
       "  <thead>\n",
       "    <tr style=\"text-align: right;\">\n",
       "      <th></th>\n",
       "      <th></th>\n",
       "      <th></th>\n",
       "      <th></th>\n",
       "      <th>TL</th>\n",
       "      <th>chiTL</th>\n",
       "    </tr>\n",
       "    <tr>\n",
       "      <th>seed</th>\n",
       "      <th>L</th>\n",
       "      <th>k</th>\n",
       "      <th>LogSweeps</th>\n",
       "      <th></th>\n",
       "      <th></th>\n",
       "    </tr>\n",
       "  </thead>\n",
       "  <tbody>\n",
       "    <tr>\n",
       "      <th rowspan=\"5\" valign=\"top\">2838</th>\n",
       "      <th rowspan=\"5\" valign=\"top\">8</th>\n",
       "      <th rowspan=\"5\" valign=\"top\">21111</th>\n",
       "      <th>4</th>\n",
       "      <td>8.013531</td>\n",
       "      <td>1.220342</td>\n",
       "    </tr>\n",
       "    <tr>\n",
       "      <th>5</th>\n",
       "      <td>8.056113</td>\n",
       "      <td>1.286426</td>\n",
       "    </tr>\n",
       "    <tr>\n",
       "      <th>6</th>\n",
       "      <td>8.024242</td>\n",
       "      <td>1.255001</td>\n",
       "    </tr>\n",
       "    <tr>\n",
       "      <th>7</th>\n",
       "      <td>8.035383</td>\n",
       "      <td>1.259982</td>\n",
       "    </tr>\n",
       "    <tr>\n",
       "      <th>8</th>\n",
       "      <td>8.025356</td>\n",
       "      <td>1.243803</td>\n",
       "    </tr>\n",
       "  </tbody>\n",
       "</table>\n",
       "</div>"
      ],
      "text/plain": [
       "                              TL     chiTL\n",
       "seed L k     LogSweeps                    \n",
       "2838 8 21111 4          8.013531  1.220342\n",
       "             5          8.056113  1.286426\n",
       "             6          8.024242  1.255001\n",
       "             7          8.035383  1.259982\n",
       "             8          8.025356  1.243803"
      ]
     },
     "execution_count": 22,
     "metadata": {},
     "output_type": "execute_result"
    }
   ],
   "source": [
    "samples.head()"
   ]
  },
  {
   "cell_type": "code",
   "execution_count": 23,
   "metadata": {
    "collapsed": true
   },
   "outputs": [],
   "source": [
    "samples.to_hdf('chi-k21-TL-samples.h5','samples')"
   ]
  },
  {
   "cell_type": "code",
   "execution_count": 24,
   "metadata": {
    "collapsed": true
   },
   "outputs": [],
   "source": [
    "samples = pd.read_hdf('chi-k21-TL-samples.h5','samples')"
   ]
  },
  {
   "cell_type": "code",
   "execution_count": 25,
   "metadata": {
    "collapsed": false
   },
   "outputs": [
    {
     "data": {
      "text/html": [
       "<div>\n",
       "<table border=\"1\" class=\"dataframe\">\n",
       "  <thead>\n",
       "    <tr style=\"text-align: right;\">\n",
       "      <th></th>\n",
       "      <th></th>\n",
       "      <th></th>\n",
       "      <th></th>\n",
       "      <th>TL</th>\n",
       "      <th>chiTL</th>\n",
       "    </tr>\n",
       "    <tr>\n",
       "      <th>seed</th>\n",
       "      <th>L</th>\n",
       "      <th>k</th>\n",
       "      <th>LogSweeps</th>\n",
       "      <th></th>\n",
       "      <th></th>\n",
       "    </tr>\n",
       "  </thead>\n",
       "  <tbody>\n",
       "    <tr>\n",
       "      <th rowspan=\"5\" valign=\"top\">2838</th>\n",
       "      <th rowspan=\"5\" valign=\"top\">8</th>\n",
       "      <th rowspan=\"5\" valign=\"top\">21111</th>\n",
       "      <th>4</th>\n",
       "      <td>8.013531</td>\n",
       "      <td>1.220342</td>\n",
       "    </tr>\n",
       "    <tr>\n",
       "      <th>5</th>\n",
       "      <td>8.056113</td>\n",
       "      <td>1.286426</td>\n",
       "    </tr>\n",
       "    <tr>\n",
       "      <th>6</th>\n",
       "      <td>8.024242</td>\n",
       "      <td>1.255001</td>\n",
       "    </tr>\n",
       "    <tr>\n",
       "      <th>7</th>\n",
       "      <td>8.035383</td>\n",
       "      <td>1.259982</td>\n",
       "    </tr>\n",
       "    <tr>\n",
       "      <th>8</th>\n",
       "      <td>8.025356</td>\n",
       "      <td>1.243803</td>\n",
       "    </tr>\n",
       "  </tbody>\n",
       "</table>\n",
       "</div>"
      ],
      "text/plain": [
       "                              TL     chiTL\n",
       "seed L k     LogSweeps                    \n",
       "2838 8 21111 4          8.013531  1.220342\n",
       "             5          8.056113  1.286426\n",
       "             6          8.024242  1.255001\n",
       "             7          8.035383  1.259982\n",
       "             8          8.025356  1.243803"
      ]
     },
     "execution_count": 25,
     "metadata": {},
     "output_type": "execute_result"
    }
   ],
   "source": [
    "samples.head()"
   ]
  },
  {
   "cell_type": "code",
   "execution_count": 26,
   "metadata": {
    "collapsed": true
   },
   "outputs": [],
   "source": [
    "samples_final = (samples.groupby(level=['seed','L','k'])\n",
    "                        .apply(lambda df: df.sortlevel('LogSweeps').iloc[-1]))"
   ]
  },
  {
   "cell_type": "code",
   "execution_count": 27,
   "metadata": {
    "collapsed": true
   },
   "outputs": [],
   "source": [
    "def quotients(y, s=2):\n",
    "    \n",
    "    pairs = [(L, int(round(s*L))) \n",
    "             for L in y.index \n",
    "             if int(round(s*L)) in y.index]\n",
    "    \n",
    "    return {L1: log(y[L2]/y[L1])/log(s) for L1, L2 in pairs}"
   ]
  },
  {
   "cell_type": "code",
   "execution_count": 28,
   "metadata": {
    "collapsed": true
   },
   "outputs": [],
   "source": [
    "def get_quotients(y, ss=[1.5, 2]):\n",
    "    result = pd.concat({s: pd.Series(quotients(y, s), name='Q') for s in ss})\n",
    "    result.index.names = result.index.names[:-2] + ['s','L']\n",
    "    return result"
   ]
  },
  {
   "cell_type": "code",
   "execution_count": 29,
   "metadata": {
    "collapsed": true
   },
   "outputs": [],
   "source": [
    "chiTL = samples_final.xs(21111, level='k').chiTL"
   ]
  },
  {
   "cell_type": "code",
   "execution_count": 30,
   "metadata": {
    "collapsed": false
   },
   "outputs": [
    {
     "data": {
      "text/plain": [
       "seed  L \n",
       "1781  8     1.245808\n",
       "      10    1.694818\n",
       "      12    2.223809\n",
       "      14    2.806517\n",
       "      16    3.454478\n",
       "Name: chiTL, dtype: float64"
      ]
     },
     "execution_count": 30,
     "metadata": {},
     "output_type": "execute_result"
    }
   ],
   "source": [
    "chiTL.head()"
   ]
  },
  {
   "cell_type": "code",
   "execution_count": 32,
   "metadata": {
    "collapsed": false
   },
   "outputs": [
    {
     "data": {
      "text/plain": [
       "s    L \n",
       "1.5  8     1.429067\n",
       "     12    1.584739\n",
       "     16    1.678668\n",
       "     24    1.784525\n",
       "2.0  8     1.471386\n",
       "     10    1.561769\n",
       "     12    1.617393\n",
       "     14    1.671758\n",
       "     16    1.716443\n",
       "     18    1.734261\n",
       "Name: Q, dtype: float64"
      ]
     },
     "execution_count": 32,
     "metadata": {},
     "output_type": "execute_result"
    }
   ],
   "source": [
    "get_quotients(chiTL.loc[1781])"
   ]
  },
  {
   "cell_type": "code",
   "execution_count": 33,
   "metadata": {
    "collapsed": true
   },
   "outputs": [],
   "source": [
    "qchiTL = (chiTL.groupby(level='seed')\n",
    "               .apply(lambda y: get_quotients(y.reset_index('seed', drop=True))))"
   ]
  },
  {
   "cell_type": "code",
   "execution_count": 34,
   "metadata": {
    "collapsed": false
   },
   "outputs": [],
   "source": [
    "qchiTL_mean = qchiTL.groupby(level=['s','L']).agg(['mean','std'])"
   ]
  },
  {
   "cell_type": "code",
   "execution_count": 35,
   "metadata": {
    "collapsed": false
   },
   "outputs": [
    {
     "data": {
      "text/html": [
       "<div>\n",
       "<table border=\"1\" class=\"dataframe\">\n",
       "  <thead>\n",
       "    <tr style=\"text-align: right;\">\n",
       "      <th></th>\n",
       "      <th></th>\n",
       "      <th>mean</th>\n",
       "      <th>std</th>\n",
       "    </tr>\n",
       "    <tr>\n",
       "      <th>s</th>\n",
       "      <th>L</th>\n",
       "      <th></th>\n",
       "      <th></th>\n",
       "    </tr>\n",
       "  </thead>\n",
       "  <tbody>\n",
       "    <tr>\n",
       "      <th rowspan=\"4\" valign=\"top\">1.5</th>\n",
       "      <th>8</th>\n",
       "      <td>1.423570</td>\n",
       "      <td>0.004432</td>\n",
       "    </tr>\n",
       "    <tr>\n",
       "      <th>12</th>\n",
       "      <td>1.582374</td>\n",
       "      <td>0.005154</td>\n",
       "    </tr>\n",
       "    <tr>\n",
       "      <th>16</th>\n",
       "      <td>1.677388</td>\n",
       "      <td>0.005471</td>\n",
       "    </tr>\n",
       "    <tr>\n",
       "      <th>24</th>\n",
       "      <td>1.778143</td>\n",
       "      <td>0.005992</td>\n",
       "    </tr>\n",
       "    <tr>\n",
       "      <th rowspan=\"6\" valign=\"top\">2.0</th>\n",
       "      <th>8</th>\n",
       "      <td>1.475225</td>\n",
       "      <td>0.002898</td>\n",
       "    </tr>\n",
       "    <tr>\n",
       "      <th>10</th>\n",
       "      <td>1.561070</td>\n",
       "      <td>0.003172</td>\n",
       "    </tr>\n",
       "    <tr>\n",
       "      <th>12</th>\n",
       "      <td>1.623653</td>\n",
       "      <td>0.003286</td>\n",
       "    </tr>\n",
       "    <tr>\n",
       "      <th>14</th>\n",
       "      <td>1.674810</td>\n",
       "      <td>0.003621</td>\n",
       "    </tr>\n",
       "    <tr>\n",
       "      <th>16</th>\n",
       "      <td>1.710756</td>\n",
       "      <td>0.003014</td>\n",
       "    </tr>\n",
       "    <tr>\n",
       "      <th>18</th>\n",
       "      <td>1.738268</td>\n",
       "      <td>0.003596</td>\n",
       "    </tr>\n",
       "  </tbody>\n",
       "</table>\n",
       "</div>"
      ],
      "text/plain": [
       "            mean       std\n",
       "s   L                     \n",
       "1.5 8   1.423570  0.004432\n",
       "    12  1.582374  0.005154\n",
       "    16  1.677388  0.005471\n",
       "    24  1.778143  0.005992\n",
       "2.0 8   1.475225  0.002898\n",
       "    10  1.561070  0.003172\n",
       "    12  1.623653  0.003286\n",
       "    14  1.674810  0.003621\n",
       "    16  1.710756  0.003014\n",
       "    18  1.738268  0.003596"
      ]
     },
     "execution_count": 35,
     "metadata": {},
     "output_type": "execute_result"
    }
   ],
   "source": [
    "qchiTL_mean"
   ]
  },
  {
   "cell_type": "code",
   "execution_count": 36,
   "metadata": {
    "collapsed": false
   },
   "outputs": [],
   "source": [
    "qchiTL_cov = qchiTL.unstack(['s','L']).cov()"
   ]
  },
  {
   "cell_type": "code",
   "execution_count": 37,
   "metadata": {
    "collapsed": true
   },
   "outputs": [],
   "source": [
    "def hypothesis(X, th):\n",
    "    z, w = th[:2] # exponents\n",
    "    C = th[2:] # coefficients\n",
    "    return array([z + C[i]/L**w for i, (_, L) in zip(X.labels[0], X.values)])\n",
    "\n",
    "def hyp_fix_omega(w):\n",
    "    def _hypothesis(X, th):\n",
    "        z, C = th[0], th[1:]\n",
    "        return array([z + C[i]/L**w for i, (_, L) in zip(X.labels[0], X.values)])\n",
    "    return _hypothesis\n",
    "\n",
    "def hyp_fix_omega_quad(w):\n",
    "    def _hypothesis(X, th):\n",
    "        z, C, D = th[0], th[1::2], th[2::2]\n",
    "        return array([z + C[i]/L**w + D[i]/L**(2*w) \n",
    "                      for i, (_, L) in zip(X.labels[0], X.values)])\n",
    "    return _hypothesis"
   ]
  },
  {
   "cell_type": "code",
   "execution_count": 38,
   "metadata": {
    "collapsed": true
   },
   "outputs": [],
   "source": [
    "def sqresids(hypothesis):\n",
    "    def _sqresids(th, X, y, W):\n",
    "        \"\"\"W is the inverse of the covariance matrix y y^T\"\"\"\n",
    "        h = hypothesis(X, th)\n",
    "        d = h - y\n",
    "        return d*dot(W, d)\n",
    "    return _sqresids"
   ]
  },
  {
   "cell_type": "code",
   "execution_count": 39,
   "metadata": {
    "collapsed": false
   },
   "outputs": [],
   "source": [
    "min_size_fit = 8\n",
    "ifit = (qchiTL_mean.index.get_level_values('L') >= min_size_fit)\n",
    "\n",
    "X = qchiTL_mean.index[ifit]\n",
    "y = qchiTL_mean['mean'].iloc[ifit]\n",
    "W = pinv(qchiTL_cov.iloc[ifit, ifit])\n",
    "#W = diag(1/qchiTc_mean['sem']**2) # neglect correlations\n",
    "resids2 = sqresids(hyp_fix_omega_quad(1))\n",
    "\n",
    "th, cov = leastsq(resids2, x0=[2,1,1,1,1], \n",
    "                  args=(X, y, W),\n",
    "                  full_output=True)[:2]\n",
    "\n",
    "therr = sqrt(diag(cov))\n",
    "chi2 = sum(resids2(th, X, y, W))\n",
    "ndf = len(y) - len(th)\n",
    "Q = 1 - stats.chi2.cdf(chi2, ndf)"
   ]
  },
  {
   "cell_type": "code",
   "execution_count": 40,
   "metadata": {
    "collapsed": false
   },
   "outputs": [
    {
     "data": {
      "text/plain": [
       "<matplotlib.legend.Legend at 0x109630da0>"
      ]
     },
     "execution_count": 40,
     "metadata": {},
     "output_type": "execute_result"
    },
    {
     "data": {
      "image/png": "[encoded data removed]",
      "text/plain": [
       "<matplotlib.figure.Figure at 0x109d0ba58>"
      ]
     },
     "metadata": {},
     "output_type": "display_data"
    }
   ],
   "source": [
    "z = th[0]\n",
    "C = th[1::2]\n",
    "D = th[2::2]\n",
    "w = 1\n",
    "\n",
    "for (s, df), c, d in zip(qchiTL_mean.groupby(level='s'), C, D):\n",
    "    df.reset_index(inplace=True)\n",
    "    errorbar(1/df['L'], df['mean'], df['std'], \n",
    "             label='{}'.format(s), ls='')\n",
    "    x = linspace(0, xlim()[1])\n",
    "    plot(x, z + c*x**w + d*x**(2*w))\n",
    "    \n",
    "    df.to_csv('../../data/qchiTL-k21-s{:02d}.csv'.format(int(10*s)), index=False)\n",
    "\n",
    "xlabel('$1/L$')\n",
    "legend()"
   ]
  },
  {
   "cell_type": "code",
   "execution_count": 41,
   "metadata": {
    "collapsed": false
   },
   "outputs": [
    {
     "data": {
      "text/plain": [
       "array([  2.00769443,  -5.95560398,  10.28977907,  -5.31187128,   8.56200813])"
      ]
     },
     "execution_count": 41,
     "metadata": {},
     "output_type": "execute_result"
    }
   ],
   "source": [
    "th"
   ]
  },
  {
   "cell_type": "code",
   "execution_count": 42,
   "metadata": {
    "collapsed": false
   },
   "outputs": [
    {
     "data": {
      "text/plain": [
       "array([ 0.00996155,  0.29241133,  2.00106194,  0.2536943 ,  1.54623024])"
      ]
     },
     "execution_count": 42,
     "metadata": {},
     "output_type": "execute_result"
    }
   ],
   "source": [
    "therr"
   ]
  },
  {
   "cell_type": "code",
   "execution_count": 43,
   "metadata": {
    "collapsed": false
   },
   "outputs": [
    {
     "data": {
      "text/plain": [
       "yt         2.007694\n",
       "yt_err     0.009962\n",
       "C15       -5.955604\n",
       "D15       10.289779\n",
       "C20       -5.311871\n",
       "D20        8.562008\n",
       "dtype: float64"
      ]
     },
     "execution_count": 43,
     "metadata": {},
     "output_type": "execute_result"
    }
   ],
   "source": [
    "params = pd.Series([th[0], therr[0]] + list(th[1:]),\n",
    "                   index=['yt','yt_err',\n",
    "                          'C15','D15',\n",
    "                          'C20','D20'])\n",
    "params"
   ]
  },
  {
   "cell_type": "code",
   "execution_count": 44,
   "metadata": {
    "collapsed": true
   },
   "outputs": [],
   "source": [
    "pd.DataFrame(params).T.to_csv('../../fits/qchiTL-k21.fit.csv', index=False)"
   ]
  },
  {
   "cell_type": "markdown",
   "metadata": {},
   "source": [
    "# Quotients for $\\delta T_{21}$"
   ]
  },
  {
   "cell_type": "code",
   "execution_count": 45,
   "metadata": {
    "collapsed": false
   },
   "outputs": [
    {
     "data": {
      "text/plain": [
       "<matplotlib.lines.Line2D at 0x109bc4320>"
      ]
     },
     "execution_count": 45,
     "metadata": {},
     "output_type": "execute_result"
    },
    {
     "data": {
      "image/png": "[encoded data removed]",
      "text/plain": [
       "<matplotlib.figure.Figure at 0x109c58160>"
      ]
     },
     "metadata": {},
     "output_type": "display_data"
    }
   ],
   "source": [
    "df = chi_mean.xs([32, 21111, 10], level=['L','k','LogSweeps'])\n",
    "df.plot(y='mean', yerr='sem', ls='')\n",
    "\n",
    "F = UnivariateSpline(df.index, df['mean'], 1/df['sem'])\n",
    "x = linspace(*xlim())\n",
    "plot(x, F(x))\n",
    "\n",
    "f = F.derivative()\n",
    "x0 = bisect(f, df.index[0], df.index[-1])\n",
    "y0 = F(x0)\n",
    "axvline(x0)\n",
    "axhline(y0)\n",
    "\n",
    "yx = 0.9*y0\n",
    "x1 = bisect(lambda x: F(x) - yx, df.index[0], x0)\n",
    "x2 = bisect(lambda x: F(x) - yx, x0, df.index[-1])\n",
    "axhline(yx)\n",
    "axvline(x1)\n",
    "axvline(x2)"
   ]
  },
  {
   "cell_type": "code",
   "execution_count": 46,
   "metadata": {
    "collapsed": true
   },
   "outputs": [],
   "source": [
    "def find_width(r=0.9):\n",
    "    def _find_width(y):\n",
    "\n",
    "        try:\n",
    "            F = UnivariateSpline(y.index, y['mean'], w=1./y['sem'])\n",
    "            f = F.derivative()\n",
    "            TL = bisect(f, y.index[0], y.index[-1])\n",
    "            y0 = F(TL).item()\n",
    "            T1 = bisect(lambda T: F(T) - r*y0, y.index[0], TL)\n",
    "            T2 = bisect(lambda T: F(T) - r*y0, TL, y.index[-1])\n",
    "            return T2 - T1\n",
    "\n",
    "        except ValueError as e:\n",
    "            return nan\n",
    "        \n",
    "    return _find_width"
   ]
  },
  {
   "cell_type": "code",
   "execution_count": 47,
   "metadata": {
    "collapsed": true
   },
   "outputs": [],
   "source": [
    "find_width_r09 = find_width(0.9)"
   ]
  },
  {
   "cell_type": "code",
   "execution_count": 48,
   "metadata": {
    "collapsed": true
   },
   "outputs": [],
   "source": [
    "width = (chi_mean.groupby(level=['L','k','LogSweeps'])\n",
    "                 .apply(lambda df: find_width_r09(df.reset_index(['L','k','LogSweeps']))))"
   ]
  },
  {
   "cell_type": "code",
   "execution_count": 49,
   "metadata": {
    "collapsed": false
   },
   "outputs": [
    {
     "data": {
      "text/plain": [
       "L  LogSweeps\n",
       "8  4            0.222416\n",
       "   5            0.170961\n",
       "   6            0.196438\n",
       "   7            0.190513\n",
       "   8            0.203435\n",
       "dtype: float64"
      ]
     },
     "execution_count": 49,
     "metadata": {},
     "output_type": "execute_result"
    }
   ],
   "source": [
    "width.xs(21111, level='k').head()"
   ]
  },
  {
   "cell_type": "markdown",
   "metadata": {},
   "source": [
    "# Bootstrap"
   ]
  },
  {
   "cell_type": "code",
   "execution_count": 51,
   "metadata": {
    "collapsed": false
   },
   "outputs": [
    {
     "data": {
      "text/plain": [
       "L  Temp      k      LogSweeps  Run\n",
       "8  7.750308  21111  4          0      0.739071\n",
       "                               1      0.372932\n",
       "                               2      0.631427\n",
       "                               3      0.866564\n",
       "                               4      0.843267\n",
       "dtype: float64"
      ]
     },
     "execution_count": 51,
     "metadata": {},
     "output_type": "execute_result"
    }
   ],
   "source": [
    "chi.head()"
   ]
  },
  {
   "cell_type": "code",
   "execution_count": 50,
   "metadata": {
    "collapsed": true
   },
   "outputs": [],
   "source": [
    "def compute_width(data):\n",
    "    \n",
    "    groupby = ['L','Temp','k','LogSweeps']\n",
    "    chi_mean = data.groupby(level=groupby).agg(['mean','sem'])\n",
    "    \n",
    "    result = (chi_mean.groupby(level=['L','k','LogSweeps'])\n",
    "                      .apply(lambda df: find_width_r09(df.reset_index(['L','k','LogSweeps']))))\n",
    "    \n",
    "    return result"
   ]
  },
  {
   "cell_type": "code",
   "execution_count": 52,
   "metadata": {
    "collapsed": false
   },
   "outputs": [
    {
     "data": {
      "text/plain": [
       "L  k      LogSweeps\n",
       "8  21111  4            0.222416\n",
       "          5            0.170961\n",
       "          6            0.196438\n",
       "          7            0.190513\n",
       "          8            0.203435\n",
       "dtype: float64"
      ]
     },
     "execution_count": 52,
     "metadata": {},
     "output_type": "execute_result"
    }
   ],
   "source": [
    "compute_width(chi).head()"
   ]
  },
  {
   "cell_type": "code",
   "execution_count": 53,
   "metadata": {
    "collapsed": true
   },
   "outputs": [],
   "source": [
    "seeds = random_integers(1e5, size=100)\n",
    "bs = BootstrapSampler(chi, ['L','k','Temp','LogSweeps'], compute_width)\n",
    "\n",
    "with mp.Pool(4) as p:\n",
    "    samples = p.map(bs, seeds)\n",
    "\n",
    "samples = pd.concat(samples, keys=seeds, names=['seed'])"
   ]
  },
  {
   "cell_type": "code",
   "execution_count": 54,
   "metadata": {
    "collapsed": true
   },
   "outputs": [],
   "source": [
    "samples.to_hdf('chi-k21-width-samples.h5','samples')"
   ]
  },
  {
   "cell_type": "code",
   "execution_count": 55,
   "metadata": {
    "collapsed": true
   },
   "outputs": [],
   "source": [
    "samples = pd.read_hdf('chi-k21-width-samples.h5','samples')"
   ]
  },
  {
   "cell_type": "code",
   "execution_count": 56,
   "metadata": {
    "collapsed": true
   },
   "outputs": [],
   "source": [
    "samples_final = (samples.groupby(level=['seed','L','k'])\n",
    "                        .apply(lambda df: df.sortlevel('LogSweeps').iloc[-1])\n",
    "                        .sortlevel())"
   ]
  },
  {
   "cell_type": "code",
   "execution_count": 82,
   "metadata": {
    "collapsed": false
   },
   "outputs": [
    {
     "data": {
      "text/plain": [
       "seed  L   k    \n",
       "597   8   21111    0.196274\n",
       "          22111    0.305015\n",
       "          22211    0.433895\n",
       "      10  21111    0.127672\n",
       "          22111    0.197684\n",
       "dtype: float64"
      ]
     },
     "execution_count": 82,
     "metadata": {},
     "output_type": "execute_result"
    }
   ],
   "source": [
    "samples_final.head()"
   ]
  },
  {
   "cell_type": "code",
   "execution_count": 98,
   "metadata": {
    "collapsed": false
   },
   "outputs": [
    {
     "data": {
      "text/plain": [
       "seed  L   k    \n",
       "0     8   21111    0.136482\n",
       "          22111    0.245693\n",
       "          22211         NaN\n",
       "      10  21111    0.092686\n",
       "          22111         NaN\n",
       "Name: width, dtype: float64"
      ]
     },
     "execution_count": 98,
     "metadata": {},
     "output_type": "execute_result"
    }
   ],
   "source": [
    "# quotients from old data with wider temperature range\n",
    "# here r=0.75\n",
    "samples_final = pd.read_hdf('old/bootstrap-chi-shift-width.h5','resamps').width\n",
    "samples_final.index.names = ['seed','bc','d','L','k']\n",
    "samples_final.reset_index(['bc','d'], drop=True, inplace=True)\n",
    "samples_final.head()"
   ]
  },
  {
   "cell_type": "code",
   "execution_count": 89,
   "metadata": {
    "collapsed": false
   },
   "outputs": [],
   "source": [
    "chi21width = samples_final.xs(21111, level='k')"
   ]
  },
  {
   "cell_type": "code",
   "execution_count": 90,
   "metadata": {
    "collapsed": false
   },
   "outputs": [
    {
     "data": {
      "text/plain": [
       "seed  L \n",
       "0     8     0.136482\n",
       "      10    0.092686\n",
       "      12    0.066050\n",
       "      14    0.051443\n",
       "      16    0.040220\n",
       "Name: width, dtype: float64"
      ]
     },
     "execution_count": 90,
     "metadata": {},
     "output_type": "execute_result"
    }
   ],
   "source": [
    "chi21width.head()"
   ]
  },
  {
   "cell_type": "code",
   "execution_count": 92,
   "metadata": {
    "collapsed": false
   },
   "outputs": [
    {
     "data": {
      "text/plain": [
       "s    L \n",
       "1.5  8    -1.789991\n",
       "     12   -1.732547\n",
       "     16   -1.910055\n",
       "     24         NaN\n",
       "2.0  8    -1.762710\n",
       "     10   -1.780597\n",
       "     12   -1.832943\n",
       "     14   -1.856247\n",
       "     16   -1.907859\n",
       "     18         NaN\n",
       "Name: Q, dtype: float64"
      ]
     },
     "execution_count": 92,
     "metadata": {},
     "output_type": "execute_result"
    }
   ],
   "source": [
    "get_quotients(chi21width.loc[0])"
   ]
  },
  {
   "cell_type": "code",
   "execution_count": 93,
   "metadata": {
    "collapsed": true
   },
   "outputs": [],
   "source": [
    "qchi21width = (chi21width.groupby(level='seed')\n",
    "                         .apply(lambda y: get_quotients(y.reset_index('seed', drop=True))))"
   ]
  },
  {
   "cell_type": "code",
   "execution_count": 94,
   "metadata": {
    "collapsed": false
   },
   "outputs": [],
   "source": [
    "qchi21width_mean = qchi21width.groupby(level=['s','L']).agg(['mean','std'])"
   ]
  },
  {
   "cell_type": "code",
   "execution_count": 95,
   "metadata": {
    "collapsed": false
   },
   "outputs": [],
   "source": [
    "qchi21width_cov = qchi21width.unstack(['s','L']).cov()"
   ]
  },
  {
   "cell_type": "code",
   "execution_count": 96,
   "metadata": {
    "collapsed": false
   },
   "outputs": [],
   "source": [
    "min_size_fit = 8\n",
    "ifit = (qchi21width_mean.index.get_level_values('L') >= min_size_fit)\n",
    "\n",
    "X = qchi21width_mean.index[ifit]\n",
    "y = qchi21width_mean['mean'].iloc[ifit]\n",
    "W = pinv(qchi21width_cov.iloc[ifit, ifit])\n",
    "#W = diag(1/qchiTc_mean['sem']**2) # neglect correlations\n",
    "resids2 = sqresids(hyp_fix_omega(1))\n",
    "\n",
    "th, cov = leastsq(resids2, x0=[2,1,1], \n",
    "                  args=(X, y, W),\n",
    "                  full_output=True)[:2]\n",
    "\n",
    "therr = sqrt(diag(cov))\n",
    "chi2 = sum(resids2(th, X, y, W))\n",
    "ndf = len(y) - len(th)\n",
    "Q = 1 - stats.chi2.cdf(chi2, ndf)"
   ]
  },
  {
   "cell_type": "code",
   "execution_count": 108,
   "metadata": {
    "collapsed": false
   },
   "outputs": [
    {
     "data": {
      "text/plain": [
       "<matplotlib.legend.Legend at 0x10ffbcf60>"
      ]
     },
     "execution_count": 108,
     "metadata": {},
     "output_type": "execute_result"
    },
    {
     "data": {
      "image/png": "[encoded data removed]",
      "text/plain": [
       "<matplotlib.figure.Figure at 0x1100d92e8>"
      ]
     },
     "metadata": {},
     "output_type": "display_data"
    }
   ],
   "source": [
    "z, C = th[0], th[1:]\n",
    "w = 1\n",
    "\n",
    "for (s, df), c in zip(qchi21width_mean.groupby(level='s'), C):\n",
    "    df.reset_index(inplace=True)\n",
    "    errorbar(1/df['L'], df['mean'], df['std'], \n",
    "             label='{}'.format(s), ls='')\n",
    "    x = linspace(0, xlim()[1])\n",
    "    plot(x, z + c*x**w)\n",
    "    \n",
    "    df.to_csv('../../data/qwidth-k21-s{:02d}.csv'.format(int(10*s)), index=False)\n",
    "\n",
    "xlabel('$1/L$')\n",
    "legend()"
   ]
  },
  {
   "cell_type": "code",
   "execution_count": 101,
   "metadata": {
    "collapsed": false
   },
   "outputs": [
    {
     "data": {
      "text/plain": [
       "array([-1.9700668 ,  1.69133504,  1.49868283])"
      ]
     },
     "execution_count": 101,
     "metadata": {},
     "output_type": "execute_result"
    }
   ],
   "source": [
    "th"
   ]
  },
  {
   "cell_type": "code",
   "execution_count": 102,
   "metadata": {
    "collapsed": false
   },
   "outputs": [
    {
     "data": {
      "text/plain": [
       "array([ 0.04107361,  0.50917077,  0.44938777])"
      ]
     },
     "execution_count": 102,
     "metadata": {},
     "output_type": "execute_result"
    }
   ],
   "source": [
    "therr"
   ]
  },
  {
   "cell_type": "code",
   "execution_count": 109,
   "metadata": {
    "collapsed": false
   },
   "outputs": [
    {
     "data": {
      "text/plain": [
       "yt        1.970067\n",
       "yt_err    0.041074\n",
       "C15       1.691335\n",
       "C20       1.498683\n",
       "dtype: float64"
      ]
     },
     "execution_count": 109,
     "metadata": {},
     "output_type": "execute_result"
    }
   ],
   "source": [
    "params = pd.Series([-th[0], therr[0]] + list(th[1:]),\n",
    "                   index=['yt','yt_err',\n",
    "                          'C15','C20'])\n",
    "params"
   ]
  },
  {
   "cell_type": "code",
   "execution_count": 110,
   "metadata": {
    "collapsed": true
   },
   "outputs": [],
   "source": [
    "pd.DataFrame(params).T.to_csv('../../fits/qwidth-k21.fit.csv', index=False)"
   ]
  },
  {
   "cell_type": "code",
   "execution_count": null,
   "metadata": {
    "collapsed": true
   },
   "outputs": [],
   "source": []
  }
 ],
 "metadata": {
  "kernelspec": {
   "display_name": "Python 3",
   "language": "python",
   "name": "python3"
  },
  "language_info": {
   "codemirror_mode": {
    "name": "ipython",
    "version": 3
   },
   "file_extension": ".py",
   "mimetype": "text/x-python",
   "name": "python",
   "nbconvert_exporter": "python",
   "pygments_lexer": "ipython3",
   "version": "3.4.3"
  }
 },
 "nbformat": 4,
 "nbformat_minor": 0
}
