{
 "cells": [
  {
   "cell_type": "code",
   "execution_count": 1,
   "metadata": {
    "collapsed": false
   },
   "outputs": [
    {
     "name": "stdout",
     "output_type": "stream",
     "text": [
      "Populating the interactive namespace from numpy and matplotlib\n"
     ]
    }
   ],
   "source": [
    "%pylab inline"
   ]
  },
  {
   "cell_type": "code",
   "execution_count": 2,
   "metadata": {
    "collapsed": true
   },
   "outputs": [],
   "source": [
    "import multiprocessing as mp\n",
    "import pandas as pd\n",
    "import re\n",
    "import scipy.stats as stats\n",
    "from scipy.interpolate import UnivariateSpline\n",
    "from scipy.optimize import bisect, leastsq\n",
    "from glob import glob"
   ]
  },
  {
   "cell_type": "code",
   "execution_count": 3,
   "metadata": {
    "collapsed": true
   },
   "outputs": [],
   "source": [
    "Tc = 8.77846"
   ]
  },
  {
   "cell_type": "code",
   "execution_count": 4,
   "metadata": {
    "collapsed": false
   },
   "outputs": [],
   "source": [
    "kw = dict(columns=['M2','M4'])\n",
    "\n",
    "with pd.get_store('/home/matt/Dropbox/data/fss/data.h5') as store:\n",
    "    data = pd.concat([store.select('old/free', **kw).xs(0, level='k'),\n",
    "                      store.select('new/free', where='L != 48', **kw)])\n",
    "    \n",
    "data.index.names = [s if s != 'Stage' else 'LogSweeps' for s in data.index.names] # rename\n",
    "dataTc = data.query('Temp > 8.77845')\n",
    "data = data.query('Temp < 8.77845') # exclude data at bulk T_c"
   ]
  },
  {
   "cell_type": "code",
   "execution_count": 5,
   "metadata": {
    "collapsed": false
   },
   "outputs": [
    {
     "data": {
      "text/html": [
       "<div>\n",
       "<table border=\"1\" class=\"dataframe\">\n",
       "  <thead>\n",
       "    <tr style=\"text-align: right;\">\n",
       "      <th></th>\n",
       "      <th></th>\n",
       "      <th></th>\n",
       "      <th></th>\n",
       "      <th>M2</th>\n",
       "      <th>M4</th>\n",
       "    </tr>\n",
       "    <tr>\n",
       "      <th>L</th>\n",
       "      <th>Temp</th>\n",
       "      <th>LogSweeps</th>\n",
       "      <th>Run</th>\n",
       "      <th></th>\n",
       "      <th></th>\n",
       "    </tr>\n",
       "  </thead>\n",
       "  <tbody>\n",
       "    <tr>\n",
       "      <th rowspan=\"5\" valign=\"top\">8</th>\n",
       "      <th rowspan=\"5\" valign=\"top\">7.750308</th>\n",
       "      <th rowspan=\"5\" valign=\"top\">4</th>\n",
       "      <th>0</th>\n",
       "      <td>0.054738</td>\n",
       "      <td>0.003106</td>\n",
       "    </tr>\n",
       "    <tr>\n",
       "      <th>1</th>\n",
       "      <td>0.056092</td>\n",
       "      <td>0.003275</td>\n",
       "    </tr>\n",
       "    <tr>\n",
       "      <th>2</th>\n",
       "      <td>0.053007</td>\n",
       "      <td>0.002916</td>\n",
       "    </tr>\n",
       "    <tr>\n",
       "      <th>3</th>\n",
       "      <td>0.044488</td>\n",
       "      <td>0.002058</td>\n",
       "    </tr>\n",
       "    <tr>\n",
       "      <th>4</th>\n",
       "      <td>0.059542</td>\n",
       "      <td>0.003698</td>\n",
       "    </tr>\n",
       "  </tbody>\n",
       "</table>\n",
       "</div>"
      ],
      "text/plain": [
       "                                M2        M4\n",
       "L Temp     LogSweeps Run                    \n",
       "8 7.750308 4         0    0.054738  0.003106\n",
       "                     1    0.056092  0.003275\n",
       "                     2    0.053007  0.002916\n",
       "                     3    0.044488  0.002058\n",
       "                     4    0.059542  0.003698"
      ]
     },
     "execution_count": 5,
     "metadata": {},
     "output_type": "execute_result"
    }
   ],
   "source": [
    "data.head()"
   ]
  },
  {
   "cell_type": "code",
   "execution_count": 6,
   "metadata": {
    "collapsed": true
   },
   "outputs": [],
   "source": [
    "chi = data.eval('L**5 * M2').groupby(level=['L','Temp','LogSweeps']).agg(['mean','sem'])"
   ]
  },
  {
   "cell_type": "code",
   "execution_count": 7,
   "metadata": {
    "collapsed": false
   },
   "outputs": [
    {
     "data": {
      "text/html": [
       "<div>\n",
       "<table border=\"1\" class=\"dataframe\">\n",
       "  <thead>\n",
       "    <tr style=\"text-align: right;\">\n",
       "      <th></th>\n",
       "      <th></th>\n",
       "      <th></th>\n",
       "      <th>mean</th>\n",
       "      <th>sem</th>\n",
       "    </tr>\n",
       "    <tr>\n",
       "      <th>L</th>\n",
       "      <th>Temp</th>\n",
       "      <th>LogSweeps</th>\n",
       "      <th></th>\n",
       "      <th></th>\n",
       "    </tr>\n",
       "  </thead>\n",
       "  <tbody>\n",
       "    <tr>\n",
       "      <th rowspan=\"5\" valign=\"top\">8</th>\n",
       "      <th rowspan=\"5\" valign=\"top\">7.750308</th>\n",
       "      <th>4</th>\n",
       "      <td>1793.691090</td>\n",
       "      <td>11.068571</td>\n",
       "    </tr>\n",
       "    <tr>\n",
       "      <th>5</th>\n",
       "      <td>1812.544686</td>\n",
       "      <td>7.198004</td>\n",
       "    </tr>\n",
       "    <tr>\n",
       "      <th>6</th>\n",
       "      <td>1822.595403</td>\n",
       "      <td>5.635580</td>\n",
       "    </tr>\n",
       "    <tr>\n",
       "      <th>7</th>\n",
       "      <td>1814.162616</td>\n",
       "      <td>3.885820</td>\n",
       "    </tr>\n",
       "    <tr>\n",
       "      <th>8</th>\n",
       "      <td>1821.525728</td>\n",
       "      <td>2.527130</td>\n",
       "    </tr>\n",
       "  </tbody>\n",
       "</table>\n",
       "</div>"
      ],
      "text/plain": [
       "                             mean        sem\n",
       "L Temp     LogSweeps                        \n",
       "8 7.750308 4          1793.691090  11.068571\n",
       "           5          1812.544686   7.198004\n",
       "           6          1822.595403   5.635580\n",
       "           7          1814.162616   3.885820\n",
       "           8          1821.525728   2.527130"
      ]
     },
     "execution_count": 7,
     "metadata": {},
     "output_type": "execute_result"
    }
   ],
   "source": [
    "chi.head()"
   ]
  },
  {
   "cell_type": "code",
   "execution_count": 8,
   "metadata": {
    "collapsed": true
   },
   "outputs": [],
   "source": [
    "def binderG(df):\n",
    "    n = len(df)\n",
    "    xj = (df.sum() - df) / (n - 1.)\n",
    "    gj = xj.eval('0.5*(3. - M4/M2**2)')\n",
    "    return pd.Series({'mean': gj.mean(), 'sem': sqrt(n) * gj.std()})"
   ]
  },
  {
   "cell_type": "code",
   "execution_count": 9,
   "metadata": {
    "collapsed": false
   },
   "outputs": [],
   "source": [
    "G = data.groupby(level=['L','Temp','LogSweeps']).apply(binderG)"
   ]
  },
  {
   "cell_type": "code",
   "execution_count": 10,
   "metadata": {
    "collapsed": false
   },
   "outputs": [
    {
     "data": {
      "text/html": [
       "<div>\n",
       "<table border=\"1\" class=\"dataframe\">\n",
       "  <thead>\n",
       "    <tr style=\"text-align: right;\">\n",
       "      <th></th>\n",
       "      <th></th>\n",
       "      <th></th>\n",
       "      <th>mean</th>\n",
       "      <th>sem</th>\n",
       "    </tr>\n",
       "    <tr>\n",
       "      <th>L</th>\n",
       "      <th>Temp</th>\n",
       "      <th>LogSweeps</th>\n",
       "      <th></th>\n",
       "      <th></th>\n",
       "    </tr>\n",
       "  </thead>\n",
       "  <tbody>\n",
       "    <tr>\n",
       "      <th rowspan=\"5\" valign=\"top\">8</th>\n",
       "      <th rowspan=\"5\" valign=\"top\">7.750308</th>\n",
       "      <th>4</th>\n",
       "      <td>0.980311</td>\n",
       "      <td>0.000781</td>\n",
       "    </tr>\n",
       "    <tr>\n",
       "      <th>5</th>\n",
       "      <td>0.979589</td>\n",
       "      <td>0.000593</td>\n",
       "    </tr>\n",
       "    <tr>\n",
       "      <th>6</th>\n",
       "      <td>0.980206</td>\n",
       "      <td>0.000446</td>\n",
       "    </tr>\n",
       "    <tr>\n",
       "      <th>7</th>\n",
       "      <td>0.980527</td>\n",
       "      <td>0.000275</td>\n",
       "    </tr>\n",
       "    <tr>\n",
       "      <th>8</th>\n",
       "      <td>0.980189</td>\n",
       "      <td>0.000203</td>\n",
       "    </tr>\n",
       "  </tbody>\n",
       "</table>\n",
       "</div>"
      ],
      "text/plain": [
       "                          mean       sem\n",
       "L Temp     LogSweeps                    \n",
       "8 7.750308 4          0.980311  0.000781\n",
       "           5          0.979589  0.000593\n",
       "           6          0.980206  0.000446\n",
       "           7          0.980527  0.000275\n",
       "           8          0.980189  0.000203"
      ]
     },
     "execution_count": 10,
     "metadata": {},
     "output_type": "execute_result"
    }
   ],
   "source": [
    "G.head()"
   ]
  },
  {
   "cell_type": "code",
   "execution_count": 11,
   "metadata": {
    "collapsed": false
   },
   "outputs": [],
   "source": [
    "result = pd.concat({'chi': chi, 'G': G}, axis=1)"
   ]
  },
  {
   "cell_type": "code",
   "execution_count": 12,
   "metadata": {
    "collapsed": false
   },
   "outputs": [
    {
     "data": {
      "text/html": [
       "<div>\n",
       "<table border=\"1\" class=\"dataframe\">\n",
       "  <thead>\n",
       "    <tr>\n",
       "      <th></th>\n",
       "      <th></th>\n",
       "      <th></th>\n",
       "      <th colspan=\"2\" halign=\"left\">G</th>\n",
       "      <th colspan=\"2\" halign=\"left\">chi</th>\n",
       "    </tr>\n",
       "    <tr>\n",
       "      <th></th>\n",
       "      <th></th>\n",
       "      <th></th>\n",
       "      <th>mean</th>\n",
       "      <th>sem</th>\n",
       "      <th>mean</th>\n",
       "      <th>sem</th>\n",
       "    </tr>\n",
       "    <tr>\n",
       "      <th>L</th>\n",
       "      <th>Temp</th>\n",
       "      <th>LogSweeps</th>\n",
       "      <th></th>\n",
       "      <th></th>\n",
       "      <th></th>\n",
       "      <th></th>\n",
       "    </tr>\n",
       "  </thead>\n",
       "  <tbody>\n",
       "    <tr>\n",
       "      <th rowspan=\"5\" valign=\"top\">8</th>\n",
       "      <th rowspan=\"5\" valign=\"top\">7.750308</th>\n",
       "      <th>4</th>\n",
       "      <td>0.980311</td>\n",
       "      <td>0.000781</td>\n",
       "      <td>1793.691090</td>\n",
       "      <td>11.068571</td>\n",
       "    </tr>\n",
       "    <tr>\n",
       "      <th>5</th>\n",
       "      <td>0.979589</td>\n",
       "      <td>0.000593</td>\n",
       "      <td>1812.544686</td>\n",
       "      <td>7.198004</td>\n",
       "    </tr>\n",
       "    <tr>\n",
       "      <th>6</th>\n",
       "      <td>0.980206</td>\n",
       "      <td>0.000446</td>\n",
       "      <td>1822.595403</td>\n",
       "      <td>5.635580</td>\n",
       "    </tr>\n",
       "    <tr>\n",
       "      <th>7</th>\n",
       "      <td>0.980527</td>\n",
       "      <td>0.000275</td>\n",
       "      <td>1814.162616</td>\n",
       "      <td>3.885820</td>\n",
       "    </tr>\n",
       "    <tr>\n",
       "      <th>8</th>\n",
       "      <td>0.980189</td>\n",
       "      <td>0.000203</td>\n",
       "      <td>1821.525728</td>\n",
       "      <td>2.527130</td>\n",
       "    </tr>\n",
       "  </tbody>\n",
       "</table>\n",
       "</div>"
      ],
      "text/plain": [
       "                             G                    chi           \n",
       "                          mean       sem         mean        sem\n",
       "L Temp     LogSweeps                                            \n",
       "8 7.750308 4          0.980311  0.000781  1793.691090  11.068571\n",
       "           5          0.979589  0.000593  1812.544686   7.198004\n",
       "           6          0.980206  0.000446  1822.595403   5.635580\n",
       "           7          0.980527  0.000275  1814.162616   3.885820\n",
       "           8          0.980189  0.000203  1821.525728   2.527130"
      ]
     },
     "execution_count": 12,
     "metadata": {},
     "output_type": "execute_result"
    }
   ],
   "source": [
    "result.head()"
   ]
  },
  {
   "cell_type": "markdown",
   "metadata": {},
   "source": [
    "# Bootstrap $T_L$ and $\\chi(T_L)$"
   ]
  },
  {
   "cell_type": "markdown",
   "metadata": {},
   "source": [
    "### Find the value $T_L$ by splining"
   ]
  },
  {
   "cell_type": "code",
   "execution_count": null,
   "metadata": {
    "collapsed": false
   },
   "outputs": [],
   "source": [
    "y = 0.5\n",
    "df = result.xs([32,10], level=['L','LogSweeps'])\n",
    "df.G.plot(y='mean', yerr='sem', marker='o')\n",
    "axhline(0.5, color='k', ls='--')\n",
    "f = UnivariateSpline(df.index, df.G['mean'], w=1./df.G['sem'])\n",
    "TL = bisect(lambda T: y - f(T), df.index[0], df.index[-1])\n",
    "axvline(TL, color='r')"
   ]
  },
  {
   "cell_type": "markdown",
   "metadata": {},
   "source": [
    "### Find the value of $\\chi(T_L)$"
   ]
  },
  {
   "cell_type": "code",
   "execution_count": null,
   "metadata": {
    "collapsed": false
   },
   "outputs": [],
   "source": [
    "df.chi.plot(y='mean', yerr='sem', marker='o')\n",
    "f = UnivariateSpline(df.index, df.chi['mean'], w=1./df.chi['sem'])\n",
    "axvline(TL, color='k', ls='--')\n",
    "axhline(f(TL), color='r')"
   ]
  },
  {
   "cell_type": "markdown",
   "metadata": {},
   "source": [
    "## Bootstrap"
   ]
  },
  {
   "cell_type": "code",
   "execution_count": null,
   "metadata": {
    "collapsed": true
   },
   "outputs": [],
   "source": [
    "def findTL(df, y=0.5):\n",
    "    \n",
    "    try:\n",
    "        fG = UnivariateSpline(df.index, df.G['mean'], w=1./df.G['sem'])\n",
    "        TL = bisect(lambda T: y - fG(T), df.index[0], df.index[-1])\n",
    "        fChi = UnivariateSpline(df.index, df.chi['mean'], w=1./df.chi['sem'])\n",
    "        chi = fChi(TL).item()\n",
    "        \n",
    "    except ValueError as e:\n",
    "        TL = nan\n",
    "        chi = nan\n",
    "        \n",
    "    return pd.Series({'TL': TL, 'chiTL': chi})"
   ]
  },
  {
   "cell_type": "code",
   "execution_count": null,
   "metadata": {
    "collapsed": true
   },
   "outputs": [],
   "source": [
    "def compute_TL_chi(data):\n",
    "    groupby = ['L','Temp','LogSweeps']\n",
    "    chi = data.eval('L**5 * M2').groupby(level=groupby).agg(['mean','sem'])\n",
    "    G = data.groupby(level=groupby).apply(binderG)\n",
    "    df = pd.concat({'chi': chi, 'G': G}, axis=1)\n",
    "    result = df.groupby(level=['L','LogSweeps']).apply(lambda df: findTL(df.reset_index(['L','LogSweeps'])))\n",
    "    return result"
   ]
  },
  {
   "cell_type": "code",
   "execution_count": null,
   "metadata": {
    "collapsed": false
   },
   "outputs": [],
   "source": [
    "df = compute_TL_chi(data)\n",
    "df.head()"
   ]
  },
  {
   "cell_type": "code",
   "execution_count": null,
   "metadata": {
    "collapsed": false
   },
   "outputs": [],
   "source": [
    "yy = Tc - df['TL']\n",
    "yy = yy.groupby(level='L').apply(lambda x: x.iloc[argmax(x.index.get_level_values('LogSweeps'))])\n",
    "yy.plot(ls='', marker='s')\n",
    "y = yy[-3:]\n",
    "p = polyfit(log(y.index), log(y.values), 1)\n",
    "plot(yy.index, exp(polyval(p, log(yy.index))))\n",
    "xscale('log', basex=2)\n",
    "yscale('log')\n",
    "title(r'$\\lambda \\approx {:.3g}$'.format(-p[0]));"
   ]
  },
  {
   "cell_type": "code",
   "execution_count": 297,
   "metadata": {
    "collapsed": true
   },
   "outputs": [],
   "source": [
    "def bootstrap_sample(groups):\n",
    "    return groups.apply(lambda x: x.take(random_integers(0, len(x)-1, len(x))))\n",
    "\n",
    "\n",
    "class BootstrapSampler:\n",
    "    \n",
    "    def __init__(self, data, groupby, reducer):\n",
    "        self.data = data\n",
    "        self.groupby = groupby\n",
    "        self.reducer = reducer\n",
    "        \n",
    "    def __call__(self, seed):\n",
    "        random.seed(seed)\n",
    "        resamp = bootstrap_sample(self.data.groupby(level=self.groupby, group_keys=False))\n",
    "        return self.reducer(resamp)"
   ]
  },
  {
   "cell_type": "code",
   "execution_count": null,
   "metadata": {
    "collapsed": false
   },
   "outputs": [],
   "source": [
    "data.head()"
   ]
  },
  {
   "cell_type": "code",
   "execution_count": null,
   "metadata": {
    "collapsed": false
   },
   "outputs": [],
   "source": [
    "seeds = random_integers(1e5, size=100)\n",
    "bs = BootstrapSampler(data, ['L','Temp','LogSweeps'], compute_TL_chi)\n",
    "\n",
    "with mp.Pool(4) as p:\n",
    "    samples = p.map(bs, seeds)\n",
    "\n",
    "samples = pd.concat(samples, keys=seeds, names=['seed'])"
   ]
  },
  {
   "cell_type": "code",
   "execution_count": null,
   "metadata": {
    "collapsed": true
   },
   "outputs": [],
   "source": [
    "#samples.to_hdf('chi-TL-samples.h5','samples')"
   ]
  },
  {
   "cell_type": "code",
   "execution_count": 108,
   "metadata": {
    "collapsed": true
   },
   "outputs": [],
   "source": [
    "samples = pd.read_hdf('chi-TL-samples.h5','samples').sortlevel()"
   ]
  },
  {
   "cell_type": "code",
   "execution_count": 109,
   "metadata": {
    "collapsed": false
   },
   "outputs": [
    {
     "data": {
      "text/html": [
       "<div>\n",
       "<table border=\"1\" class=\"dataframe\">\n",
       "  <thead>\n",
       "    <tr style=\"text-align: right;\">\n",
       "      <th></th>\n",
       "      <th></th>\n",
       "      <th></th>\n",
       "      <th>TL</th>\n",
       "      <th>chiTL</th>\n",
       "    </tr>\n",
       "    <tr>\n",
       "      <th>seed</th>\n",
       "      <th>L</th>\n",
       "      <th>LogSweeps</th>\n",
       "      <th></th>\n",
       "      <th></th>\n",
       "    </tr>\n",
       "  </thead>\n",
       "  <tbody>\n",
       "    <tr>\n",
       "      <th rowspan=\"5\" valign=\"top\">10052</th>\n",
       "      <th rowspan=\"5\" valign=\"top\">8</th>\n",
       "      <th>4</th>\n",
       "      <td>8.038827</td>\n",
       "      <td>174.824965</td>\n",
       "    </tr>\n",
       "    <tr>\n",
       "      <th>5</th>\n",
       "      <td>8.035035</td>\n",
       "      <td>175.512958</td>\n",
       "    </tr>\n",
       "    <tr>\n",
       "      <th>6</th>\n",
       "      <td>8.030586</td>\n",
       "      <td>185.954535</td>\n",
       "    </tr>\n",
       "    <tr>\n",
       "      <th>7</th>\n",
       "      <td>8.037749</td>\n",
       "      <td>175.599246</td>\n",
       "    </tr>\n",
       "    <tr>\n",
       "      <th>8</th>\n",
       "      <td>8.035567</td>\n",
       "      <td>176.590985</td>\n",
       "    </tr>\n",
       "  </tbody>\n",
       "</table>\n",
       "</div>"
      ],
      "text/plain": [
       "                         TL       chiTL\n",
       "seed  L LogSweeps                      \n",
       "10052 8 4          8.038827  174.824965\n",
       "        5          8.035035  175.512958\n",
       "        6          8.030586  185.954535\n",
       "        7          8.037749  175.599246\n",
       "        8          8.035567  176.590985"
      ]
     },
     "execution_count": 109,
     "metadata": {},
     "output_type": "execute_result"
    }
   ],
   "source": [
    "samples.head()"
   ]
  },
  {
   "cell_type": "code",
   "execution_count": 110,
   "metadata": {
    "collapsed": true
   },
   "outputs": [],
   "source": [
    "def get_final(df):\n",
    "    b = df.index.get_level_values('LogSweeps')\n",
    "    return df.reset_index('LogSweeps', drop=True).iloc[b == b.max()]"
   ]
  },
  {
   "cell_type": "code",
   "execution_count": 111,
   "metadata": {
    "collapsed": false
   },
   "outputs": [],
   "source": [
    "samples_final = (samples.groupby(level=['seed','L'], group_keys=False)\n",
    "                        .apply(get_final))"
   ]
  },
  {
   "cell_type": "markdown",
   "metadata": {},
   "source": [
    "#$\\Delta T_L$ (shift)"
   ]
  },
  {
   "cell_type": "code",
   "execution_count": 112,
   "metadata": {
    "collapsed": false
   },
   "outputs": [],
   "source": [
    "shift = Tc - samples_final.TL"
   ]
  },
  {
   "cell_type": "code",
   "execution_count": 113,
   "metadata": {
    "collapsed": false
   },
   "outputs": [
    {
     "data": {
      "text/plain": [
       "seed   L \n",
       "10052  8     0.743165\n",
       "       10    0.508622\n",
       "       12    0.369945\n",
       "       14    0.280602\n",
       "       16    0.220103\n",
       "Name: TL, dtype: float64"
      ]
     },
     "execution_count": 113,
     "metadata": {},
     "output_type": "execute_result"
    }
   ],
   "source": [
    "shift.head()"
   ]
  },
  {
   "cell_type": "code",
   "execution_count": 114,
   "metadata": {
    "collapsed": false
   },
   "outputs": [
    {
     "data": {
      "text/plain": [
       "L\n",
       "8     0.742493\n",
       "10    0.508379\n",
       "12    0.370252\n",
       "14    0.280831\n",
       "16    0.220293\n",
       "18    0.177275\n",
       "20    0.145733\n",
       "24    0.103597\n",
       "28    0.077271\n",
       "32    0.059861\n",
       "36    0.047736\n",
       "64    0.015591\n",
       "Name: TL, dtype: float64"
      ]
     },
     "execution_count": 114,
     "metadata": {},
     "output_type": "execute_result"
    }
   ],
   "source": [
    "shift.loc[356]"
   ]
  },
  {
   "cell_type": "code",
   "execution_count": 115,
   "metadata": {
    "collapsed": false
   },
   "outputs": [],
   "source": [
    "def quotients(y, s=2):\n",
    "    \n",
    "    pairs = [(L, int(round(s*L))) \n",
    "             for L in y.index \n",
    "             if int(round(s*L)) in y.index]\n",
    "    \n",
    "    return {L1: log(y[L2]/y[L1])/log(s) for L1, L2 in pairs}"
   ]
  },
  {
   "cell_type": "code",
   "execution_count": 116,
   "metadata": {
    "collapsed": true
   },
   "outputs": [],
   "source": [
    "def get_quotients(y, ss=[1.5, 2]):\n",
    "    result = pd.concat({s: pd.Series(quotients(y, s), name='Q') for s in ss})\n",
    "    result.index.names = result.index.names[:-2] + ['s','L']\n",
    "    return result"
   ]
  },
  {
   "cell_type": "code",
   "execution_count": 117,
   "metadata": {
    "collapsed": false
   },
   "outputs": [
    {
     "data": {
      "text/plain": [
       "s    L \n",
       "1.5  8    -1.716129\n",
       "     12   -1.816381\n",
       "     16   -1.860698\n",
       "     24   -1.910967\n",
       "2.0  8    -1.752953\n",
       "     10   -1.802577\n",
       "     12   -1.837521\n",
       "     14   -1.861697\n",
       "     16   -1.879744\n",
       "     18   -1.892850\n",
       "     32   -1.940910\n",
       "Name: Q, dtype: float64"
      ]
     },
     "execution_count": 117,
     "metadata": {},
     "output_type": "execute_result"
    }
   ],
   "source": [
    "get_quotients(shift.loc[356])"
   ]
  },
  {
   "cell_type": "code",
   "execution_count": 118,
   "metadata": {
    "collapsed": false
   },
   "outputs": [],
   "source": [
    "qshift = (shift.groupby(level='seed')\n",
    "               .apply(lambda y: get_quotients(y.reset_index('seed', drop=True))))"
   ]
  },
  {
   "cell_type": "code",
   "execution_count": 119,
   "metadata": {
    "collapsed": false
   },
   "outputs": [],
   "source": [
    "qshift_mean = qshift.groupby(level=['s','L']).agg(['mean','std'])"
   ]
  },
  {
   "cell_type": "code",
   "execution_count": 120,
   "metadata": {
    "collapsed": false
   },
   "outputs": [
    {
     "data": {
      "text/html": [
       "<div>\n",
       "<table border=\"1\" class=\"dataframe\">\n",
       "  <thead>\n",
       "    <tr style=\"text-align: right;\">\n",
       "      <th></th>\n",
       "      <th></th>\n",
       "      <th>mean</th>\n",
       "      <th>std</th>\n",
       "    </tr>\n",
       "    <tr>\n",
       "      <th>s</th>\n",
       "      <th>L</th>\n",
       "      <th></th>\n",
       "      <th></th>\n",
       "    </tr>\n",
       "  </thead>\n",
       "  <tbody>\n",
       "    <tr>\n",
       "      <th rowspan=\"4\" valign=\"top\">1.5</th>\n",
       "      <th>8</th>\n",
       "      <td>-1.719671</td>\n",
       "      <td>0.001953</td>\n",
       "    </tr>\n",
       "    <tr>\n",
       "      <th>12</th>\n",
       "      <td>-1.814464</td>\n",
       "      <td>0.001566</td>\n",
       "    </tr>\n",
       "    <tr>\n",
       "      <th>16</th>\n",
       "      <td>-1.861481</td>\n",
       "      <td>0.001301</td>\n",
       "    </tr>\n",
       "    <tr>\n",
       "      <th>24</th>\n",
       "      <td>-1.909602</td>\n",
       "      <td>0.001092</td>\n",
       "    </tr>\n",
       "    <tr>\n",
       "      <th rowspan=\"7\" valign=\"top\">2.0</th>\n",
       "      <th>8</th>\n",
       "      <td>-1.753859</td>\n",
       "      <td>0.001118</td>\n",
       "    </tr>\n",
       "    <tr>\n",
       "      <th>10</th>\n",
       "      <td>-1.803686</td>\n",
       "      <td>0.001060</td>\n",
       "    </tr>\n",
       "    <tr>\n",
       "      <th>12</th>\n",
       "      <td>-1.836813</td>\n",
       "      <td>0.000872</td>\n",
       "    </tr>\n",
       "    <tr>\n",
       "      <th>14</th>\n",
       "      <td>-1.861679</td>\n",
       "      <td>0.000810</td>\n",
       "    </tr>\n",
       "    <tr>\n",
       "      <th>16</th>\n",
       "      <td>-1.878676</td>\n",
       "      <td>0.000870</td>\n",
       "    </tr>\n",
       "    <tr>\n",
       "      <th>18</th>\n",
       "      <td>-1.892465</td>\n",
       "      <td>0.000719</td>\n",
       "    </tr>\n",
       "    <tr>\n",
       "      <th>32</th>\n",
       "      <td>-1.941808</td>\n",
       "      <td>0.000904</td>\n",
       "    </tr>\n",
       "  </tbody>\n",
       "</table>\n",
       "</div>"
      ],
      "text/plain": [
       "            mean       std\n",
       "s   L                     \n",
       "1.5 8  -1.719671  0.001953\n",
       "    12 -1.814464  0.001566\n",
       "    16 -1.861481  0.001301\n",
       "    24 -1.909602  0.001092\n",
       "2.0 8  -1.753859  0.001118\n",
       "    10 -1.803686  0.001060\n",
       "    12 -1.836813  0.000872\n",
       "    14 -1.861679  0.000810\n",
       "    16 -1.878676  0.000870\n",
       "    18 -1.892465  0.000719\n",
       "    32 -1.941808  0.000904"
      ]
     },
     "execution_count": 120,
     "metadata": {},
     "output_type": "execute_result"
    }
   ],
   "source": [
    "qshift_mean"
   ]
  },
  {
   "cell_type": "code",
   "execution_count": 121,
   "metadata": {
    "collapsed": false
   },
   "outputs": [],
   "source": [
    "qshift_cov = qshift.unstack(['s','L']).cov()"
   ]
  },
  {
   "cell_type": "code",
   "execution_count": 122,
   "metadata": {
    "collapsed": false
   },
   "outputs": [
    {
     "data": {
      "text/html": [
       "<div>\n",
       "<table border=\"1\" class=\"dataframe\">\n",
       "  <thead>\n",
       "    <tr>\n",
       "      <th></th>\n",
       "      <th>s</th>\n",
       "      <th colspan=\"4\" halign=\"left\">1.5</th>\n",
       "      <th colspan=\"7\" halign=\"left\">2.0</th>\n",
       "    </tr>\n",
       "    <tr>\n",
       "      <th></th>\n",
       "      <th>L</th>\n",
       "      <th>8</th>\n",
       "      <th>12</th>\n",
       "      <th>16</th>\n",
       "      <th>24</th>\n",
       "      <th>8</th>\n",
       "      <th>10</th>\n",
       "      <th>12</th>\n",
       "      <th>14</th>\n",
       "      <th>16</th>\n",
       "      <th>18</th>\n",
       "      <th>32</th>\n",
       "    </tr>\n",
       "    <tr>\n",
       "      <th>s</th>\n",
       "      <th>L</th>\n",
       "      <th></th>\n",
       "      <th></th>\n",
       "      <th></th>\n",
       "      <th></th>\n",
       "      <th></th>\n",
       "      <th></th>\n",
       "      <th></th>\n",
       "      <th></th>\n",
       "      <th></th>\n",
       "      <th></th>\n",
       "      <th></th>\n",
       "    </tr>\n",
       "  </thead>\n",
       "  <tbody>\n",
       "    <tr>\n",
       "      <th rowspan=\"4\" valign=\"top\">1.5</th>\n",
       "      <th>8</th>\n",
       "      <td>3.813720e-06</td>\n",
       "      <td>-1.374480e-06</td>\n",
       "      <td>2.115628e-07</td>\n",
       "      <td>-2.244295e-08</td>\n",
       "      <td>1.418924e-06</td>\n",
       "      <td>-1.005174e-07</td>\n",
       "      <td>-6.882029e-07</td>\n",
       "      <td>1.775042e-07</td>\n",
       "      <td>-9.065461e-08</td>\n",
       "      <td>1.026881e-07</td>\n",
       "      <td>1.252319e-07</td>\n",
       "    </tr>\n",
       "    <tr>\n",
       "      <th>12</th>\n",
       "      <td>-1.374480e-06</td>\n",
       "      <td>2.451282e-06</td>\n",
       "      <td>-2.123795e-07</td>\n",
       "      <td>-1.090692e-07</td>\n",
       "      <td>2.421425e-07</td>\n",
       "      <td>1.460420e-07</td>\n",
       "      <td>9.219277e-07</td>\n",
       "      <td>-2.326725e-07</td>\n",
       "      <td>2.664970e-08</td>\n",
       "      <td>-5.757818e-07</td>\n",
       "      <td>-2.388108e-07</td>\n",
       "    </tr>\n",
       "    <tr>\n",
       "      <th>16</th>\n",
       "      <td>2.115628e-07</td>\n",
       "      <td>-2.123795e-07</td>\n",
       "      <td>1.692418e-06</td>\n",
       "      <td>-5.507460e-07</td>\n",
       "      <td>-4.861110e-07</td>\n",
       "      <td>1.271522e-07</td>\n",
       "      <td>3.801341e-07</td>\n",
       "      <td>5.793364e-08</td>\n",
       "      <td>3.352121e-07</td>\n",
       "      <td>1.822024e-07</td>\n",
       "      <td>3.113607e-07</td>\n",
       "    </tr>\n",
       "    <tr>\n",
       "      <th>24</th>\n",
       "      <td>-2.244295e-08</td>\n",
       "      <td>-1.090692e-07</td>\n",
       "      <td>-5.507460e-07</td>\n",
       "      <td>1.192207e-06</td>\n",
       "      <td>-1.072970e-07</td>\n",
       "      <td>-1.856742e-08</td>\n",
       "      <td>-4.163344e-07</td>\n",
       "      <td>9.988616e-08</td>\n",
       "      <td>7.008717e-08</td>\n",
       "      <td>3.448635e-07</td>\n",
       "      <td>-5.178586e-08</td>\n",
       "    </tr>\n",
       "    <tr>\n",
       "      <th>2.0</th>\n",
       "      <th>8</th>\n",
       "      <td>1.418924e-06</td>\n",
       "      <td>2.421425e-07</td>\n",
       "      <td>-4.861110e-07</td>\n",
       "      <td>-1.072970e-07</td>\n",
       "      <td>1.250267e-06</td>\n",
       "      <td>3.401981e-08</td>\n",
       "      <td>1.358924e-07</td>\n",
       "      <td>-6.628958e-08</td>\n",
       "      <td>-2.570703e-07</td>\n",
       "      <td>-6.851662e-08</td>\n",
       "      <td>-1.319401e-07</td>\n",
       "    </tr>\n",
       "  </tbody>\n",
       "</table>\n",
       "</div>"
      ],
      "text/plain": [
       "s                1.5                                                     2.0  \\\n",
       "L                 8             12            16            24            8    \n",
       "s   L                                                                          \n",
       "1.5 8   3.813720e-06 -1.374480e-06  2.115628e-07 -2.244295e-08  1.418924e-06   \n",
       "    12 -1.374480e-06  2.451282e-06 -2.123795e-07 -1.090692e-07  2.421425e-07   \n",
       "    16  2.115628e-07 -2.123795e-07  1.692418e-06 -5.507460e-07 -4.861110e-07   \n",
       "    24 -2.244295e-08 -1.090692e-07 -5.507460e-07  1.192207e-06 -1.072970e-07   \n",
       "2.0 8   1.418924e-06  2.421425e-07 -4.861110e-07 -1.072970e-07  1.250267e-06   \n",
       "\n",
       "s                                                                             \\\n",
       "L                 10            12            14            16            18   \n",
       "s   L                                                                          \n",
       "1.5 8  -1.005174e-07 -6.882029e-07  1.775042e-07 -9.065461e-08  1.026881e-07   \n",
       "    12  1.460420e-07  9.219277e-07 -2.326725e-07  2.664970e-08 -5.757818e-07   \n",
       "    16  1.271522e-07  3.801341e-07  5.793364e-08  3.352121e-07  1.822024e-07   \n",
       "    24 -1.856742e-08 -4.163344e-07  9.988616e-08  7.008717e-08  3.448635e-07   \n",
       "2.0 8   3.401981e-08  1.358924e-07 -6.628958e-08 -2.570703e-07 -6.851662e-08   \n",
       "\n",
       "s                     \n",
       "L                 32  \n",
       "s   L                 \n",
       "1.5 8   1.252319e-07  \n",
       "    12 -2.388108e-07  \n",
       "    16  3.113607e-07  \n",
       "    24 -5.178586e-08  \n",
       "2.0 8  -1.319401e-07  "
      ]
     },
     "execution_count": 122,
     "metadata": {},
     "output_type": "execute_result"
    }
   ],
   "source": [
    "qshift_cov.head()"
   ]
  },
  {
   "cell_type": "code",
   "execution_count": 123,
   "metadata": {
    "collapsed": true
   },
   "outputs": [],
   "source": [
    "def hypothesis(X, th):\n",
    "    z, w = th[:2] # exponents\n",
    "    C = th[2:] # coefficients\n",
    "    return array([z + C[i]/L**w for i, (_, L) in zip(X.labels[0], X.values)])"
   ]
  },
  {
   "cell_type": "code",
   "execution_count": 124,
   "metadata": {
    "collapsed": true
   },
   "outputs": [],
   "source": [
    "def sqresids(hypothesis):\n",
    "    def _sqresids(th, X, y, W):\n",
    "        \"\"\"W is the inverse of the covariance matrix y y^T\"\"\"\n",
    "        h = hypothesis(X, th)\n",
    "        d = h - y\n",
    "        return d*dot(W, d)\n",
    "    return _sqresids"
   ]
  },
  {
   "cell_type": "code",
   "execution_count": 125,
   "metadata": {
    "collapsed": false
   },
   "outputs": [
    {
     "data": {
      "text/html": [
       "<div>\n",
       "<table border=\"1\" class=\"dataframe\">\n",
       "  <thead>\n",
       "    <tr style=\"text-align: right;\">\n",
       "      <th></th>\n",
       "      <th></th>\n",
       "      <th>mean</th>\n",
       "      <th>std</th>\n",
       "    </tr>\n",
       "    <tr>\n",
       "      <th>s</th>\n",
       "      <th>L</th>\n",
       "      <th></th>\n",
       "      <th></th>\n",
       "    </tr>\n",
       "  </thead>\n",
       "  <tbody>\n",
       "    <tr>\n",
       "      <th rowspan=\"4\" valign=\"top\">1.5</th>\n",
       "      <th>8</th>\n",
       "      <td>-1.719671</td>\n",
       "      <td>0.001953</td>\n",
       "    </tr>\n",
       "    <tr>\n",
       "      <th>12</th>\n",
       "      <td>-1.814464</td>\n",
       "      <td>0.001566</td>\n",
       "    </tr>\n",
       "    <tr>\n",
       "      <th>16</th>\n",
       "      <td>-1.861481</td>\n",
       "      <td>0.001301</td>\n",
       "    </tr>\n",
       "    <tr>\n",
       "      <th>24</th>\n",
       "      <td>-1.909602</td>\n",
       "      <td>0.001092</td>\n",
       "    </tr>\n",
       "    <tr>\n",
       "      <th>2.0</th>\n",
       "      <th>8</th>\n",
       "      <td>-1.753859</td>\n",
       "      <td>0.001118</td>\n",
       "    </tr>\n",
       "  </tbody>\n",
       "</table>\n",
       "</div>"
      ],
      "text/plain": [
       "            mean       std\n",
       "s   L                     \n",
       "1.5 8  -1.719671  0.001953\n",
       "    12 -1.814464  0.001566\n",
       "    16 -1.861481  0.001301\n",
       "    24 -1.909602  0.001092\n",
       "2.0 8  -1.753859  0.001118"
      ]
     },
     "execution_count": 125,
     "metadata": {},
     "output_type": "execute_result"
    }
   ],
   "source": [
    "qshift_mean.head()"
   ]
  },
  {
   "cell_type": "code",
   "execution_count": 209,
   "metadata": {
    "collapsed": false
   },
   "outputs": [],
   "source": [
    "X = qshift_mean.index\n",
    "y = qshift_mean['mean']\n",
    "W = pinv(qshift_cov)\n",
    "resids2 = sqresids(hypothesis)\n",
    "\n",
    "th, cov = leastsq(resids2, x0=[-2,1,1,1], \n",
    "                  args=(X, y, W),\n",
    "                  full_output=True)[:2]\n",
    "\n",
    "\n",
    "therr = sqrt(diag(cov))\n",
    "chi2 = sum(resids2(th, X, y, W))\n",
    "ndf = matrix_rank(W) - len(th)\n",
    "Q = 1 - stats.chi2.cdf(chi2, ndf)"
   ]
  },
  {
   "cell_type": "code",
   "execution_count": 210,
   "metadata": {
    "collapsed": false
   },
   "outputs": [
    {
     "data": {
      "text/plain": [
       "array([-2.00359357,  1.00380933,  2.29055801,  2.01423957])"
      ]
     },
     "execution_count": 210,
     "metadata": {},
     "output_type": "execute_result"
    }
   ],
   "source": [
    "th"
   ]
  },
  {
   "cell_type": "code",
   "execution_count": 211,
   "metadata": {
    "collapsed": false
   },
   "outputs": [
    {
     "data": {
      "text/plain": [
       "<matplotlib.text.Text at 0x7f5cd4967128>"
      ]
     },
     "execution_count": 211,
     "metadata": {},
     "output_type": "execute_result"
    },
    {
     "data": {
      "image/png": "[encoded data removed]",
      "text/plain": [
       "<matplotlib.figure.Figure at 0x7f5cd4938a20>"
      ]
     },
     "metadata": {},
     "output_type": "display_data"
    }
   ],
   "source": [
    "z, w = th[:2]\n",
    "C = th[2:]\n",
    "\n",
    "for (s, df), c in zip(qshift_mean.groupby(level='s'), C):\n",
    "    df.reset_index(inplace=True)\n",
    "    errorbar(1/df['L'], df['mean'], df['std'], ls='')\n",
    "    x = linspace(0, xlim()[1])\n",
    "    plot(x, z + c*x**w)\n",
    "    \n",
    "    df.to_csv('../../data/qshift-s{:02d}.csv'.format(int(10*s)), index=False)\n",
    "\n",
    "xlabel('$1/L$')"
   ]
  },
  {
   "cell_type": "code",
   "execution_count": 212,
   "metadata": {
    "collapsed": false
   },
   "outputs": [
    {
     "data": {
      "text/plain": [
       "lambda        2.003594\n",
       "lambda_err    0.004186\n",
       "omega         1.003809\n",
       "omega_err     0.039119\n",
       "C15           2.290558\n",
       "C20           2.014240\n",
       "dtype: float64"
      ]
     },
     "execution_count": 212,
     "metadata": {},
     "output_type": "execute_result"
    }
   ],
   "source": [
    "params = pd.Series([-th[0], therr[0],\n",
    "                    th[1], therr[1],\n",
    "                    th[2], th[3]], \n",
    "                   index=['lambda','lambda_err',\n",
    "                          'omega','omega_err',\n",
    "                          'C15','C20'])\n",
    "params"
   ]
  },
  {
   "cell_type": "code",
   "execution_count": 213,
   "metadata": {
    "collapsed": false
   },
   "outputs": [],
   "source": [
    "pd.DataFrame(params).T.to_csv('../../data/qshift.fit.csv', index=False)"
   ]
  },
  {
   "cell_type": "code",
   "execution_count": 214,
   "metadata": {
    "collapsed": false
   },
   "outputs": [
    {
     "data": {
      "text/plain": [
       "0.94830790929261877"
      ]
     },
     "execution_count": 214,
     "metadata": {},
     "output_type": "execute_result"
    }
   ],
   "source": [
    "Q"
   ]
  },
  {
   "cell_type": "markdown",
   "metadata": {},
   "source": [
    "# $\\chi(T_L)$"
   ]
  },
  {
   "cell_type": "code",
   "execution_count": 132,
   "metadata": {
    "collapsed": false
   },
   "outputs": [],
   "source": [
    "chiTL = samples_final.chiTL"
   ]
  },
  {
   "cell_type": "code",
   "execution_count": 133,
   "metadata": {
    "collapsed": false
   },
   "outputs": [
    {
     "data": {
      "text/plain": [
       "seed   L \n",
       "10052  8     177.388811\n",
       "       10    268.941604\n",
       "       12    385.847887\n",
       "       14    520.876224\n",
       "       16    677.914816\n",
       "Name: chiTL, dtype: float64"
      ]
     },
     "execution_count": 133,
     "metadata": {},
     "output_type": "execute_result"
    }
   ],
   "source": [
    "chiTL.head()"
   ]
  },
  {
   "cell_type": "code",
   "execution_count": 134,
   "metadata": {
    "collapsed": true
   },
   "outputs": [],
   "source": [
    "qchiTL = (chiTL.groupby(level='seed')\n",
    "               .apply(lambda y: get_quotients(y.reset_index('seed', drop=True))))"
   ]
  },
  {
   "cell_type": "code",
   "execution_count": 135,
   "metadata": {
    "collapsed": false
   },
   "outputs": [],
   "source": [
    "qchiTL_mean = qchiTL.groupby(level=['s','L']).agg(['mean','std'])"
   ]
  },
  {
   "cell_type": "code",
   "execution_count": 136,
   "metadata": {
    "collapsed": false
   },
   "outputs": [
    {
     "data": {
      "text/html": [
       "<div>\n",
       "<table border=\"1\" class=\"dataframe\">\n",
       "  <thead>\n",
       "    <tr style=\"text-align: right;\">\n",
       "      <th></th>\n",
       "      <th></th>\n",
       "      <th>mean</th>\n",
       "      <th>std</th>\n",
       "    </tr>\n",
       "    <tr>\n",
       "      <th>s</th>\n",
       "      <th>L</th>\n",
       "      <th></th>\n",
       "      <th></th>\n",
       "    </tr>\n",
       "  </thead>\n",
       "  <tbody>\n",
       "    <tr>\n",
       "      <th rowspan=\"4\" valign=\"top\">1.5</th>\n",
       "      <th>8</th>\n",
       "      <td>1.923323</td>\n",
       "      <td>0.017971</td>\n",
       "    </tr>\n",
       "    <tr>\n",
       "      <th>12</th>\n",
       "      <td>1.966291</td>\n",
       "      <td>0.016385</td>\n",
       "    </tr>\n",
       "    <tr>\n",
       "      <th>16</th>\n",
       "      <td>2.020732</td>\n",
       "      <td>0.017211</td>\n",
       "    </tr>\n",
       "    <tr>\n",
       "      <th>24</th>\n",
       "      <td>2.129713</td>\n",
       "      <td>0.018667</td>\n",
       "    </tr>\n",
       "    <tr>\n",
       "      <th>2.0</th>\n",
       "      <th>8</th>\n",
       "      <td>1.946064</td>\n",
       "      <td>0.010283</td>\n",
       "    </tr>\n",
       "  </tbody>\n",
       "</table>\n",
       "</div>"
      ],
      "text/plain": [
       "            mean       std\n",
       "s   L                     \n",
       "1.5 8   1.923323  0.017971\n",
       "    12  1.966291  0.016385\n",
       "    16  2.020732  0.017211\n",
       "    24  2.129713  0.018667\n",
       "2.0 8   1.946064  0.010283"
      ]
     },
     "execution_count": 136,
     "metadata": {},
     "output_type": "execute_result"
    }
   ],
   "source": [
    "qchiTL_mean.head()"
   ]
  },
  {
   "cell_type": "code",
   "execution_count": 137,
   "metadata": {
    "collapsed": true
   },
   "outputs": [],
   "source": [
    "qchiTL_cov = qchiTL.unstack(['s','L']).cov()"
   ]
  },
  {
   "cell_type": "code",
   "execution_count": 138,
   "metadata": {
    "collapsed": false
   },
   "outputs": [
    {
     "data": {
      "text/html": [
       "<div>\n",
       "<table border=\"1\" class=\"dataframe\">\n",
       "  <thead>\n",
       "    <tr>\n",
       "      <th></th>\n",
       "      <th>s</th>\n",
       "      <th colspan=\"4\" halign=\"left\">1.5</th>\n",
       "      <th colspan=\"7\" halign=\"left\">2.0</th>\n",
       "    </tr>\n",
       "    <tr>\n",
       "      <th></th>\n",
       "      <th>L</th>\n",
       "      <th>8</th>\n",
       "      <th>12</th>\n",
       "      <th>16</th>\n",
       "      <th>24</th>\n",
       "      <th>8</th>\n",
       "      <th>10</th>\n",
       "      <th>12</th>\n",
       "      <th>14</th>\n",
       "      <th>16</th>\n",
       "      <th>18</th>\n",
       "      <th>32</th>\n",
       "    </tr>\n",
       "    <tr>\n",
       "      <th>s</th>\n",
       "      <th>L</th>\n",
       "      <th></th>\n",
       "      <th></th>\n",
       "      <th></th>\n",
       "      <th></th>\n",
       "      <th></th>\n",
       "      <th></th>\n",
       "      <th></th>\n",
       "      <th></th>\n",
       "      <th></th>\n",
       "      <th></th>\n",
       "      <th></th>\n",
       "    </tr>\n",
       "  </thead>\n",
       "  <tbody>\n",
       "    <tr>\n",
       "      <th rowspan=\"4\" valign=\"top\">1.5</th>\n",
       "      <th>8</th>\n",
       "      <td>3.229545e-04</td>\n",
       "      <td>-0.000148</td>\n",
       "      <td>1.717357e-07</td>\n",
       "      <td>-0.000004</td>\n",
       "      <td>0.000109</td>\n",
       "      <td>4.627935e-06</td>\n",
       "      <td>-0.000080</td>\n",
       "      <td>1.254043e-05</td>\n",
       "      <td>-0.000004</td>\n",
       "      <td>0.000004</td>\n",
       "      <td>0.000004</td>\n",
       "    </tr>\n",
       "    <tr>\n",
       "      <th>12</th>\n",
       "      <td>-1.476998e-04</td>\n",
       "      <td>0.000268</td>\n",
       "      <td>2.844280e-05</td>\n",
       "      <td>-0.000019</td>\n",
       "      <td>0.000007</td>\n",
       "      <td>9.608832e-06</td>\n",
       "      <td>0.000110</td>\n",
       "      <td>-2.344473e-05</td>\n",
       "      <td>-0.000002</td>\n",
       "      <td>-0.000058</td>\n",
       "      <td>-0.000016</td>\n",
       "    </tr>\n",
       "    <tr>\n",
       "      <th>16</th>\n",
       "      <td>1.717357e-07</td>\n",
       "      <td>0.000028</td>\n",
       "      <td>2.962025e-04</td>\n",
       "      <td>-0.000151</td>\n",
       "      <td>-0.000057</td>\n",
       "      <td>6.456260e-06</td>\n",
       "      <td>0.000116</td>\n",
       "      <td>1.890946e-05</td>\n",
       "      <td>0.000037</td>\n",
       "      <td>0.000012</td>\n",
       "      <td>0.000065</td>\n",
       "    </tr>\n",
       "    <tr>\n",
       "      <th>24</th>\n",
       "      <td>-3.626511e-06</td>\n",
       "      <td>-0.000019</td>\n",
       "      <td>-1.509037e-04</td>\n",
       "      <td>0.000348</td>\n",
       "      <td>-0.000012</td>\n",
       "      <td>2.418469e-05</td>\n",
       "      <td>-0.000098</td>\n",
       "      <td>9.840282e-07</td>\n",
       "      <td>0.000020</td>\n",
       "      <td>0.000117</td>\n",
       "      <td>-0.000020</td>\n",
       "    </tr>\n",
       "    <tr>\n",
       "      <th>2.0</th>\n",
       "      <th>8</th>\n",
       "      <td>1.086395e-04</td>\n",
       "      <td>0.000007</td>\n",
       "      <td>-5.675404e-05</td>\n",
       "      <td>-0.000012</td>\n",
       "      <td>0.000106</td>\n",
       "      <td>3.536066e-07</td>\n",
       "      <td>0.000009</td>\n",
       "      <td>-1.346168e-05</td>\n",
       "      <td>-0.000028</td>\n",
       "      <td>-0.000002</td>\n",
       "      <td>-0.000020</td>\n",
       "    </tr>\n",
       "  </tbody>\n",
       "</table>\n",
       "</div>"
      ],
      "text/plain": [
       "s                1.5                                         2.0  \\\n",
       "L                 8         12            16        24        8    \n",
       "s   L                                                              \n",
       "1.5 8   3.229545e-04 -0.000148  1.717357e-07 -0.000004  0.000109   \n",
       "    12 -1.476998e-04  0.000268  2.844280e-05 -0.000019  0.000007   \n",
       "    16  1.717357e-07  0.000028  2.962025e-04 -0.000151 -0.000057   \n",
       "    24 -3.626511e-06 -0.000019 -1.509037e-04  0.000348 -0.000012   \n",
       "2.0 8   1.086395e-04  0.000007 -5.675404e-05 -0.000012  0.000106   \n",
       "\n",
       "s                                                                           \n",
       "L                 10        12            14        16        18        32  \n",
       "s   L                                                                       \n",
       "1.5 8   4.627935e-06 -0.000080  1.254043e-05 -0.000004  0.000004  0.000004  \n",
       "    12  9.608832e-06  0.000110 -2.344473e-05 -0.000002 -0.000058 -0.000016  \n",
       "    16  6.456260e-06  0.000116  1.890946e-05  0.000037  0.000012  0.000065  \n",
       "    24  2.418469e-05 -0.000098  9.840282e-07  0.000020  0.000117 -0.000020  \n",
       "2.0 8   3.536066e-07  0.000009 -1.346168e-05 -0.000028 -0.000002 -0.000020  "
      ]
     },
     "execution_count": 138,
     "metadata": {},
     "output_type": "execute_result"
    }
   ],
   "source": [
    "qchiTL_cov.head()"
   ]
  },
  {
   "cell_type": "code",
   "execution_count": 139,
   "metadata": {
    "collapsed": true
   },
   "outputs": [],
   "source": [
    "def hyp_fix_omega(w):\n",
    "    def _hypothesis(X, th):\n",
    "        z, C = th[0], th[1:]\n",
    "        return array([z + C[i]/L**w for i, (_, L) in zip(X.labels[0], X.values)])\n",
    "    return _hypothesis"
   ]
  },
  {
   "cell_type": "code",
   "execution_count": 215,
   "metadata": {
    "collapsed": false
   },
   "outputs": [],
   "source": [
    "min_size_fit = 10\n",
    "ifit = (qchiTL_mean.index.get_level_values('L') >= min_size_fit)\n",
    "\n",
    "X = qchiTL_mean.index[ifit]\n",
    "y = qchiTL_mean['mean'].iloc[ifit]\n",
    "W = pinv(qchiTL_cov.iloc[ifit, ifit])\n",
    "resids2 = sqresids(hyp_fix_omega(0.5))\n",
    "\n",
    "th, cov = leastsq(resids2, x0=[2.5,1,1], \n",
    "                  args=(X, y, W),\n",
    "                  full_output=True)[:2]\n",
    "\n",
    "\n",
    "therr = sqrt(diag(cov))\n",
    "chi2 = sum(resids2(th, X, y, W))\n",
    "ndf = matrix_rank(W) - len(th)\n",
    "Q = 1 - stats.chi2.cdf(chi2, ndf)"
   ]
  },
  {
   "cell_type": "code",
   "execution_count": 216,
   "metadata": {
    "collapsed": false
   },
   "outputs": [
    {
     "data": {
      "text/plain": [
       "<matplotlib.text.Text at 0x7f5cd4b4b080>"
      ]
     },
     "execution_count": 216,
     "metadata": {},
     "output_type": "execute_result"
    },
    {
     "data": {
      "image/png": "[encoded data removed]",
      "text/plain": [
       "<matplotlib.figure.Figure at 0x7f5cd49389b0>"
      ]
     },
     "metadata": {},
     "output_type": "display_data"
    }
   ],
   "source": [
    "z = th[0]\n",
    "C = th[1:]\n",
    "\n",
    "for (s, df), c in zip(qchiTL_mean.groupby(level='s'), C):\n",
    "    df.reset_index(inplace=True)\n",
    "    errorbar(df['L']**-0.5, df['mean'], df['std'], ls='')\n",
    "    x = linspace(0, xlim()[1])\n",
    "    plot(x, z + c*x)\n",
    "    \n",
    "    df.to_csv('../../data/qchiTL-s{:02d}.csv'.format(int(10*s)), index=False)\n",
    "\n",
    "xlabel('$1/\\sqrt{L}$')"
   ]
  },
  {
   "cell_type": "code",
   "execution_count": 217,
   "metadata": {
    "collapsed": false
   },
   "outputs": [
    {
     "data": {
      "text/plain": [
       "0.25088594721661017"
      ]
     },
     "execution_count": 217,
     "metadata": {},
     "output_type": "execute_result"
    }
   ],
   "source": [
    "Q"
   ]
  },
  {
   "cell_type": "code",
   "execution_count": 218,
   "metadata": {
    "collapsed": false
   },
   "outputs": [
    {
     "data": {
      "text/plain": [
       "array([ 2.51214508, -1.93649898, -1.75708568])"
      ]
     },
     "execution_count": 218,
     "metadata": {},
     "output_type": "execute_result"
    }
   ],
   "source": [
    "th"
   ]
  },
  {
   "cell_type": "code",
   "execution_count": 219,
   "metadata": {
    "collapsed": false
   },
   "outputs": [
    {
     "data": {
      "text/plain": [
       "array([ 0.01071328,  0.0416164 ,  0.04001703])"
      ]
     },
     "execution_count": 219,
     "metadata": {},
     "output_type": "execute_result"
    }
   ],
   "source": [
    "therr"
   ]
  },
  {
   "cell_type": "code",
   "execution_count": 220,
   "metadata": {
    "collapsed": false
   },
   "outputs": [
    {
     "data": {
      "text/plain": [
       "yt        2.512145\n",
       "yt_err    0.010713\n",
       "C15      -1.936499\n",
       "C20      -1.757086\n",
       "dtype: float64"
      ]
     },
     "execution_count": 220,
     "metadata": {},
     "output_type": "execute_result"
    }
   ],
   "source": [
    "params = pd.Series([th[0], therr[0],\n",
    "                    th[1], th[2]], \n",
    "                   index=['yt','yt_err',\n",
    "                          'C15','C20'])\n",
    "params"
   ]
  },
  {
   "cell_type": "code",
   "execution_count": 221,
   "metadata": {
    "collapsed": false
   },
   "outputs": [],
   "source": [
    "pd.DataFrame(params).T.to_csv('../../data/qchiTL.fit.csv', index=False)"
   ]
  },
  {
   "cell_type": "markdown",
   "metadata": {},
   "source": [
    "# Scaling plot"
   ]
  },
  {
   "cell_type": "code",
   "execution_count": 222,
   "metadata": {
    "collapsed": false
   },
   "outputs": [],
   "source": [
    "mean_final = samples_final.groupby(level='L').agg(['mean','std'])"
   ]
  },
  {
   "cell_type": "code",
   "execution_count": 223,
   "metadata": {
    "collapsed": false
   },
   "outputs": [
    {
     "data": {
      "text/html": [
       "<div>\n",
       "<table border=\"1\" class=\"dataframe\">\n",
       "  <thead>\n",
       "    <tr>\n",
       "      <th></th>\n",
       "      <th colspan=\"2\" halign=\"left\">TL</th>\n",
       "      <th colspan=\"2\" halign=\"left\">chiTL</th>\n",
       "    </tr>\n",
       "    <tr>\n",
       "      <th></th>\n",
       "      <th>mean</th>\n",
       "      <th>std</th>\n",
       "      <th>mean</th>\n",
       "      <th>std</th>\n",
       "    </tr>\n",
       "    <tr>\n",
       "      <th>L</th>\n",
       "      <th></th>\n",
       "      <th></th>\n",
       "      <th></th>\n",
       "      <th></th>\n",
       "    </tr>\n",
       "  </thead>\n",
       "  <tbody>\n",
       "    <tr>\n",
       "      <th>8</th>\n",
       "      <td>8.035576</td>\n",
       "      <td>0.000479</td>\n",
       "      <td>177.025081</td>\n",
       "      <td>1.005039</td>\n",
       "    </tr>\n",
       "    <tr>\n",
       "      <th>10</th>\n",
       "      <td>8.269617</td>\n",
       "      <td>0.000299</td>\n",
       "      <td>271.243465</td>\n",
       "      <td>1.482876</td>\n",
       "    </tr>\n",
       "    <tr>\n",
       "      <th>12</th>\n",
       "      <td>8.408545</td>\n",
       "      <td>0.000182</td>\n",
       "      <td>386.112772</td>\n",
       "      <td>2.013820</td>\n",
       "    </tr>\n",
       "    <tr>\n",
       "      <th>14</th>\n",
       "      <td>8.497737</td>\n",
       "      <td>0.000119</td>\n",
       "      <td>521.689901</td>\n",
       "      <td>2.281362</td>\n",
       "    </tr>\n",
       "    <tr>\n",
       "      <th>16</th>\n",
       "      <td>8.558189</td>\n",
       "      <td>0.000079</td>\n",
       "      <td>682.110529</td>\n",
       "      <td>2.649245</td>\n",
       "    </tr>\n",
       "  </tbody>\n",
       "</table>\n",
       "</div>"
      ],
      "text/plain": [
       "          TL                 chiTL          \n",
       "        mean       std        mean       std\n",
       "L                                           \n",
       "8   8.035576  0.000479  177.025081  1.005039\n",
       "10  8.269617  0.000299  271.243465  1.482876\n",
       "12  8.408545  0.000182  386.112772  2.013820\n",
       "14  8.497737  0.000119  521.689901  2.281362\n",
       "16  8.558189  0.000079  682.110529  2.649245"
      ]
     },
     "execution_count": 223,
     "metadata": {},
     "output_type": "execute_result"
    }
   ],
   "source": [
    "mean_final.head()"
   ]
  },
  {
   "cell_type": "code",
   "execution_count": 150,
   "metadata": {
    "collapsed": false
   },
   "outputs": [],
   "source": [
    "chi_final = (chi.groupby(level=['L','Temp'])\n",
    "                .apply(lambda df: df.sortlevel('LogSweeps').iloc[-1]))"
   ]
  },
  {
   "cell_type": "code",
   "execution_count": 151,
   "metadata": {
    "collapsed": false
   },
   "outputs": [
    {
     "data": {
      "text/html": [
       "<div>\n",
       "<table border=\"1\" class=\"dataframe\">\n",
       "  <thead>\n",
       "    <tr style=\"text-align: right;\">\n",
       "      <th></th>\n",
       "      <th></th>\n",
       "      <th>mean</th>\n",
       "      <th>sem</th>\n",
       "    </tr>\n",
       "    <tr>\n",
       "      <th>L</th>\n",
       "      <th>Temp</th>\n",
       "      <th></th>\n",
       "      <th></th>\n",
       "    </tr>\n",
       "  </thead>\n",
       "  <tbody>\n",
       "    <tr>\n",
       "      <th rowspan=\"5\" valign=\"top\">8</th>\n",
       "      <th>7.750308</th>\n",
       "      <td>1819.816863</td>\n",
       "      <td>1.341217</td>\n",
       "    </tr>\n",
       "    <tr>\n",
       "      <th>7.775425</th>\n",
       "      <td>1633.034260</td>\n",
       "      <td>1.472391</td>\n",
       "    </tr>\n",
       "    <tr>\n",
       "      <th>7.800542</th>\n",
       "      <td>1451.576110</td>\n",
       "      <td>1.260678</td>\n",
       "    </tr>\n",
       "    <tr>\n",
       "      <th>7.825659</th>\n",
       "      <td>1278.106107</td>\n",
       "      <td>1.214736</td>\n",
       "    </tr>\n",
       "    <tr>\n",
       "      <th>7.850777</th>\n",
       "      <td>1107.142205</td>\n",
       "      <td>1.345023</td>\n",
       "    </tr>\n",
       "  </tbody>\n",
       "</table>\n",
       "</div>"
      ],
      "text/plain": [
       "                   mean       sem\n",
       "L Temp                           \n",
       "8 7.750308  1819.816863  1.341217\n",
       "  7.775425  1633.034260  1.472391\n",
       "  7.800542  1451.576110  1.260678\n",
       "  7.825659  1278.106107  1.214736\n",
       "  7.850777  1107.142205  1.345023"
      ]
     },
     "execution_count": 151,
     "metadata": {},
     "output_type": "execute_result"
    }
   ],
   "source": [
    "chi_final.head()"
   ]
  },
  {
   "cell_type": "code",
   "execution_count": 152,
   "metadata": {
    "collapsed": false
   },
   "outputs": [],
   "source": [
    "# load additional data for wide temperature range\n",
    "\n",
    "from glob import glob\n",
    "\n",
    "opts = dict(delim_whitespace=True, comment='#', usecols=range(6),\n",
    "            names=['bc','d','L','T','chi','chi_err'],\n",
    "            index_col=['L','T'])\n",
    "\n",
    "wide = pd.concat([pd.read_csv(f, **opts) for f in glob('f-k0-wide/f-d5-L??.csv')])\n",
    "chi_wide = wide[['chi','chi_err']]\n",
    "chi_wide.index.names = ['L','Temp']\n",
    "chi_wide.columns = ['mean','sem']"
   ]
  },
  {
   "cell_type": "code",
   "execution_count": 153,
   "metadata": {
    "collapsed": false
   },
   "outputs": [
    {
     "data": {
      "text/html": [
       "<div>\n",
       "<table border=\"1\" class=\"dataframe\">\n",
       "  <thead>\n",
       "    <tr style=\"text-align: right;\">\n",
       "      <th></th>\n",
       "      <th></th>\n",
       "      <th></th>\n",
       "      <th></th>\n",
       "      <th>M2</th>\n",
       "      <th>M4</th>\n",
       "    </tr>\n",
       "    <tr>\n",
       "      <th>L</th>\n",
       "      <th>Temp</th>\n",
       "      <th>LogSweeps</th>\n",
       "      <th>Run</th>\n",
       "      <th></th>\n",
       "      <th></th>\n",
       "    </tr>\n",
       "  </thead>\n",
       "  <tbody>\n",
       "    <tr>\n",
       "      <th rowspan=\"5\" valign=\"top\">8</th>\n",
       "      <th rowspan=\"5\" valign=\"top\">8.77846</th>\n",
       "      <th rowspan=\"5\" valign=\"top\">4</th>\n",
       "      <th>0</th>\n",
       "      <td>0.000095</td>\n",
       "      <td>1.986094e-08</td>\n",
       "    </tr>\n",
       "    <tr>\n",
       "      <th>1</th>\n",
       "      <td>0.000102</td>\n",
       "      <td>1.622421e-08</td>\n",
       "    </tr>\n",
       "    <tr>\n",
       "      <th>2</th>\n",
       "      <td>0.000250</td>\n",
       "      <td>8.248400e-08</td>\n",
       "    </tr>\n",
       "    <tr>\n",
       "      <th>3</th>\n",
       "      <td>0.000125</td>\n",
       "      <td>3.724780e-08</td>\n",
       "    </tr>\n",
       "    <tr>\n",
       "      <th>4</th>\n",
       "      <td>0.000065</td>\n",
       "      <td>9.844944e-09</td>\n",
       "    </tr>\n",
       "  </tbody>\n",
       "</table>\n",
       "</div>"
      ],
      "text/plain": [
       "                               M2            M4\n",
       "L Temp    LogSweeps Run                        \n",
       "8 8.77846 4         0    0.000095  1.986094e-08\n",
       "                    1    0.000102  1.622421e-08\n",
       "                    2    0.000250  8.248400e-08\n",
       "                    3    0.000125  3.724780e-08\n",
       "                    4    0.000065  9.844944e-09"
      ]
     },
     "execution_count": 153,
     "metadata": {},
     "output_type": "execute_result"
    }
   ],
   "source": [
    "dataTc.head()"
   ]
  },
  {
   "cell_type": "code",
   "execution_count": 154,
   "metadata": {
    "collapsed": false
   },
   "outputs": [],
   "source": [
    "chiTc = (dataTc.eval('L**5 * M2')\n",
    "               .groupby(level=['L','Temp','LogSweeps'])\n",
    "               .agg(['mean','sem'])\n",
    "               .groupby(level=['L','Temp'])\n",
    "               .apply(lambda df: df.sortlevel('LogSweeps').iloc[-1]))"
   ]
  },
  {
   "cell_type": "code",
   "execution_count": 155,
   "metadata": {
    "collapsed": false
   },
   "outputs": [],
   "source": [
    "chi_all = pd.concat((chi_final, chi_wide, chiTc)).sortlevel()"
   ]
  },
  {
   "cell_type": "code",
   "execution_count": 156,
   "metadata": {
    "collapsed": false
   },
   "outputs": [
    {
     "data": {
      "text/html": [
       "<div>\n",
       "<table border=\"1\" class=\"dataframe\">\n",
       "  <thead>\n",
       "    <tr style=\"text-align: right;\">\n",
       "      <th></th>\n",
       "      <th></th>\n",
       "      <th>mean</th>\n",
       "      <th>sem</th>\n",
       "      <th>TL_mean</th>\n",
       "      <th>TL_std</th>\n",
       "      <th>chiTL_mean</th>\n",
       "      <th>chiTL_std</th>\n",
       "    </tr>\n",
       "    <tr>\n",
       "      <th>L</th>\n",
       "      <th>Temp</th>\n",
       "      <th></th>\n",
       "      <th></th>\n",
       "      <th></th>\n",
       "      <th></th>\n",
       "      <th></th>\n",
       "      <th></th>\n",
       "    </tr>\n",
       "  </thead>\n",
       "  <tbody>\n",
       "    <tr>\n",
       "      <th rowspan=\"5\" valign=\"top\">8</th>\n",
       "      <th>7.023</th>\n",
       "      <td>8769.542912</td>\n",
       "      <td>2.119351</td>\n",
       "      <td>8.035576</td>\n",
       "      <td>0.000479</td>\n",
       "      <td>177.025081</td>\n",
       "      <td>1.005039</td>\n",
       "    </tr>\n",
       "    <tr>\n",
       "      <th>7.068</th>\n",
       "      <td>8300.096922</td>\n",
       "      <td>2.358131</td>\n",
       "      <td>8.035576</td>\n",
       "      <td>0.000479</td>\n",
       "      <td>177.025081</td>\n",
       "      <td>1.005039</td>\n",
       "    </tr>\n",
       "    <tr>\n",
       "      <th>7.114</th>\n",
       "      <td>7810.897971</td>\n",
       "      <td>2.422048</td>\n",
       "      <td>8.035576</td>\n",
       "      <td>0.000479</td>\n",
       "      <td>177.025081</td>\n",
       "      <td>1.005039</td>\n",
       "    </tr>\n",
       "    <tr>\n",
       "      <th>7.159</th>\n",
       "      <td>7338.777446</td>\n",
       "      <td>2.516133</td>\n",
       "      <td>8.035576</td>\n",
       "      <td>0.000479</td>\n",
       "      <td>177.025081</td>\n",
       "      <td>1.005039</td>\n",
       "    </tr>\n",
       "    <tr>\n",
       "      <th>7.205</th>\n",
       "      <td>6859.964979</td>\n",
       "      <td>2.045863</td>\n",
       "      <td>8.035576</td>\n",
       "      <td>0.000479</td>\n",
       "      <td>177.025081</td>\n",
       "      <td>1.005039</td>\n",
       "    </tr>\n",
       "  </tbody>\n",
       "</table>\n",
       "</div>"
      ],
      "text/plain": [
       "                mean       sem   TL_mean    TL_std  chiTL_mean  chiTL_std\n",
       "L Temp                                                                   \n",
       "8 7.023  8769.542912  2.119351  8.035576  0.000479  177.025081   1.005039\n",
       "  7.068  8300.096922  2.358131  8.035576  0.000479  177.025081   1.005039\n",
       "  7.114  7810.897971  2.422048  8.035576  0.000479  177.025081   1.005039\n",
       "  7.159  7338.777446  2.516133  8.035576  0.000479  177.025081   1.005039\n",
       "  7.205  6859.964979  2.045863  8.035576  0.000479  177.025081   1.005039"
      ]
     },
     "execution_count": 156,
     "metadata": {},
     "output_type": "execute_result"
    }
   ],
   "source": [
    "chi_all = chi_all.join(mean_final)\n",
    "chi_all.columns = ['_'.join(c) if isinstance(c, tuple) else c \n",
    "                   for c in chi_all.columns]\n",
    "chi_all.head()"
   ]
  },
  {
   "cell_type": "code",
   "execution_count": 157,
   "metadata": {
    "collapsed": false
   },
   "outputs": [
    {
     "data": {
      "text/plain": [
       "<matplotlib.legend.Legend at 0x7f5cd4e9dfd0>"
      ]
     },
     "execution_count": 157,
     "metadata": {},
     "output_type": "execute_result"
    },
    {
     "data": {
      "image/png": "[encoded data removed]",
      "text/plain": [
       "<matplotlib.figure.Figure at 0x7f5cd518b278>"
      ]
     },
     "metadata": {},
     "output_type": "display_data"
    }
   ],
   "source": [
    "chi_all_ = chi_all.query('L==[12,16,20,28,36]')\n",
    "chi_all_Tc = chi_all_.query('Temp > 8.77845 & Temp < 8.77847')\n",
    "chi_all_ = chi_all_.query('Temp < 8.77845 | Temp > 8.77847')\n",
    "\n",
    "for L, df in chi_all_.groupby(level='L'):\n",
    "    x = df.eval('L**2.5 * (Temp - TL_mean)/TL_mean')\n",
    "    y = df.eval('mean/chiTL_mean')\n",
    "    yerr = df.eval('sem/chiTL_mean')\n",
    "    errorbar(x, y, yerr, label='{}'.format(L))\n",
    "    \n",
    "    df.to_csv('../../data/chi_TL-f-L{:02d}.csv'.format(L))\n",
    "    \n",
    "df = chi_all_Tc\n",
    "x = df.eval('L**2.5 * (Temp - TL_mean)/TL_mean')\n",
    "y = df.eval('mean/chiTL_mean')\n",
    "yerr = df.eval('sem/chiTL_mean')\n",
    "errorbar(x, y, yerr, marker='o', ls='', label='$T_c$')\n",
    "\n",
    "df.to_csv('../../data/chi_TL-f-Tc.csv'.format(L))\n",
    "    \n",
    "yscale('log')\n",
    "xlim(-5, 45)\n",
    "ylim(0.03, 3)\n",
    "xlabel('$L^{d/2}(T-T_L)/T_L$')\n",
    "ylabel('$\\chi(T)/\\chi(T_L)$')\n",
    "legend()"
   ]
  },
  {
   "cell_type": "markdown",
   "metadata": {},
   "source": [
    "# $\\delta T_L$ (width)"
   ]
  },
  {
   "cell_type": "code",
   "execution_count": 158,
   "metadata": {
    "collapsed": true
   },
   "outputs": [],
   "source": [
    "def width(G, g1=0.75, g2=0.25):\n",
    "    try:\n",
    "        f = UnivariateSpline(G.index, G['mean'], w=1./G['sem'])\n",
    "        T1, T2 = [bisect(lambda T: g - f(T), G.index[0], G.index[-1]) for g in [g1, g2]]\n",
    "        return T2 - T1\n",
    "    except ValueError as e:\n",
    "        return nan"
   ]
  },
  {
   "cell_type": "code",
   "execution_count": 159,
   "metadata": {
    "collapsed": false
   },
   "outputs": [],
   "source": [
    "G_ = G.xs([32,10], level=['L','LogSweeps'])"
   ]
  },
  {
   "cell_type": "code",
   "execution_count": 160,
   "metadata": {
    "collapsed": false
   },
   "outputs": [
    {
     "data": {
      "text/plain": [
       "<matplotlib.axes._subplots.AxesSubplot at 0x7f5cd4f2b400>"
      ]
     },
     "execution_count": 160,
     "metadata": {},
     "output_type": "execute_result"
    },
    {
     "data": {
      "image/png": "[encoded data removed]",
      "text/plain": [
       "<matplotlib.figure.Figure at 0x7f5cd4f16438>"
      ]
     },
     "metadata": {},
     "output_type": "display_data"
    }
   ],
   "source": [
    "G_.plot(y='mean', yerr='sem')"
   ]
  },
  {
   "cell_type": "code",
   "execution_count": 161,
   "metadata": {
    "collapsed": false
   },
   "outputs": [
    {
     "data": {
      "text/plain": [
       "0.006185864739967073"
      ]
     },
     "execution_count": 161,
     "metadata": {},
     "output_type": "execute_result"
    }
   ],
   "source": [
    "width(G_)"
   ]
  },
  {
   "cell_type": "code",
   "execution_count": 162,
   "metadata": {
    "collapsed": false
   },
   "outputs": [],
   "source": [
    "def compute_width(data):\n",
    "    G = data.groupby(level=['L','Temp','LogSweeps']).apply(binderG)\n",
    "    result = (G.groupby(level=['L','LogSweeps'])\n",
    "               .apply(lambda df: width(df.reset_index(['L','LogSweeps']))))\n",
    "    return result"
   ]
  },
  {
   "cell_type": "code",
   "execution_count": 163,
   "metadata": {
    "collapsed": false
   },
   "outputs": [
    {
     "data": {
      "text/html": [
       "<div>\n",
       "<table border=\"1\" class=\"dataframe\">\n",
       "  <thead>\n",
       "    <tr style=\"text-align: right;\">\n",
       "      <th></th>\n",
       "      <th></th>\n",
       "      <th></th>\n",
       "      <th></th>\n",
       "      <th>M2</th>\n",
       "      <th>M4</th>\n",
       "    </tr>\n",
       "    <tr>\n",
       "      <th>L</th>\n",
       "      <th>Temp</th>\n",
       "      <th>LogSweeps</th>\n",
       "      <th>Run</th>\n",
       "      <th></th>\n",
       "      <th></th>\n",
       "    </tr>\n",
       "  </thead>\n",
       "  <tbody>\n",
       "    <tr>\n",
       "      <th rowspan=\"5\" valign=\"top\">8</th>\n",
       "      <th rowspan=\"5\" valign=\"top\">7.750308</th>\n",
       "      <th rowspan=\"5\" valign=\"top\">4</th>\n",
       "      <th>0</th>\n",
       "      <td>0.054738</td>\n",
       "      <td>0.003106</td>\n",
       "    </tr>\n",
       "    <tr>\n",
       "      <th>1</th>\n",
       "      <td>0.056092</td>\n",
       "      <td>0.003275</td>\n",
       "    </tr>\n",
       "    <tr>\n",
       "      <th>2</th>\n",
       "      <td>0.053007</td>\n",
       "      <td>0.002916</td>\n",
       "    </tr>\n",
       "    <tr>\n",
       "      <th>3</th>\n",
       "      <td>0.044488</td>\n",
       "      <td>0.002058</td>\n",
       "    </tr>\n",
       "    <tr>\n",
       "      <th>4</th>\n",
       "      <td>0.059542</td>\n",
       "      <td>0.003698</td>\n",
       "    </tr>\n",
       "  </tbody>\n",
       "</table>\n",
       "</div>"
      ],
      "text/plain": [
       "                                M2        M4\n",
       "L Temp     LogSweeps Run                    \n",
       "8 7.750308 4         0    0.054738  0.003106\n",
       "                     1    0.056092  0.003275\n",
       "                     2    0.053007  0.002916\n",
       "                     3    0.044488  0.002058\n",
       "                     4    0.059542  0.003698"
      ]
     },
     "execution_count": 163,
     "metadata": {},
     "output_type": "execute_result"
    }
   ],
   "source": [
    "data.head()"
   ]
  },
  {
   "cell_type": "code",
   "execution_count": null,
   "metadata": {
    "collapsed": false
   },
   "outputs": [],
   "source": [
    "time compute_width(data).head()"
   ]
  },
  {
   "cell_type": "code",
   "execution_count": null,
   "metadata": {
    "collapsed": false
   },
   "outputs": [],
   "source": [
    "seeds = random_integers(1e5, size=100)\n",
    "bs = BootstrapSampler(data, ['L','Temp','LogSweeps'], compute_width)\n",
    "\n",
    "with mp.Pool(4) as p:\n",
    "    samples = p.map(bs, seeds)\n",
    "\n",
    "samples = pd.concat(samples, keys=seeds, names=['seed'])"
   ]
  },
  {
   "cell_type": "code",
   "execution_count": null,
   "metadata": {
    "collapsed": true
   },
   "outputs": [],
   "source": [
    "#samples.to_hdf('width-samples.h5','samples')"
   ]
  },
  {
   "cell_type": "code",
   "execution_count": 165,
   "metadata": {
    "collapsed": false
   },
   "outputs": [],
   "source": [
    "samples = pd.read_hdf('width-samples.h5','samples')"
   ]
  },
  {
   "cell_type": "code",
   "execution_count": 166,
   "metadata": {
    "collapsed": false
   },
   "outputs": [
    {
     "data": {
      "text/plain": [
       "seed  L  LogSweeps\n",
       "2057  8  4            0.141148\n",
       "         5            0.144542\n",
       "         6            0.137473\n",
       "         7            0.142870\n",
       "         8            0.143321\n",
       "dtype: float64"
      ]
     },
     "execution_count": 166,
     "metadata": {},
     "output_type": "execute_result"
    }
   ],
   "source": [
    "samples.head()"
   ]
  },
  {
   "cell_type": "code",
   "execution_count": 169,
   "metadata": {
    "collapsed": false
   },
   "outputs": [],
   "source": [
    "width = (samples.groupby(level=['L','seed'], group_keys=False)\n",
    "                .apply(get_final))"
   ]
  },
  {
   "cell_type": "code",
   "execution_count": 170,
   "metadata": {
    "collapsed": false
   },
   "outputs": [],
   "source": [
    "qwidth = (width.groupby(level='seed')\n",
    "               .apply(lambda y: get_quotients(y.reset_index('seed', drop=True))))"
   ]
  },
  {
   "cell_type": "code",
   "execution_count": 171,
   "metadata": {
    "collapsed": false
   },
   "outputs": [],
   "source": [
    "qwidth_mean = qwidth.groupby(level=['s','L']).agg(['mean','std'])"
   ]
  },
  {
   "cell_type": "code",
   "execution_count": 172,
   "metadata": {
    "collapsed": false
   },
   "outputs": [],
   "source": [
    "qwidth_cov = qwidth.unstack(['s','L']).cov()"
   ]
  },
  {
   "cell_type": "code",
   "execution_count": 224,
   "metadata": {
    "collapsed": false
   },
   "outputs": [],
   "source": [
    "X = qwidth_mean.index\n",
    "y = qwidth_mean['mean']\n",
    "W = pinv(qwidth_cov)\n",
    "resids2 = sqresids(hyp_fix_omega(1))\n",
    "\n",
    "th, cov = leastsq(resids2, x0=[-2.5,1,1], \n",
    "                  args=(X, y, W),\n",
    "                  full_output=True)[:2]\n",
    "\n",
    "\n",
    "therr = sqrt(diag(cov))\n",
    "chi2 = sum(resids2(th, X, y, W))\n",
    "ndf = matrix_rank(W) - len(th)\n",
    "Q = 1 - stats.chi2.cdf(chi2, ndf)"
   ]
  },
  {
   "cell_type": "code",
   "execution_count": 225,
   "metadata": {
    "collapsed": false
   },
   "outputs": [
    {
     "data": {
      "text/plain": [
       "array([-2.44671272,  2.38495015,  2.01371165])"
      ]
     },
     "execution_count": 225,
     "metadata": {},
     "output_type": "execute_result"
    }
   ],
   "source": [
    "th"
   ]
  },
  {
   "cell_type": "code",
   "execution_count": 226,
   "metadata": {
    "collapsed": false
   },
   "outputs": [
    {
     "data": {
      "text/plain": [
       "array([ 0.01166539,  0.14380421,  0.16892204])"
      ]
     },
     "execution_count": 226,
     "metadata": {},
     "output_type": "execute_result"
    }
   ],
   "source": [
    "therr"
   ]
  },
  {
   "cell_type": "code",
   "execution_count": 227,
   "metadata": {
    "collapsed": false
   },
   "outputs": [
    {
     "data": {
      "text/plain": [
       "0.71261140408351076"
      ]
     },
     "execution_count": 227,
     "metadata": {},
     "output_type": "execute_result"
    }
   ],
   "source": [
    "Q"
   ]
  },
  {
   "cell_type": "code",
   "execution_count": 228,
   "metadata": {
    "collapsed": false
   },
   "outputs": [
    {
     "data": {
      "text/plain": [
       "<matplotlib.text.Text at 0x7f5cd4bb94e0>"
      ]
     },
     "execution_count": 228,
     "metadata": {},
     "output_type": "execute_result"
    },
    {
     "data": {
      "image/png": "[encoded data removed]",
      "text/plain": [
       "<matplotlib.figure.Figure at 0x7f5cd483e6d8>"
      ]
     },
     "metadata": {},
     "output_type": "display_data"
    }
   ],
   "source": [
    "z = th[0]\n",
    "C = th[1:]\n",
    "w = 1\n",
    "\n",
    "for (s, df), c in zip(qwidth_mean.groupby(level='s'), C):\n",
    "    df.reset_index(inplace=True)\n",
    "    errorbar(1/df['L'], df['mean'], df['std'], ls='')\n",
    "    x = linspace(0, xlim()[1])\n",
    "    plot(x, z + c*x**w)\n",
    "    \n",
    "    df.to_csv('../../data/qwidth-s{:02d}.csv'.format(int(10*s)), index=False)\n",
    "\n",
    "xlabel('$1/L$')"
   ]
  },
  {
   "cell_type": "code",
   "execution_count": 229,
   "metadata": {
    "collapsed": false
   },
   "outputs": [
    {
     "data": {
      "text/plain": [
       "yt        2.446713\n",
       "yt_err    0.011665\n",
       "C15       2.384950\n",
       "C20       2.013712\n",
       "dtype: float64"
      ]
     },
     "execution_count": 229,
     "metadata": {},
     "output_type": "execute_result"
    }
   ],
   "source": [
    "params = pd.Series([-th[0], therr[0],\n",
    "                    th[1], th[2]], \n",
    "                   index=['yt','yt_err',\n",
    "                          'C15','C20'])\n",
    "params"
   ]
  },
  {
   "cell_type": "code",
   "execution_count": 230,
   "metadata": {
    "collapsed": false
   },
   "outputs": [],
   "source": [
    "pd.DataFrame(params).T.to_csv('../../data/qwidth.fit.csv', index=False)"
   ]
  },
  {
   "cell_type": "markdown",
   "metadata": {
    "collapsed": true
   },
   "source": [
    "# $\\chi(T_c)$"
   ]
  },
  {
   "cell_type": "code",
   "execution_count": 253,
   "metadata": {
    "collapsed": false
   },
   "outputs": [
    {
     "data": {
      "text/html": [
       "<div>\n",
       "<table border=\"1\" class=\"dataframe\">\n",
       "  <thead>\n",
       "    <tr style=\"text-align: right;\">\n",
       "      <th></th>\n",
       "      <th></th>\n",
       "      <th></th>\n",
       "      <th></th>\n",
       "      <th>M2</th>\n",
       "      <th>M4</th>\n",
       "    </tr>\n",
       "    <tr>\n",
       "      <th>L</th>\n",
       "      <th>Temp</th>\n",
       "      <th>LogSweeps</th>\n",
       "      <th>Run</th>\n",
       "      <th></th>\n",
       "      <th></th>\n",
       "    </tr>\n",
       "  </thead>\n",
       "  <tbody>\n",
       "    <tr>\n",
       "      <th rowspan=\"5\" valign=\"top\">8</th>\n",
       "      <th rowspan=\"5\" valign=\"top\">8.77846</th>\n",
       "      <th rowspan=\"5\" valign=\"top\">4</th>\n",
       "      <th>0</th>\n",
       "      <td>0.000095</td>\n",
       "      <td>1.986094e-08</td>\n",
       "    </tr>\n",
       "    <tr>\n",
       "      <th>1</th>\n",
       "      <td>0.000102</td>\n",
       "      <td>1.622421e-08</td>\n",
       "    </tr>\n",
       "    <tr>\n",
       "      <th>2</th>\n",
       "      <td>0.000250</td>\n",
       "      <td>8.248400e-08</td>\n",
       "    </tr>\n",
       "    <tr>\n",
       "      <th>3</th>\n",
       "      <td>0.000125</td>\n",
       "      <td>3.724780e-08</td>\n",
       "    </tr>\n",
       "    <tr>\n",
       "      <th>4</th>\n",
       "      <td>0.000065</td>\n",
       "      <td>9.844944e-09</td>\n",
       "    </tr>\n",
       "  </tbody>\n",
       "</table>\n",
       "</div>"
      ],
      "text/plain": [
       "                               M2            M4\n",
       "L Temp    LogSweeps Run                        \n",
       "8 8.77846 4         0    0.000095  1.986094e-08\n",
       "                    1    0.000102  1.622421e-08\n",
       "                    2    0.000250  8.248400e-08\n",
       "                    3    0.000125  3.724780e-08\n",
       "                    4    0.000065  9.844944e-09"
      ]
     },
     "execution_count": 253,
     "metadata": {},
     "output_type": "execute_result"
    }
   ],
   "source": [
    "dataTc.head()"
   ]
  },
  {
   "cell_type": "code",
   "execution_count": 254,
   "metadata": {
    "collapsed": false
   },
   "outputs": [],
   "source": [
    "# get new data\n",
    "\n",
    "def get_size_seed(f):\n",
    "    L = int(re.search('L(\\d\\d)', f).group(1))\n",
    "    seed = int(re.search('(\\d{4})\\.data\\.txt', f).group(1))\n",
    "    return L, seed\n",
    "\n",
    "def make_consecutive_run(start=0):\n",
    "    def _(df):\n",
    "        seed = df.reset_index()['seed']\n",
    "        run = pd.Index(seed.rank('dense').astype(int) + start - 1, name='Run')\n",
    "        return df.reset_index('seed', drop=True).set_index(run, append=True)\n",
    "    return _\n",
    "\n",
    "kw = dict(delim_whitespace=True, index_col=['Temp','LogSweeps'])\n",
    "\n",
    "extra = pd.concat({get_size_seed(f): pd.read_table(f, **kw)\n",
    "                   for f in glob('f-k0-Tc/*.data.txt')}, names=['L','seed'])\n",
    "\n",
    "extra = extra[['M2','M4']]\n",
    "\n",
    "extra = (extra.groupby(level='L', group_keys=False)\n",
    "              .apply(make_consecutive_run(0))\n",
    "              .sortlevel())\n",
    "\n",
    "extra_ = extra.reset_index('Run')\n",
    "extra_['Run'] += 50\n",
    "extra = pd.concat((extra, extra_.set_index('Run', append=True)))"
   ]
  },
  {
   "cell_type": "code",
   "execution_count": 233,
   "metadata": {
    "collapsed": false
   },
   "outputs": [
    {
     "data": {
      "text/html": [
       "<div>\n",
       "<table border=\"1\" class=\"dataframe\">\n",
       "  <thead>\n",
       "    <tr style=\"text-align: right;\">\n",
       "      <th></th>\n",
       "      <th></th>\n",
       "      <th></th>\n",
       "      <th></th>\n",
       "      <th>M2</th>\n",
       "      <th>M4</th>\n",
       "    </tr>\n",
       "    <tr>\n",
       "      <th>L</th>\n",
       "      <th>Temp</th>\n",
       "      <th>LogSweeps</th>\n",
       "      <th>Run</th>\n",
       "      <th></th>\n",
       "      <th></th>\n",
       "    </tr>\n",
       "  </thead>\n",
       "  <tbody>\n",
       "    <tr>\n",
       "      <th rowspan=\"5\" valign=\"top\">48</th>\n",
       "      <th rowspan=\"5\" valign=\"top\">8.77846</th>\n",
       "      <th rowspan=\"5\" valign=\"top\">3</th>\n",
       "      <th>0</th>\n",
       "      <td>0.019039</td>\n",
       "      <td>0.000722</td>\n",
       "    </tr>\n",
       "    <tr>\n",
       "      <th>1</th>\n",
       "      <td>0.025554</td>\n",
       "      <td>0.001017</td>\n",
       "    </tr>\n",
       "    <tr>\n",
       "      <th>2</th>\n",
       "      <td>0.040262</td>\n",
       "      <td>0.002000</td>\n",
       "    </tr>\n",
       "    <tr>\n",
       "      <th>3</th>\n",
       "      <td>0.023024</td>\n",
       "      <td>0.000784</td>\n",
       "    </tr>\n",
       "    <tr>\n",
       "      <th>4</th>\n",
       "      <td>0.024666</td>\n",
       "      <td>0.000896</td>\n",
       "    </tr>\n",
       "  </tbody>\n",
       "</table>\n",
       "</div>"
      ],
      "text/plain": [
       "                                M2        M4\n",
       "L  Temp    LogSweeps Run                    \n",
       "48 8.77846 3         0    0.019039  0.000722\n",
       "                     1    0.025554  0.001017\n",
       "                     2    0.040262  0.002000\n",
       "                     3    0.023024  0.000784\n",
       "                     4    0.024666  0.000896"
      ]
     },
     "execution_count": 233,
     "metadata": {},
     "output_type": "execute_result"
    }
   ],
   "source": [
    "extra.head()"
   ]
  },
  {
   "cell_type": "code",
   "execution_count": 271,
   "metadata": {
    "collapsed": false
   },
   "outputs": [],
   "source": [
    "dataTc_ = pd.concat((dataTc, extra))"
   ]
  },
  {
   "cell_type": "code",
   "execution_count": 255,
   "metadata": {
    "collapsed": false
   },
   "outputs": [],
   "source": [
    "dataTc_ = dataTc"
   ]
  },
  {
   "cell_type": "code",
   "execution_count": 273,
   "metadata": {
    "collapsed": false
   },
   "outputs": [],
   "source": [
    "chiTc = (dataTc_.eval('L**5 * M2')\n",
    "                .reset_index('Temp', drop=True))"
   ]
  },
  {
   "cell_type": "code",
   "execution_count": 284,
   "metadata": {
    "collapsed": false
   },
   "outputs": [
    {
     "data": {
      "text/plain": [
       "L  LogSweeps  Run\n",
       "8  4          0      3.098694\n",
       "              1      3.356597\n",
       "              2      8.208312\n",
       "              3      4.097717\n",
       "              4      2.125229\n",
       "dtype: float64"
      ]
     },
     "execution_count": 284,
     "metadata": {},
     "output_type": "execute_result"
    }
   ],
   "source": [
    "chiTc.head()"
   ]
  },
  {
   "cell_type": "code",
   "execution_count": 300,
   "metadata": {
    "collapsed": false
   },
   "outputs": [],
   "source": [
    "def get_mean(df):\n",
    "    return df.groupby(level=['L','LogSweeps']).mean()\n",
    "\n",
    "seeds = pd.Index(random_integers(1e5, size=100), name='seed')\n",
    "bs = BootstrapSampler(chiTc, ['L','LogSweeps'], get_mean)\n",
    "\n",
    "with mp.Pool(4) as p:\n",
    "    samples = p.map(bs, seeds)\n",
    "\n",
    "samples = pd.concat(samples, keys=seeds, names=['seed'])"
   ]
  },
  {
   "cell_type": "code",
   "execution_count": 323,
   "metadata": {
    "collapsed": false
   },
   "outputs": [
    {
     "data": {
      "text/plain": [
       "seed   L  LogSweeps\n",
       "84253  8  4            11.214308\n",
       "          5            12.434538\n",
       "          6            11.972600\n",
       "          7            11.573935\n",
       "          8            12.046746\n",
       "dtype: float64"
      ]
     },
     "execution_count": 323,
     "metadata": {},
     "output_type": "execute_result"
    }
   ],
   "source": [
    "samples.head()"
   ]
  },
  {
   "cell_type": "code",
   "execution_count": 324,
   "metadata": {
    "collapsed": true
   },
   "outputs": [],
   "source": [
    "samples_final = (samples.groupby(level='L', group_keys=False)\n",
    "                        .apply(get_final)).sortlevel()"
   ]
  },
  {
   "cell_type": "code",
   "execution_count": 325,
   "metadata": {
    "collapsed": false
   },
   "outputs": [],
   "source": [
    "qchiTc = (samples_final.groupby(level='seed')\n",
    "                       .apply(lambda y: get_quotients(y.reset_index('seed', drop=True))))"
   ]
  },
  {
   "cell_type": "code",
   "execution_count": 326,
   "metadata": {
    "collapsed": false
   },
   "outputs": [
    {
     "data": {
      "text/plain": [
       "seed  s    L \n",
       "331   1.5  8     1.501826\n",
       "           12    1.598936\n",
       "           16    1.654402\n",
       "           24    1.749513\n",
       "           32    1.798688\n",
       "Name: Q, dtype: float64"
      ]
     },
     "execution_count": 326,
     "metadata": {},
     "output_type": "execute_result"
    }
   ],
   "source": [
    "qchiTc.head()"
   ]
  },
  {
   "cell_type": "code",
   "execution_count": 335,
   "metadata": {
    "collapsed": false
   },
   "outputs": [],
   "source": [
    "qchiTc_mean = qchiTc.groupby(level=['s','L']).agg(['mean','std'])"
   ]
  },
  {
   "cell_type": "code",
   "execution_count": 336,
   "metadata": {
    "collapsed": true
   },
   "outputs": [],
   "source": [
    "qchiTc_cov = qchiTc.unstack(['s','L']).cov()"
   ]
  },
  {
   "cell_type": "code",
   "execution_count": 337,
   "metadata": {
    "collapsed": true
   },
   "outputs": [],
   "source": [
    "def hyp_fix_omega_quad(w):\n",
    "    def _hypothesis(X, th):\n",
    "        z, C, D = th[0], th[1::2], th[2::2]\n",
    "        return array([z + C[i]/L**w + D[i]/L**(2*w) \n",
    "                      for i, (_, L) in zip(X.labels[0], X.values)])\n",
    "    return _hypothesis"
   ]
  },
  {
   "cell_type": "code",
   "execution_count": 338,
   "metadata": {
    "collapsed": false
   },
   "outputs": [],
   "source": [
    "X = qchiTc_mean.index\n",
    "y = qchiTc_mean['mean']\n",
    "W = pinv(qchiTc_cov)\n",
    "#W = diag(1/qchiTc_mean['sem']**2) # neglect correlations\n",
    "resids2 = sqresids(hyp_fix_omega_quad(1))\n",
    "\n",
    "th, cov = leastsq(resids2, x0=[2,1,1,1,1], \n",
    "                  args=(X, y, W),\n",
    "                  full_output=True)[:2]\n",
    "\n",
    "therr = sqrt(diag(cov))\n",
    "chi2 = sum(resids2(th, X, y, W))\n",
    "ndf = matrix_rank(W) - len(th)\n",
    "Q = 1 - stats.chi2.cdf(chi2, ndf)"
   ]
  },
  {
   "cell_type": "code",
   "execution_count": 346,
   "metadata": {
    "collapsed": false
   },
   "outputs": [
    {
     "data": {
      "text/plain": [
       "<matplotlib.legend.Legend at 0x7f5cd4325f98>"
      ]
     },
     "execution_count": 346,
     "metadata": {},
     "output_type": "execute_result"
    },
    {
     "data": {
      "image/png": "[encoded data removed]",
      "text/plain": [
       "<matplotlib.figure.Figure at 0x7f5cd4365208>"
      ]
     },
     "metadata": {},
     "output_type": "display_data"
    }
   ],
   "source": [
    "z = th[0]\n",
    "C = th[1::2]\n",
    "D = th[2::2]\n",
    "w = 1\n",
    "\n",
    "for (s, df), c, d in zip(qchiTc_mean.groupby(level='s'), C, D):\n",
    "    df.reset_index(inplace=True)\n",
    "    errorbar(1/df['L'], df['mean'], df['std'], \n",
    "             label='{}'.format(s), ls='')\n",
    "    x = linspace(0, xlim()[1])\n",
    "    plot(x, z + c*x**w + d*x**(2*w))\n",
    "    \n",
    "    df.to_csv('../../data/qchiTc-s{:02d}.csv'.format(int(10*s)), index=False)\n",
    "\n",
    "xlabel('$1/L$')\n",
    "legend()"
   ]
  },
  {
   "cell_type": "code",
   "execution_count": 341,
   "metadata": {
    "collapsed": false
   },
   "outputs": [
    {
     "data": {
      "text/plain": [
       "array([  1.96674726,  -6.04687849,  18.09460331,  -5.37737618,  16.25925612])"
      ]
     },
     "execution_count": 341,
     "metadata": {},
     "output_type": "execute_result"
    }
   ],
   "source": [
    "th"
   ]
  },
  {
   "cell_type": "code",
   "execution_count": 342,
   "metadata": {
    "collapsed": false
   },
   "outputs": [
    {
     "data": {
      "text/plain": [
       "array([ 0.01204773,  0.30823047,  1.78976873,  0.39372403,  2.67087824])"
      ]
     },
     "execution_count": 342,
     "metadata": {},
     "output_type": "execute_result"
    }
   ],
   "source": [
    "therr"
   ]
  },
  {
   "cell_type": "code",
   "execution_count": 343,
   "metadata": {
    "collapsed": false
   },
   "outputs": [
    {
     "data": {
      "text/plain": [
       "0.40021221155632958"
      ]
     },
     "execution_count": 343,
     "metadata": {},
     "output_type": "execute_result"
    }
   ],
   "source": [
    "Q"
   ]
  },
  {
   "cell_type": "code",
   "execution_count": 344,
   "metadata": {
    "collapsed": false
   },
   "outputs": [
    {
     "data": {
      "text/plain": [
       "yt         1.966747\n",
       "yt_err     0.012048\n",
       "C15       -6.046878\n",
       "D15       18.094603\n",
       "C20       -5.377376\n",
       "D20       16.259256\n",
       "dtype: float64"
      ]
     },
     "execution_count": 344,
     "metadata": {},
     "output_type": "execute_result"
    }
   ],
   "source": [
    "params = pd.Series([th[0], therr[0]] + list(th[1:]),\n",
    "                   index=['yt','yt_err',\n",
    "                          'C15','D15',\n",
    "                          'C20','D20'])\n",
    "params"
   ]
  },
  {
   "cell_type": "code",
   "execution_count": 345,
   "metadata": {
    "collapsed": false
   },
   "outputs": [],
   "source": [
    "pd.DataFrame(params).T.to_csv('../../data/qchiTc.fit.csv', index=False)"
   ]
  },
  {
   "cell_type": "code",
   "execution_count": null,
   "metadata": {
    "collapsed": true
   },
   "outputs": [],
   "source": []
  }
 ],
 "metadata": {
  "kernelspec": {
   "display_name": "Python 3",
   "language": "python",
   "name": "python3"
  },
  "language_info": {
   "codemirror_mode": {
    "name": "ipython",
    "version": 3
   },
   "file_extension": ".py",
   "mimetype": "text/x-python",
   "name": "python",
   "nbconvert_exporter": "python",
   "pygments_lexer": "ipython3",
   "version": "3.4.3"
  }
 },
 "nbformat": 4,
 "nbformat_minor": 0
}
